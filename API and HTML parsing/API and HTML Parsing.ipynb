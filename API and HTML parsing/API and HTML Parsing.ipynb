{
 "cells": [
  {
   "cell_type": "markdown",
   "id": "b7898519",
   "metadata": {},
   "source": [
    "# DSC540 - Week 9 and Week 10 Exercises\n",
    "## Janine Par \n",
    "\n",
    "\n",
    "## Exercise 1_ Activity 9: Top 100 ebooks' name extraction from Gutenberg.org"
   ]
  },
  {
   "cell_type": "markdown",
   "id": "15fe92d8",
   "metadata": {},
   "source": [
    "### Import necessary libraries including regex, and beautifulsoup"
   ]
  },
  {
   "cell_type": "code",
   "execution_count": 71,
   "id": "0970c5a6",
   "metadata": {},
   "outputs": [],
   "source": [
    "import urllib.request, urllib.parse, urllib.error\n",
    "import requests\n",
    "from bs4 import BeautifulSoup\n",
    "import ssl\n",
    "import re"
   ]
  },
  {
   "cell_type": "markdown",
   "id": "0a3dd302",
   "metadata": {},
   "source": [
    "### Ignore SSL errors (this code will be given)"
   ]
  },
  {
   "cell_type": "code",
   "execution_count": 72,
   "id": "d758544d",
   "metadata": {},
   "outputs": [],
   "source": [
    "# Ignore SSL certificate errors\n",
    "ctx = ssl.create_default_context()\n",
    "ctx.check_hostname = False\n",
    "ctx.verify_mode = ssl.CERT_NONE"
   ]
  },
  {
   "cell_type": "markdown",
   "id": "2760a9c8",
   "metadata": {},
   "source": [
    "### Read the HTML from the URL\n"
   ]
  },
  {
   "cell_type": "code",
   "execution_count": 73,
   "id": "fed4bf39",
   "metadata": {},
   "outputs": [],
   "source": [
    "gutenberg_ul ='https://www.gutenberg.org/browse/scores/top'\n"
   ]
  },
  {
   "cell_type": "markdown",
   "id": "ea8c39c0",
   "metadata": {},
   "source": [
    "### Write a small function to check the status of web request"
   ]
  },
  {
   "cell_type": "code",
   "execution_count": 74,
   "id": "9e0189c3",
   "metadata": {},
   "outputs": [],
   "source": [
    "def status_check(url):\n",
    "        if url.status_code==200:\n",
    "            print('Successful Response')\n",
    "            return 0\n",
    "        else:\n",
    "            print('Failure Response')\n",
    "            return 1           "
   ]
  },
  {
   "cell_type": "code",
   "execution_count": 75,
   "id": "c75c6800",
   "metadata": {},
   "outputs": [
    {
     "name": "stdout",
     "output_type": "stream",
     "text": [
      "Successful Response\n"
     ]
    },
    {
     "data": {
      "text/plain": [
       "0"
      ]
     },
     "execution_count": 75,
     "metadata": {},
     "output_type": "execute_result"
    }
   ],
   "source": [
    "response=requests.get(gutenberg_ul)\n",
    "status_check(response)"
   ]
  },
  {
   "cell_type": "markdown",
   "id": "dc95b0cb",
   "metadata": {},
   "source": [
    "### Decode the response and pass on to `BeautifulSoup` for HTML parsing"
   ]
  },
  {
   "cell_type": "code",
   "execution_count": 78,
   "id": "7dfc1dba",
   "metadata": {},
   "outputs": [
    {
     "data": {
      "text/plain": [
       "'<!DOCTYPE html>\\n<html class=\"client-nojs\" lang=\"en\" dir=\"ltr\">\\n<head>\\n <meta charset=\"UTF-8\"/>\\n\\n<title>Top 100 | Project Gutenberg</title>\\n <link rel=\"stylesheet\" href=\"/gutenberg/style.css?v=1.1\">\\n <link rel=\"stylesheet\" href=\"/gutenberg/collapsible.css?1.1\">\\n <link rel=\"stylesheet\" href=\"/gutenberg/new_nav.css?v=1.321231\">\\n<link rel=\"stylesheet\" href=\"/gutenberg/pg-desktop-one.css\">\\n <meta name=\"viewport\" content=\"width=device-width, initial-scale=1\">\\n <meta name=\"keywords\" content=\"books, ebooks, free, kindle, android, iphone, ipad\"/>\\n <meta name=\"google-site-verification\" content=\"wucOEvSnj5kP3Ts_36OfP64laakK-1mVTg-ptrGC9io\"/>\\n <meta name=\"alexaVerifyID\" content=\"4WNaCljsE-A82vP_ih2H_UqXZvM\"/>\\n <link rel=\"copyright\" href=\"https://www.gnu.org/copyleft/fdl.html\"/>\\n <link rel=\"shortcut icon\" href=\"/gutenberg/favicon.ico?v=1.1\"/>\\n\\n <meta property=\"og:title\"        content=\"Project Gutenberg\" />\\n <meta property=\"og:type\"         content=\"website\" />\\n <meta property=\"og:url\"          content=\"https://www.gutenberg.org/\" />\\n <meta property=\"og:description\"  content=\"Project Gutenberg is a library of free eBooks.\" />\\n <meta property=\"fb:admins\"       content=\"615269807\" />\\n <meta property=\"fb:app_id\"       content=\"115319388529183\" />\\n <meta property=\"og:site_name\"    content=\"Project Gutenberg\" />\\n <meta property=\"og:image\"        content=\"https://www.gutenberg.org/gutenberg/pg-logo-144x144.png\" />\\n </head>\\n <body>\\n  <div class=\"container\"><!-- start body --><nav>\\n  <!--<div id=\"main_logo\"> -->\\n  <a id=\"main_logo\" href=\"/\" class=\"no-hover\">\\n    <img src=\"/gutenberg/pg-logo-129x80.png\" alt=\"Project Gutenberg\" draggable=\"false\" />\\n  </a>\\n  <!--\\t</div>-->\\n  <div id=\"menu\">\\n    <label for=\"tm\" id=\"toggle-menu\">Menu<span class=\"drop-icon\">&#9662;</span></label>\\n    <input type=\"checkbox\" id=\"tm\" />\\n    <ul class=\"main-menu cf\">\\n      <li>\\n\\t<a href=\"/about/\">About\\n          <span class=\"drop-icon\">&#9662;</span>\\n      \\t</a>\\n        <label title=\"Toggle Drop-down\" class=\"drop-icon\" for=\"sm0\">&#9662;</label>\\n     \\t<input type=\"checkbox\" id=\"sm0\" />\\n     \\t<ul class=\"sub-menu\">\\n\\t  <li><a href=\"/about/\">About Project Gutenberg</a></li>\\n          <li><a href=\"/policy/collection_development.html\">Collection Development</a></li>\\n          <li><a href=\"/about/contact_information.html\">Contact Us</a></li>\\n          <li><a href=\"/about/background/\">History &amp; Philosophy</a></li>\\n          <li><a href=\"/policy/permission.html\">Permissions &amp; License</a></li>\\n          <li><a href=\"/policy/privacy_policy.html\">Privacy Policy</a></li>\\n          <li><a href=\"/policy/terms_of_use.html\">Terms of Use</a></li>\\n\\t</ul>\\n      </li>\\n      <li>\\n\\t<a href=\"/ebooks/\">Search and Browse\\n      \\t  <span class=\"drop-icon\">&#9662;</span>\\n      \\t</a>\\n\\t<label title=\"Toggle Drop-down\" class=\"drop-icon\" for=\"sm8\">&#9662;</label>\\n        <input type=\"checkbox\" id=\"sm8\" />\\n        <ul class=\"sub-menu\">\\n\\t  <li><a href=\"/ebooks/\">Book Search</a></li>\\n\\t  <li><a href=\"/ebooks/bookshelf/\">Bookshelves</a></li>\\n\\t  <li><a href=\"/browse/scores/top\">Frequently Downloaded</a></li>\\n\\t  <li><a href=\"/ebooks/offline_catalogs.html\">Offline Catalogs</a></li>\\n\\t</ul>\\n      </li>\\n      <li>\\n\\t<a href=\"/help/\">Help\\n          <span class=\"drop-icon\">&#9662;</span>\\n   \\t</a>\\n         <label title=\"Toggle Drop-down\" class=\"drop-icon\" for=\"sm3\">&#9662;</label>\\n   \\t<input type=\"checkbox\" id=\"sm3\" />\\n    \\t<ul class=\"sub-menu\">\\n          <li><a href=\"/help/\">All help topics &rarr;</a></li>\\n          <li><a href=\"/help/copyright.html\">Copyright How-To</a></li>\\n          <li><a href=\"/help/errata.html\">Errata, Fixes and Bug Reports</a></li>\\n          <li><a href=\"/help/file_formats.html\">File Formats</a></li>\\n          <li><a href=\"/help/faq.html\">Frequently Asked Questions</a></li>\\n          <li><a href=\"/policy/\">Policies &rarr;</a></li>\\n          <li><a href=\"/help/public_domain_ebook_submission.html\">Public Domain eBook Submission</a></li>\\n          <li><a href=\"/help/submitting_your_own_work.html\">Submitting Your Own Work</a></li>\\n          <li><a href=\"/help/mobile.html\">Tablets, Phones and eReaders</a></li>\\n          <li><a href=\"/attic/\">The Attic &rarr;</a></li>\\n        </ul>\\n      </li>\\n      <li><a href=\"/donate/\">Donate</a></li>\\n    </ul>\\n  </div>\\n  <div class=\"donate\">\\n  <div class=\"searchbox\">\\n    <form method=\"get\" action=\"/ebooks/search/\" accept-charset=\"utf-8\" enctype=\"multipart/form-data\" class=\"searchbox\">\\n      <input type=\"text\" value=\"\" id=\"menu-book-search\" name=\"query\" class=\"searchInput\" title=\"Quick search\" tabindex=\"20\" size=\"20\" maxlength=\"80\" placeholder=\"  Quick search\" />\\n      <input type=\"submit\" name=\"submit_search\" value=\"Go!\" style=\"vertical-align:middle;\" />\\n    </form>\\n  </div>\\n    <form class=\"donatelink\" action=\"https://www.paypal.com/cgi-bin/webscr\" method=\"post\" target=\"new\">\\n      <p><a href=\"/donate/\">Donation</a></p>\\n      <input type=\"hidden\" name=\"cmd\" value=\"_s-xclick\" />\\n      <input type=\"hidden\" name=\"hosted_button_id\" value=\"XKAL6BZL3YPSN\" />\\n      <input class=\"donbtn\" type=\"image\" src=\"/pics/en_US.gif\" name=\"submit\" alt=\"Donate via PayPal\" />\\n    </form>\\n  </div>\\n</nav>\\n  <div class=\"page_content\"><!-- start content -->\\t\\n<h1>Frequently Viewed or Downloaded</h1>\\n<p>These listings are based on the number of times each eBook gets downloaded.\\n      Multiple downloads from the same Internet address on the same day count as one download, and addresses that download more than 100 eBooks in a day are considered robots and are not counted.</p>\\n\\n<table>\\n  <caption>Downloaded Books</caption>\\n  <tr><th>2023-05-18</th><td class=\"right\">233750</td></tr>\\n  <tr><th>last 7 days</th><td class=\"right\">1577015</td></tr>\\n  <tr><th>last 30 days</th><td class=\"right\">7554399</td></tr>\\n</table>\\n <div class=\"padded\">\\n  <ul>\\n   <li><a href=\"#books-last1\">Top 100 EBooks yesterday</a></li>\\n   <li><a href=\"#authors-last1\">Top 100 Authors yesterday</a></li>\\n   <li><a href=\"#books-last7\">Top 100 EBooks last 7 days</a></li>\\n   <li><a href=\"#authors-last7\">Top 100 Authors last 7 days</a></li>\\n   <li><a href=\"#books-last30\">Top 100 EBooks last 30 days</a></li>\\n   <li><a href=\"#authors-last30\">Top 100 Authors last 30 days</li>\\n  </ul>\\n </div>\\n<h2 id=\"books-last1\">Top 100 EBooks yesterday</h2>\\n\\n<ol>\\n<li><a href=\"/ebooks/1513\">Romeo and Juliet by William Shakespeare (3069)</a></li>\\n<li><a href=\"/ebooks/2701\">Moby Dick; Or, The Whale by Herman Melville (2754)</a></li>\\n<li><a href=\"/ebooks/2641\">A Room with a View by E. M.  Forster (2517)</a></li>\\n<li><a href=\"/ebooks/145\">Middlemarch by George Eliot (2391)</a></li>\\n<li><a href=\"/ebooks/100\">The Complete Works of William Shakespeare by William Shakespeare (2331)</a></li>\\n<li><a href=\"/ebooks/37106\">Little Women; Or, Meg, Jo, Beth, and Amy by Louisa May Alcott (2313)</a></li>\\n<li><a href=\"/ebooks/16389\">The Enchanted April by Elizabeth Von Arnim (2205)</a></li>\\n<li><a href=\"/ebooks/6593\">History of Tom Jones, a Foundling by Henry Fielding (2202)</a></li>\\n<li><a href=\"/ebooks/67979\">The Blue Castle: a novel by L. M.  Montgomery (2178)</a></li>\\n<li><a href=\"/ebooks/1342\">Pride and Prejudice by Jane Austen (2122)</a></li>\\n<li><a href=\"/ebooks/394\">Cranford by Elizabeth Cleghorn Gaskell (2094)</a></li>\\n<li><a href=\"/ebooks/6761\">The Adventures of Ferdinand Count Fathom — Complete by T.  Smollett (2087)</a></li>\\n<li><a href=\"/ebooks/2160\">The Expedition of Humphry Clinker by T.  Smollett (2062)</a></li>\\n<li><a href=\"/ebooks/4085\">The Adventures of Roderick Random by T.  Smollett (2057)</a></li>\\n<li><a href=\"/ebooks/1259\">Twenty Years After by Alexandre Dumas (2005)</a></li>\\n<li><a href=\"/ebooks/1512\">King Richard II by William Shakespeare (1988)</a></li>\\n<li><a href=\"/ebooks/5197\">My Life — Volume 1 by Richard Wagner (1978)</a></li>\\n<li><a href=\"/ebooks/84\">Frankenstein; Or, The Modern Prometheus by Mary Wollstonecraft Shelley (1976)</a></li>\\n<li><a href=\"/ebooks/64317\">The Great Gatsby by F. Scott  Fitzgerald (1069)</a></li>\\n<li><a href=\"/ebooks/11\">Alice\\'s Adventures in Wonderland by Lewis Carroll (1002)</a></li>\\n<li><a href=\"/ebooks/20228\">Noli Me Tangere by José Rizal (1000)</a></li>\\n<li><a href=\"/ebooks/47629\">Ang \"Filibusterismo\" (Karugtóng ng Noli Me Tangere) by José Rizal (933)</a></li>\\n<li><a href=\"/ebooks/70788\">The \"Canary\" Murder Case by S. S. Van Dine (898)</a></li>\\n<li><a href=\"/ebooks/844\">The Importance of Being Earnest: A Trivial Comedy for Serious People by Oscar Wilde (885)</a></li>\\n<li><a href=\"/ebooks/98\">A Tale of Two Cities by Charles Dickens (848)</a></li>\\n<li><a href=\"/ebooks/174\">The Picture of Dorian Gray by Oscar Wilde (816)</a></li>\\n<li><a href=\"/ebooks/345\">Dracula by Bram Stoker (717)</a></li>\\n<li><a href=\"/ebooks/2542\">A Doll\\'s House : a play by Henrik Ibsen (704)</a></li>\\n<li><a href=\"/ebooks/42108\">The slang dictionary : by John Camden Hotten (642)</a></li>\\n<li><a href=\"/ebooks/1952\">The Yellow Wallpaper by Charlotte Perkins Gilman (625)</a></li>\\n<li><a href=\"/ebooks/5200\">Metamorphosis by Franz Kafka (583)</a></li>\\n<li><a href=\"/ebooks/70790\">The spiritual exercises of St. Ignatius adapted to an eight days retreat and six triduums in prepara (564)</a></li>\\n<li><a href=\"/ebooks/55\">The Wonderful Wizard of Oz by L. Frank  Baum (551)</a></li>\\n<li><a href=\"/ebooks/1400\">Great Expectations by Charles Dickens (548)</a></li>\\n<li><a href=\"/ebooks/1080\">A Modest Proposal by Jonathan Swift (531)</a></li>\\n<li><a href=\"/ebooks/1661\">The Adventures of Sherlock Holmes by Arthur Conan Doyle (498)</a></li>\\n<li><a href=\"/ebooks/25344\">The Scarlet Letter by Nathaniel Hawthorne (495)</a></li>\\n<li><a href=\"/ebooks/76\">Adventures of Huckleberry Finn by Mark Twain (486)</a></li>\\n<li><a href=\"/ebooks/43\">The Strange Case of Dr. Jekyll and Mr. Hyde by Robert Louis Stevenson (480)</a></li>\\n<li><a href=\"/ebooks/28054\">The Brothers Karamazov by Fyodor Dostoyevsky (475)</a></li>\\n<li><a href=\"/ebooks/1184\">The Count of Monte Cristo, Illustrated by Alexandre Dumas (463)</a></li>\\n<li><a href=\"/ebooks/10676\">The Reign of Greed by José Rizal (460)</a></li>\\n<li><a href=\"/ebooks/4300\">Ulysses by James Joyce (447)</a></li>\\n<li><a href=\"/ebooks/2554\">Crime and Punishment by Fyodor Dostoyevsky (446)</a></li>\\n<li><a href=\"/ebooks/27827\">The Kama Sutra of Vatsyayana by Vatsyayana (422)</a></li>\\n<li><a href=\"/ebooks/1260\">Jane Eyre: An Autobiography by Charlotte Brontë (398)</a></li>\\n<li><a href=\"/ebooks/70784\">Money and trade considered : by John Law (397)</a></li>\\n<li><a href=\"/ebooks/1232\">The Prince by Niccolò Machiavelli (392)</a></li>\\n<li><a href=\"/ebooks/35899\">The Philippines a Century Hence by José Rizal (392)</a></li>\\n<li><a href=\"/ebooks/6130\">The Iliad by Homer (391)</a></li>\\n<li><a href=\"/ebooks/2600\">War and Peace by graf Leo Tolstoy (388)</a></li>\\n<li><a href=\"/ebooks/70787\">Under the absolute Amir by Frank A. Martin (386)</a></li>\\n<li><a href=\"/ebooks/74\">The Adventures of Tom Sawyer, Complete by Mark Twain (379)</a></li>\\n<li><a href=\"/ebooks/15845\">Florante at Laura by Francisco Balagtas (371)</a></li>\\n<li><a href=\"/ebooks/2591\">Grimms\\' Fairy Tales by Jacob Grimm and Wilhelm Grimm (368)</a></li>\\n<li><a href=\"/ebooks/120\">Treasure Island by Robert Louis Stevenson (365)</a></li>\\n<li><a href=\"/ebooks/1727\">The Odyssey by Homer (351)</a></li>\\n<li><a href=\"/ebooks/996\">Don Quixote by Miguel de Cervantes Saavedra (349)</a></li>\\n<li><a href=\"/ebooks/4363\">Beyond Good and Evil by Friedrich Wilhelm Nietzsche (346)</a></li>\\n<li><a href=\"/ebooks/45\">Anne of Green Gables by L. M.  Montgomery (334)</a></li>\\n<li><a href=\"/ebooks/46\">A Christmas Carol in Prose; Being a Ghost Story of Christmas by Charles Dickens (323)</a></li>\\n<li><a href=\"/ebooks/70791\">The highest aim of the physicist by Henry A. Rowland (323)</a></li>\\n<li><a href=\"/ebooks/514\">Little Women by Louisa May Alcott (313)</a></li>\\n<li><a href=\"/ebooks/768\">Wuthering Heights by Emily Brontë (311)</a></li>\\n<li><a href=\"/ebooks/30254\">The Romance of Lust: A classic Victorian erotic novel by Anonymous (302)</a></li>\\n<li><a href=\"/ebooks/70793\">The foundations of Einstein\\'s theory of gravitation by Erwin Freundlich (300)</a></li>\\n<li><a href=\"/ebooks/408\">The Souls of Black Folk by W. E. B.  Du Bois (291)</a></li>\\n<li><a href=\"/ebooks/236\">The Jungle Book by Rudyard Kipling (284)</a></li>\\n<li><a href=\"/ebooks/58585\">The Prophet by Kahlil Gibran (282)</a></li>\\n<li><a href=\"/ebooks/2148\">The Works of Edgar Allan Poe — Volume 2 by Edgar Allan Poe (281)</a></li>\\n<li><a href=\"/ebooks/2680\">Meditations by Emperor of Rome Marcus Aurelius (279)</a></li>\\n<li><a href=\"/ebooks/2852\">The Hound of the Baskervilles by Arthur Conan Doyle (278)</a></li>\\n<li><a href=\"/ebooks/13806\">Overland through Asia; Pictures of Siberian, Chinese, and Tartar Life by Thomas Wallace Knox (277)</a></li>\\n<li><a href=\"/ebooks/36\">The War of the Worlds by H. G.  Wells (275)</a></li>\\n<li><a href=\"/ebooks/23042\">The Tempest by William Shakespeare (274)</a></li>\\n<li><a href=\"/ebooks/158\">Emma by Jane Austen (272)</a></li>\\n<li><a href=\"/ebooks/2500\">Siddhartha by Hermann Hesse (269)</a></li>\\n<li><a href=\"/ebooks/67098\">Winnie-the-Pooh by A. A.  Milne (265)</a></li>\\n<li><a href=\"/ebooks/219\">Heart of Darkness by Joseph Conrad (264)</a></li>\\n<li><a href=\"/ebooks/1998\">Thus Spake Zarathustra: A Book for All and None by Friedrich Wilhelm Nietzsche (259)</a></li>\\n<li><a href=\"/ebooks/16\">Peter Pan by J. M.  Barrie (258)</a></li>\\n<li><a href=\"/ebooks/5740\">Tractatus Logico-Philosophicus by Ludwig Wittgenstein (258)</a></li>\\n<li><a href=\"/ebooks/3206\">Moby Multiple Language Lists of Common Words by Grady Ward (257)</a></li>\\n<li><a href=\"/ebooks/70785\">Falcon, of Squawtooth : by Arthur Preston Hankins (251)</a></li>\\n<li><a href=\"/ebooks/1399\">Anna Karenina by graf Leo Tolstoy (250)</a></li>\\n<li><a href=\"/ebooks/244\">A Study in Scarlet by Arthur Conan Doyle (250)</a></li>\\n<li><a href=\"/ebooks/35\">The Time Machine by H. G.  Wells (248)</a></li>\\n<li><a href=\"/ebooks/1497\">The Republic by Plato (243)</a></li>\\n<li><a href=\"/ebooks/205\">Walden, and On The Duty Of Civil Disobedience by Henry David Thoreau (242)</a></li>\\n<li><a href=\"/ebooks/70783\">Uncle Wiggily\\'s funny auto : by Howard Roger Garis (240)</a></li>\\n<li><a href=\"/ebooks/8800\">The divine comedy by Dante Alighieri (237)</a></li>\\n<li><a href=\"/ebooks/24869\">The Rámáyan of Válmíki, translated into English verse by Valmiki (236)</a></li>\\n<li><a href=\"/ebooks/2814\">Dubliners by James Joyce (235)</a></li>\\n<li><a href=\"/ebooks/730\">Oliver Twist by Charles Dickens (228)</a></li>\\n<li><a href=\"/ebooks/161\">Sense and Sensibility by Jane Austen (225)</a></li>\\n<li><a href=\"/ebooks/135\">Les Misérables by Victor Hugo (221)</a></li>\\n<li><a href=\"/ebooks/43453\">A Pickle for the Knowing Ones by Timothy Dexter (220)</a></li>\\n<li><a href=\"/ebooks/132\">The Art of War by active 6th century B.C. Sunzi (219)</a></li>\\n<li><a href=\"/ebooks/33283\">Calculus Made Easy by Silvanus P.  Thompson (218)</a></li>\\n<li><a href=\"/ebooks/3207\">Leviathan by Thomas Hobbes (211)</a></li>\\n</ol>\\n <div class=\"padded\">\\n  <ul>\\n   <li><a href=\"#books-last1\">Top 100 EBooks yesterday</a></li>\\n   <li><a href=\"#authors-last1\">Top 100 Authors yesterday</a></li>\\n   <li><a href=\"#books-last7\">Top 100 EBooks last 7 days</a></li>\\n   <li><a href=\"#authors-last7\">Top 100 Authors last 7 days</a></li>\\n   <li><a href=\"#books-last30\">Top 100 EBooks last 30 days</a></li>\\n   <li><a href=\"#authors-last30\">Top 100 Authors last 30 days</li>\\n  </ul>\\n </div>\\n<h2 id=\"authors-last1\">Top 100 Authors yesterday</h2>\\n\\n<ol>\\n<li><a href=\"/browse/authors/s#a65\">Shakespeare, William (9459)</a></li>\\n<li><a href=\"/browse/authors/s#a838\">Smollett, T. (Tobias) (6269)</a></li>\\n<li><a href=\"/browse/authors/a#a68\">Austen, Jane (3377)</a></li>\\n<li><a href=\"/browse/authors/r#a2183\">Rizal, José (3314)</a></li>\\n<li><a href=\"/browse/authors/d#a37\">Dickens, Charles (3230)</a></li>\\n<li><a href=\"/browse/authors/m#a36\">Montgomery, L. M. (Lucy Maud) (3090)</a></li>\\n<li><a href=\"/browse/authors/m#a9\">Melville, Herman (3060)</a></li>\\n<li><a href=\"/browse/authors/d#a492\">Dumas, Alexandre (2981)</a></li>\\n<li><a href=\"/browse/authors/a#a102\">Alcott, Louisa May (2895)</a></li>\\n<li><a href=\"/browse/authors/f#a975\">Forster, E. M. (Edward Morgan) (2746)</a></li>\\n<li><a href=\"/browse/authors/e#a90\">Eliot, George (2669)</a></li>\\n<li><a href=\"/browse/authors/w#a111\">Wilde, Oscar (2421)</a></li>\\n<li><a href=\"/browse/authors/t#a53\">Twain, Mark (2369)</a></li>\\n<li><a href=\"/browse/authors/m#a6202\">Merrill, Frank T. (2356)</a></li>\\n<li><a href=\"/browse/authors/g#a220\">Gaskell, Elizabeth Cleghorn (2344)</a></li>\\n<li><a href=\"/browse/authors/s#a61\">Shelley, Mary Wollstonecraft (2291)</a></li>\\n<li><a href=\"/browse/authors/f#a537\">Fielding, Henry (2269)</a></li>\\n<li><a href=\"/browse/authors/v#a603\">Von Arnim, Elizabeth (2236)</a></li>\\n<li><a href=\"/browse/authors/b#a26815\">Brock, C. E. (Charles Edmund) (2112)</a></li>\\n<li><a href=\"/browse/authors/w#a1325\">Wagner, Richard (2032)</a></li>\\n<li><a href=\"/browse/authors/d#a69\">Doyle, Arthur Conan (1792)</a></li>\\n<li><a href=\"/browse/authors/d#a314\">Dostoyevsky, Fyodor (1733)</a></li>\\n<li><a href=\"/browse/authors/g#a2858\">Garnett, Constance (1587)</a></li>\\n<li><a href=\"/browse/authors/c#a7\">Carroll, Lewis (1563)</a></li>\\n<li><a href=\"/browse/authors/s#a35\">Stevenson, Robert Louis (1497)</a></li>\\n<li><a href=\"/browse/authors/n#a779\">Nietzsche, Friedrich Wilhelm (1371)</a></li>\\n<li><a href=\"/browse/authors/w#a30\">Wells, H. G. (Herbert George) (1344)</a></li>\\n<li><a href=\"/browse/authors/f#a420\">Fitzgerald, F. Scott (Francis Scott) (1216)</a></li>\\n<li><a href=\"/browse/authors/t#a136\">Tolstoy, Leo, graf (1150)</a></li>\\n<li><a href=\"/browse/authors/h#a705\">Homer (1071)</a></li>\\n<li><a href=\"/browse/authors/p#a93\">Plato (1029)</a></li>\\n<li><a href=\"/browse/authors/d#a4931\">Derbyshire, Charles E. (1019)</a></li>\\n<li><a href=\"/browse/authors/p#a7919\">Poblete, Pascual Hicaro (1006)</a></li>\\n<li><a href=\"/browse/authors/i#a861\">Ibsen, Henrik (1003)</a></li>\\n<li><a href=\"/browse/authors/v#a55836\">Van Dine, S. S. (984)</a></li>\\n<li><a href=\"/browse/authors/b#a42\">Baum, L. Frank (Lyman Frank) (984)</a></li>\\n<li><a href=\"/browse/authors/j#a94\">Jowett, Benjamin (962)</a></li>\\n<li><a href=\"/browse/authors/m#a4994\">Mariano, Patricio (935)</a></li>\\n<li><a href=\"/browse/authors/p#a481\">Poe, Edgar Allan (935)</a></li>\\n<li><a href=\"/browse/authors/v#a60\">Verne, Jules (931)</a></li>\\n<li><a href=\"/browse/authors/j#a1039\">Joyce, James (905)</a></li>\\n<li><a href=\"/browse/authors/h#a28\">Hawthorne, Nathaniel (894)</a></li>\\n<li><a href=\"/browse/authors/s#a326\">Swift, Jonathan (880)</a></li>\\n<li><a href=\"/browse/authors/k#a132\">Kipling, Rudyard (871)</a></li>\\n<li><a href=\"/browse/authors/s#a190\">Stoker, Bram (838)</a></li>\\n<li><a href=\"/browse/authors/k#a1735\">Kafka, Franz (818)</a></li>\\n<li><a href=\"/browse/authors/c#a451\">Christie, Agatha (800)</a></li>\\n<li><a href=\"/browse/authors/j#a113\">James, Henry (739)</a></li>\\n<li><a href=\"/browse/authors/l#a120\">London, Jack (721)</a></li>\\n<li><a href=\"/browse/authors/c#a125\">Conrad, Joseph (711)</a></li>\\n<li><a href=\"/browse/authors/g#a27\">Gilman, Charlotte Perkins (702)</a></li>\\n<li><a href=\"/browse/authors/b#a898\">Burton, Richard Francis, Sir (696)</a></li>\\n<li><a href=\"/browse/authors/w#a1736\">Wyllie, David (Translator) (685)</a></li>\\n<li><a href=\"/browse/authors/c#a80\">Chesterton, G. K. (Gilbert Keith) (680)</a></li>\\n<li><a href=\"/browse/authors/h#a41526\">Hotten, John Camden (668)</a></li>\\n<li><a href=\"/browse/authors/h#a85\">Hugo, Victor (661)</a></li>\\n<li><a href=\"/browse/authors/w#a1961\">Widger, David (638)</a></li>\\n<li><a href=\"/browse/authors/r#a355\">Russell, Bertrand (633)</a></li>\\n<li><a href=\"/browse/authors/d#a1896\">Doré, Gustave (626)</a></li>\\n<li><a href=\"/browse/authors/d#a507\">Dante Alighieri (616)</a></li>\\n<li><a href=\"/browse/authors/p#a907\">Pope, Alexander (606)</a></li>\\n<li><a href=\"/browse/authors/c#a708\">Chekhov, Anton Pavlovich (605)</a></li>\\n<li><a href=\"/browse/authors/c#a505\">Cervantes Saavedra, Miguel de (600)</a></li>\\n<li><a href=\"/browse/authors/g#a972\">Grimm, Wilhelm (586)</a></li>\\n<li><a href=\"/browse/authors/g#a971\">Grimm, Jacob (586)</a></li>\\n<li><a href=\"/browse/authors/c#a8150\">Coppens, Charles (574)</a></li>\\n<li><a href=\"/browse/authors/g#a586\">Goethe, Johann Wolfgang von (571)</a></li>\\n<li><a href=\"/browse/authors/s#a467\">Shaw, Bernard (570)</a></li>\\n<li><a href=\"/browse/authors/l#a79\">Lang, Andrew (569)</a></li>\\n<li><a href=\"/browse/authors/m#a4589\">Maude, Aylmer (565)</a></li>\\n<li><a href=\"/browse/authors/d#a204\">Defoe, Daniel (544)</a></li>\\n<li><a href=\"/browse/authors/m#a500\">Maude, Louise (540)</a></li>\\n<li><a href=\"/browse/authors/b#a748\">Butler, Samuel (533)</a></li>\\n<li><a href=\"/browse/authors/b#a408\">Brontë, Charlotte (532)</a></li>\\n<li><a href=\"/browse/authors/k#a37155\">Kemble, E. W. (Edward Windsor) (514)</a></li>\\n<li><a href=\"/browse/authors/b#a73\">Burnett, Frances Hodgson (510)</a></li>\\n<li><a href=\"/browse/authors/f#a2703\">Foote, Mary Hallock (501)</a></li>\\n<li><a href=\"/browse/authors/c#a2229\">Craig, Austin (500)</a></li>\\n<li><a href=\"/browse/authors/m#a1355\">Morley, Henry (498)</a></li>\\n<li><a href=\"/browse/authors/i#a31265\">Ipsen, Ludvig Sandöe (495)</a></li>\\n<li><a href=\"/browse/authors/a#a31267\">Anthony, A. V. S. (Andrew Varick Stout) (495)</a></li>\\n<li><a href=\"/browse/authors/t#a54\">Thoreau, Henry David (482)</a></li>\\n<li><a href=\"/browse/authors/b#a48\">Burroughs, Edgar Rice (462)</a></li>\\n<li><a href=\"/browse/authors/b#a251\">Balzac, Honoré de (458)</a></li>\\n<li><a href=\"/browse/authors/h#a23\">Hardy, Thomas (448)</a></li>\\n<li><a href=\"/browse/authors/m#a563\">Machiavelli, Niccolò (440)</a></li>\\n<li><a href=\"/browse/authors/d#a226\">Du Bois, W. E. B. (William Edward Burghardt) (439)</a></li>\\n<li><a href=\"/browse/authors/o#a506\">Ormsby, John (430)</a></li>\\n<li><a href=\"/browse/authors/b#a10\">Barrie, J. M. (James Matthew) (430)</a></li>\\n<li><a href=\"/browse/authors/v#a5593\">Vatsyayana (424)</a></li>\\n<li><a href=\"/browse/authors/i#a32930\">Indrajit, Bhagavanlal (422)</a></li>\\n<li><a href=\"/browse/authors/b#a32931\">Bhide, Shivaram Parashuram (422)</a></li>\\n<li><a href=\"/browse/authors/g#a808\">Garis, Howard Roger (419)</a></li>\\n<li><a href=\"/browse/authors/t#a9854\">Townsend, F. H. (Frederick Henry) (416)</a></li>\\n<li><a href=\"/browse/authors/s#a59\">Scott, Walter (412)</a></li>\\n<li><a href=\"/browse/authors/b#a25301\">Buckley, Theodore Alois (408)</a></li>\\n<li><a href=\"/browse/authors/h#a941\">Hesse, Hermann (408)</a></li>\\n<li><a href=\"/browse/authors/e#a1630\">Einstein, Albert (406)</a></li>\\n<li><a href=\"/browse/authors/l#a9473\">Leech, John (402)</a></li>\\n<li><a href=\"/browse/authors/l#a55925\">Law, John (397)</a></li>\\n</ol>\\n <div class=\"padded\">\\n  <ul>\\n   <li><a href=\"#books-last1\">Top 100 EBooks yesterday</a></li>\\n   <li><a href=\"#authors-last1\">Top 100 Authors yesterday</a></li>\\n   <li><a href=\"#books-last7\">Top 100 EBooks last 7 days</a></li>\\n   <li><a href=\"#authors-last7\">Top 100 Authors last 7 days</a></li>\\n   <li><a href=\"#books-last30\">Top 100 EBooks last 30 days</a></li>\\n   <li><a href=\"#authors-last30\">Top 100 Authors last 30 days</li>\\n  </ul>\\n </div>\\n<h2 id=\"books-last7\">Top 100 EBooks last 7 days</h2>\\n\\n<ol>\\n<li><a href=\"/ebooks/1513\">Romeo and Juliet by William Shakespeare (21492)</a></li>\\n<li><a href=\"/ebooks/2701\">Moby Dick; Or, The Whale by Herman Melville (19109)</a></li>\\n<li><a href=\"/ebooks/2641\">A Room with a View by E. M.  Forster (17344)</a></li>\\n<li><a href=\"/ebooks/145\">Middlemarch by George Eliot (16897)</a></li>\\n<li><a href=\"/ebooks/37106\">Little Women; Or, Meg, Jo, Beth, and Amy by Louisa May Alcott (15947)</a></li>\\n<li><a href=\"/ebooks/100\">The Complete Works of William Shakespeare by William Shakespeare (15928)</a></li>\\n<li><a href=\"/ebooks/16389\">The Enchanted April by Elizabeth Von Arnim (15211)</a></li>\\n<li><a href=\"/ebooks/67979\">The Blue Castle: a novel by L. M.  Montgomery (15146)</a></li>\\n<li><a href=\"/ebooks/394\">Cranford by Elizabeth Cleghorn Gaskell (14418)</a></li>\\n<li><a href=\"/ebooks/6761\">The Adventures of Ferdinand Count Fathom — Complete by T.  Smollett (14344)</a></li>\\n<li><a href=\"/ebooks/6593\">History of Tom Jones, a Foundling by Henry Fielding (14259)</a></li>\\n<li><a href=\"/ebooks/2160\">The Expedition of Humphry Clinker by T.  Smollett (14097)</a></li>\\n<li><a href=\"/ebooks/4085\">The Adventures of Roderick Random by T.  Smollett (14020)</a></li>\\n<li><a href=\"/ebooks/1259\">Twenty Years After by Alexandre Dumas (13654)</a></li>\\n<li><a href=\"/ebooks/5197\">My Life — Volume 1 by Richard Wagner (13397)</a></li>\\n<li><a href=\"/ebooks/1342\">Pride and Prejudice by Jane Austen (13123)</a></li>\\n<li><a href=\"/ebooks/84\">Frankenstein; Or, The Modern Prometheus by Mary Wollstonecraft Shelley (12736)</a></li>\\n<li><a href=\"/ebooks/20228\">Noli Me Tangere by José Rizal (7533)</a></li>\\n<li><a href=\"/ebooks/11\">Alice\\'s Adventures in Wonderland by Lewis Carroll (6998)</a></li>\\n<li><a href=\"/ebooks/47629\">Ang \"Filibusterismo\" (Karugtóng ng Noli Me Tangere) by José Rizal (6911)</a></li>\\n<li><a href=\"/ebooks/64317\">The Great Gatsby by F. Scott  Fitzgerald (6811)</a></li>\\n<li><a href=\"/ebooks/844\">The Importance of Being Earnest: A Trivial Comedy for Serious People by Oscar Wilde (5639)</a></li>\\n<li><a href=\"/ebooks/174\">The Picture of Dorian Gray by Oscar Wilde (5537)</a></li>\\n<li><a href=\"/ebooks/98\">A Tale of Two Cities by Charles Dickens (5137)</a></li>\\n<li><a href=\"/ebooks/345\">Dracula by Bram Stoker (4881)</a></li>\\n<li><a href=\"/ebooks/43\">The Strange Case of Dr. Jekyll and Mr. Hyde by Robert Louis Stevenson (4675)</a></li>\\n<li><a href=\"/ebooks/2542\">A Doll\\'s House : a play by Henrik Ibsen (4576)</a></li>\\n<li><a href=\"/ebooks/42108\">The slang dictionary : by John Camden Hotten (4100)</a></li>\\n<li><a href=\"/ebooks/5200\">Metamorphosis by Franz Kafka (3966)</a></li>\\n<li><a href=\"/ebooks/1400\">Great Expectations by Charles Dickens (3785)</a></li>\\n<li><a href=\"/ebooks/10676\">The Reign of Greed by José Rizal (3342)</a></li>\\n<li><a href=\"/ebooks/1661\">The Adventures of Sherlock Holmes by Arthur Conan Doyle (3282)</a></li>\\n<li><a href=\"/ebooks/1080\">A Modest Proposal by Jonathan Swift (3268)</a></li>\\n<li><a href=\"/ebooks/28054\">The Brothers Karamazov by Fyodor Dostoyevsky (3202)</a></li>\\n<li><a href=\"/ebooks/1184\">The Count of Monte Cristo, Illustrated by Alexandre Dumas (3063)</a></li>\\n<li><a href=\"/ebooks/76\">Adventures of Huckleberry Finn by Mark Twain (3043)</a></li>\\n<li><a href=\"/ebooks/1952\">The Yellow Wallpaper by Charlotte Perkins Gilman (3037)</a></li>\\n<li><a href=\"/ebooks/25344\">The Scarlet Letter by Nathaniel Hawthorne (2994)</a></li>\\n<li><a href=\"/ebooks/2554\">Crime and Punishment by Fyodor Dostoyevsky (2927)</a></li>\\n<li><a href=\"/ebooks/6130\">The Iliad by Homer (2918)</a></li>\\n<li><a href=\"/ebooks/2600\">War and Peace by graf Leo Tolstoy (2903)</a></li>\\n<li><a href=\"/ebooks/4300\">Ulysses by James Joyce (2847)</a></li>\\n<li><a href=\"/ebooks/46\">A Christmas Carol in Prose; Being a Ghost Story of Christmas by Charles Dickens (2816)</a></li>\\n<li><a href=\"/ebooks/1260\">Jane Eyre: An Autobiography by Charlotte Brontë (2746)</a></li>\\n<li><a href=\"/ebooks/15845\">Florante at Laura by Francisco Balagtas (2746)</a></li>\\n<li><a href=\"/ebooks/35899\">The Philippines a Century Hence by José Rizal (2738)</a></li>\\n<li><a href=\"/ebooks/2591\">Grimms\\' Fairy Tales by Jacob Grimm and Wilhelm Grimm (2707)</a></li>\\n<li><a href=\"/ebooks/55\">The Wonderful Wizard of Oz by L. Frank  Baum (2606)</a></li>\\n<li><a href=\"/ebooks/27827\">The Kama Sutra of Vatsyayana by Vatsyayana (2567)</a></li>\\n<li><a href=\"/ebooks/120\">Treasure Island by Robert Louis Stevenson (2458)</a></li>\\n<li><a href=\"/ebooks/74\">The Adventures of Tom Sawyer, Complete by Mark Twain (2409)</a></li>\\n<li><a href=\"/ebooks/996\">Don Quixote by Miguel de Cervantes Saavedra (2378)</a></li>\\n<li><a href=\"/ebooks/1232\">The Prince by Niccolò Machiavelli (2338)</a></li>\\n<li><a href=\"/ebooks/1727\">The Odyssey by Homer (2302)</a></li>\\n<li><a href=\"/ebooks/30254\">The Romance of Lust: A classic Victorian erotic novel by Anonymous (2235)</a></li>\\n<li><a href=\"/ebooks/4363\">Beyond Good and Evil by Friedrich Wilhelm Nietzsche (2199)</a></li>\\n<li><a href=\"/ebooks/768\">Wuthering Heights by Emily Brontë (2147)</a></li>\\n<li><a href=\"/ebooks/408\">The Souls of Black Folk by W. E. B.  Du Bois (2132)</a></li>\\n<li><a href=\"/ebooks/45\">Anne of Green Gables by L. M.  Montgomery (2128)</a></li>\\n<li><a href=\"/ebooks/58585\">The Prophet by Kahlil Gibran (2043)</a></li>\\n<li><a href=\"/ebooks/2680\">Meditations by Emperor of Rome Marcus Aurelius (2034)</a></li>\\n<li><a href=\"/ebooks/1512\">King Richard II by William Shakespeare (2020)</a></li>\\n<li><a href=\"/ebooks/36\">The War of the Worlds by H. G.  Wells (1996)</a></li>\\n<li><a href=\"/ebooks/5740\">Tractatus Logico-Philosophicus by Ludwig Wittgenstein (1948)</a></li>\\n<li><a href=\"/ebooks/205\">Walden, and On The Duty Of Civil Disobedience by Henry David Thoreau (1939)</a></li>\\n<li><a href=\"/ebooks/16\">Peter Pan by J. M.  Barrie (1927)</a></li>\\n<li><a href=\"/ebooks/1998\">Thus Spake Zarathustra: A Book for All and None by Friedrich Wilhelm Nietzsche (1902)</a></li>\\n<li><a href=\"/ebooks/1399\">Anna Karenina by graf Leo Tolstoy (1842)</a></li>\\n<li><a href=\"/ebooks/514\">Little Women by Louisa May Alcott (1775)</a></li>\\n<li><a href=\"/ebooks/23042\">The Tempest by William Shakespeare (1757)</a></li>\\n<li><a href=\"/ebooks/67098\">Winnie-the-Pooh by A. A.  Milne (1756)</a></li>\\n<li><a href=\"/ebooks/2500\">Siddhartha by Hermann Hesse (1740)</a></li>\\n<li><a href=\"/ebooks/2852\">The Hound of the Baskervilles by Arthur Conan Doyle (1737)</a></li>\\n<li><a href=\"/ebooks/70766\">A daughter of the Samurai by Etsuko Sugimoto (1737)</a></li>\\n<li><a href=\"/ebooks/2814\">Dubliners by James Joyce (1711)</a></li>\\n<li><a href=\"/ebooks/219\">Heart of Darkness by Joseph Conrad (1706)</a></li>\\n<li><a href=\"/ebooks/3206\">Moby Multiple Language Lists of Common Words by Grady Ward (1682)</a></li>\\n<li><a href=\"/ebooks/158\">Emma by Jane Austen (1678)</a></li>\\n<li><a href=\"/ebooks/8800\">The divine comedy by Dante Alighieri (1676)</a></li>\\n<li><a href=\"/ebooks/244\">A Study in Scarlet by Arthur Conan Doyle (1650)</a></li>\\n<li><a href=\"/ebooks/1497\">The Republic by Plato (1640)</a></li>\\n<li><a href=\"/ebooks/730\">Oliver Twist by Charles Dickens (1619)</a></li>\\n<li><a href=\"/ebooks/132\">The Art of War by active 6th century B.C. Sunzi (1613)</a></li>\\n<li><a href=\"/ebooks/33283\">Calculus Made Easy by Silvanus P.  Thompson (1596)</a></li>\\n<li><a href=\"/ebooks/236\">The Jungle Book by Rudyard Kipling (1582)</a></li>\\n<li><a href=\"/ebooks/35\">The Time Machine by H. G.  Wells (1566)</a></li>\\n<li><a href=\"/ebooks/135\">Les Misérables by Victor Hugo (1553)</a></li>\\n<li><a href=\"/ebooks/161\">Sense and Sensibility by Jane Austen (1550)</a></li>\\n<li><a href=\"/ebooks/70761\">Destiny times three by Fritz Leiber (1539)</a></li>\\n<li><a href=\"/ebooks/308\">Three Men in a Boat (To Say Nothing of the Dog) by Jerome K.  Jerome (1482)</a></li>\\n<li><a href=\"/ebooks/600\">Notes from the Underground by Fyodor Dostoyevsky (1409)</a></li>\\n<li><a href=\"/ebooks/2148\">The Works of Edgar Allan Poe — Volume 2 by Edgar Allan Poe (1384)</a></li>\\n<li><a href=\"/ebooks/5827\">The Problems of Philosophy by Bertrand Russell (1381)</a></li>\\n<li><a href=\"/ebooks/24790\">Early English Meals and Manners (1367)</a></li>\\n<li><a href=\"/ebooks/766\">David Copperfield by Charles Dickens (1364)</a></li>\\n<li><a href=\"/ebooks/779\">The Tragical History of Doctor Faustus by Christopher Marlowe (1342)</a></li>\\n<li><a href=\"/ebooks/24869\">The Rámáyan of Válmíki, translated into English verse by Valmiki (1338)</a></li>\\n<li><a href=\"/ebooks/8492\">The King in Yellow by Robert W.  Chambers (1323)</a></li>\\n<li><a href=\"/ebooks/3825\">Pygmalion by Bernard Shaw (1320)</a></li>\\n<li><a href=\"/ebooks/3207\">Leviathan by Thomas Hobbes (1307)</a></li>\\n</ol>\\n <div class=\"padded\">\\n  <ul>\\n   <li><a href=\"#books-last1\">Top 100 EBooks yesterday</a></li>\\n   <li><a href=\"#authors-last1\">Top 100 Authors yesterday</a></li>\\n   <li><a href=\"#books-last7\">Top 100 EBooks last 7 days</a></li>\\n   <li><a href=\"#authors-last7\">Top 100 Authors last 7 days</a></li>\\n   <li><a href=\"#books-last30\">Top 100 EBooks last 30 days</a></li>\\n   <li><a href=\"#authors-last30\">Top 100 Authors last 30 days</li>\\n  </ul>\\n </div>\\n<h2 id=\"authors-last7\">Top 100 Authors last 7 days</h2>\\n\\n<ol>\\n<li><a href=\"/browse/authors/s#a65\">Shakespeare, William (53395)</a></li>\\n<li><a href=\"/browse/authors/s#a838\">Smollett, T. (Tobias) (42802)</a></li>\\n<li><a href=\"/browse/authors/r#a2183\">Rizal, José (23975)</a></li>\\n<li><a href=\"/browse/authors/d#a37\">Dickens, Charles (22146)</a></li>\\n<li><a href=\"/browse/authors/a#a68\">Austen, Jane (21273)</a></li>\\n<li><a href=\"/browse/authors/m#a36\">Montgomery, L. M. (Lucy Maud) (20881)</a></li>\\n<li><a href=\"/browse/authors/m#a9\">Melville, Herman (20846)</a></li>\\n<li><a href=\"/browse/authors/d#a492\">Dumas, Alexandre (20252)</a></li>\\n<li><a href=\"/browse/authors/a#a102\">Alcott, Louisa May (19466)</a></li>\\n<li><a href=\"/browse/authors/f#a975\">Forster, E. M. (Edward Morgan) (18853)</a></li>\\n<li><a href=\"/browse/authors/e#a90\">Eliot, George (18578)</a></li>\\n<li><a href=\"/browse/authors/w#a111\">Wilde, Oscar (16256)</a></li>\\n<li><a href=\"/browse/authors/m#a6202\">Merrill, Frank T. (16238)</a></li>\\n<li><a href=\"/browse/authors/g#a220\">Gaskell, Elizabeth Cleghorn (15819)</a></li>\\n<li><a href=\"/browse/authors/v#a603\">Von Arnim, Elizabeth (15406)</a></li>\\n<li><a href=\"/browse/authors/t#a53\">Twain, Mark (15306)</a></li>\\n<li><a href=\"/browse/authors/s#a61\">Shelley, Mary Wollstonecraft (14871)</a></li>\\n<li><a href=\"/browse/authors/f#a537\">Fielding, Henry (14824)</a></li>\\n<li><a href=\"/browse/authors/b#a26815\">Brock, C. E. (Charles Edmund) (14543)</a></li>\\n<li><a href=\"/browse/authors/w#a1325\">Wagner, Richard (13689)</a></li>\\n<li><a href=\"/browse/authors/d#a69\">Doyle, Arthur Conan (12641)</a></li>\\n<li><a href=\"/browse/authors/s#a35\">Stevenson, Robert Louis (12090)</a></li>\\n<li><a href=\"/browse/authors/d#a314\">Dostoyevsky, Fyodor (11904)</a></li>\\n<li><a href=\"/browse/authors/c#a7\">Carroll, Lewis (10693)</a></li>\\n<li><a href=\"/browse/authors/g#a2858\">Garnett, Constance (10632)</a></li>\\n<li><a href=\"/browse/authors/n#a779\">Nietzsche, Friedrich Wilhelm (9310)</a></li>\\n<li><a href=\"/browse/authors/w#a30\">Wells, H. G. (Herbert George) (8895)</a></li>\\n<li><a href=\"/browse/authors/t#a136\">Tolstoy, Leo, graf (8318)</a></li>\\n<li><a href=\"/browse/authors/f#a420\">Fitzgerald, F. Scott (Francis Scott) (7740)</a></li>\\n<li><a href=\"/browse/authors/p#a7919\">Poblete, Pascual Hicaro (7584)</a></li>\\n<li><a href=\"/browse/authors/h#a705\">Homer (7515)</a></li>\\n<li><a href=\"/browse/authors/d#a4931\">Derbyshire, Charles E. (7389)</a></li>\\n<li><a href=\"/browse/authors/p#a93\">Plato (7065)</a></li>\\n<li><a href=\"/browse/authors/m#a4994\">Mariano, Patricio (6934)</a></li>\\n<li><a href=\"/browse/authors/i#a861\">Ibsen, Henrik (6870)</a></li>\\n<li><a href=\"/browse/authors/j#a94\">Jowett, Benjamin (6636)</a></li>\\n<li><a href=\"/browse/authors/b#a42\">Baum, L. Frank (Lyman Frank) (6186)</a></li>\\n<li><a href=\"/browse/authors/k#a1735\">Kafka, Franz (5842)</a></li>\\n<li><a href=\"/browse/authors/s#a326\">Swift, Jonathan (5772)</a></li>\\n<li><a href=\"/browse/authors/h#a28\">Hawthorne, Nathaniel (5730)</a></li>\\n<li><a href=\"/browse/authors/j#a1039\">Joyce, James (5713)</a></li>\\n<li><a href=\"/browse/authors/v#a60\">Verne, Jules (5653)</a></li>\\n<li><a href=\"/browse/authors/s#a190\">Stoker, Bram (5651)</a></li>\\n<li><a href=\"/browse/authors/p#a481\">Poe, Edgar Allan (5472)</a></li>\\n<li><a href=\"/browse/authors/k#a132\">Kipling, Rudyard (5422)</a></li>\\n<li><a href=\"/browse/authors/c#a451\">Christie, Agatha (5193)</a></li>\\n<li><a href=\"/browse/authors/l#a120\">London, Jack (4946)</a></li>\\n<li><a href=\"/browse/authors/w#a1736\">Wyllie, David (Translator) (4831)</a></li>\\n<li><a href=\"/browse/authors/r#a355\">Russell, Bertrand (4706)</a></li>\\n<li><a href=\"/browse/authors/c#a80\">Chesterton, G. K. (Gilbert Keith) (4664)</a></li>\\n<li><a href=\"/browse/authors/d#a1896\">Doré, Gustave (4651)</a></li>\\n<li><a href=\"/browse/authors/w#a1961\">Widger, David (4640)</a></li>\\n<li><a href=\"/browse/authors/c#a125\">Conrad, Joseph (4530)</a></li>\\n<li><a href=\"/browse/authors/p#a907\">Pope, Alexander (4444)</a></li>\\n<li><a href=\"/browse/authors/d#a507\">Dante Alighieri (4390)</a></li>\\n<li><a href=\"/browse/authors/j#a113\">James, Henry (4386)</a></li>\\n<li><a href=\"/browse/authors/h#a41526\">Hotten, John Camden (4337)</a></li>\\n<li><a href=\"/browse/authors/b#a898\">Burton, Richard Francis, Sir (4268)</a></li>\\n<li><a href=\"/browse/authors/h#a85\">Hugo, Victor (4257)</a></li>\\n<li><a href=\"/browse/authors/l#a79\">Lang, Andrew (4166)</a></li>\\n<li><a href=\"/browse/authors/c#a708\">Chekhov, Anton Pavlovich (4139)</a></li>\\n<li><a href=\"/browse/authors/s#a467\">Shaw, Bernard (4062)</a></li>\\n<li><a href=\"/browse/authors/m#a4589\">Maude, Aylmer (4056)</a></li>\\n<li><a href=\"/browse/authors/c#a505\">Cervantes Saavedra, Miguel de (4033)</a></li>\\n<li><a href=\"/browse/authors/g#a586\">Goethe, Johann Wolfgang von (3959)</a></li>\\n<li><a href=\"/browse/authors/m#a500\">Maude, Louise (3892)</a></li>\\n<li><a href=\"/browse/authors/g#a971\">Grimm, Jacob (3889)</a></li>\\n<li><a href=\"/browse/authors/g#a972\">Grimm, Wilhelm (3889)</a></li>\\n<li><a href=\"/browse/authors/d#a204\">Defoe, Daniel (3794)</a></li>\\n<li><a href=\"/browse/authors/b#a48\">Burroughs, Edgar Rice (3696)</a></li>\\n<li><a href=\"/browse/authors/t#a54\">Thoreau, Henry David (3635)</a></li>\\n<li><a href=\"/browse/authors/b#a408\">Brontë, Charlotte (3626)</a></li>\\n<li><a href=\"/browse/authors/m#a1355\">Morley, Henry (3593)</a></li>\\n<li><a href=\"/browse/authors/c#a2229\">Craig, Austin (3542)</a></li>\\n<li><a href=\"/browse/authors/g#a27\">Gilman, Charlotte Perkins (3503)</a></li>\\n<li><a href=\"/browse/authors/b#a748\">Butler, Samuel (3435)</a></li>\\n<li><a href=\"/browse/authors/b#a251\">Balzac, Honoré de (3362)</a></li>\\n<li><a href=\"/browse/authors/b#a10\">Barrie, J. M. (James Matthew) (3338)</a></li>\\n<li><a href=\"/browse/authors/l#a9473\">Leech, John (3283)</a></li>\\n<li><a href=\"/browse/authors/k#a37155\">Kemble, E. W. (Edward Windsor) (3259)</a></li>\\n<li><a href=\"/browse/authors/s#a59\">Scott, Walter (3199)</a></li>\\n<li><a href=\"/browse/authors/b#a25301\">Buckley, Theodore Alois (3081)</a></li>\\n<li><a href=\"/browse/authors/f#a2703\">Foote, Mary Hallock (3028)</a></li>\\n<li><a href=\"/browse/authors/b#a73\">Burnett, Frances Hodgson (3027)</a></li>\\n<li><a href=\"/browse/authors/i#a31265\">Ipsen, Ludvig Sandöe (2994)</a></li>\\n<li><a href=\"/browse/authors/a#a31267\">Anthony, A. V. S. (Andrew Varick Stout) (2994)</a></li>\\n<li><a href=\"/browse/authors/h#a23\">Hardy, Thomas (2932)</a></li>\\n<li><a href=\"/browse/authors/o#a506\">Ormsby, John (2909)</a></li>\\n<li><a href=\"/browse/authors/t#a9854\">Townsend, F. H. (Frederick Henry) (2875)</a></li>\\n<li><a href=\"/browse/authors/l#a7862\">Levy, Oscar (2838)</a></li>\\n<li><a href=\"/browse/authors/d#a226\">Du Bois, W. E. B. (William Edward Burghardt) (2827)</a></li>\\n<li><a href=\"/browse/authors/b#a6106\">Balagtas, Francisco (2774)</a></li>\\n<li><a href=\"/browse/authors/m#a563\">Machiavelli, Niccolò (2770)</a></li>\\n<li><a href=\"/browse/authors/r#a6338\">Ronquillo y Valdez, Carlos (2746)</a></li>\\n<li><a href=\"/browse/authors/t#a942\">Tagore, Rabindranath (2743)</a></li>\\n<li><a href=\"/browse/authors/h#a941\">Hesse, Hermann (2638)</a></li>\\n<li><a href=\"/browse/authors/k#a1426\">Kant, Immanuel (2623)</a></li>\\n<li><a href=\"/browse/authors/v#a5593\">Vatsyayana (2602)</a></li>\\n<li><a href=\"/browse/authors/m#a730\">Milne, A. A. (Alan Alexander) (2600)</a></li>\\n<li><a href=\"/browse/authors/w#a104\">Wharton, Edith (2577)</a></li>\\n</ol>\\n <div class=\"padded\">\\n  <ul>\\n   <li><a href=\"#books-last1\">Top 100 EBooks yesterday</a></li>\\n   <li><a href=\"#authors-last1\">Top 100 Authors yesterday</a></li>\\n   <li><a href=\"#books-last7\">Top 100 EBooks last 7 days</a></li>\\n   <li><a href=\"#authors-last7\">Top 100 Authors last 7 days</a></li>\\n   <li><a href=\"#books-last30\">Top 100 EBooks last 30 days</a></li>\\n   <li><a href=\"#authors-last30\">Top 100 Authors last 30 days</li>\\n  </ul>\\n </div>\\n<h2 id=\"books-last30\">Top 100 EBooks last 30 days</h2>\\n\\n<ol>\\n<li><a href=\"/ebooks/1513\">Romeo and Juliet by William Shakespeare (132073)</a></li>\\n<li><a href=\"/ebooks/2641\">A Room with a View by E. M.  Forster (111653)</a></li>\\n<li><a href=\"/ebooks/2701\">Moby Dick; Or, The Whale by Herman Melville (110333)</a></li>\\n<li><a href=\"/ebooks/145\">Middlemarch by George Eliot (109395)</a></li>\\n<li><a href=\"/ebooks/37106\">Little Women; Or, Meg, Jo, Beth, and Amy by Louisa May Alcott (102479)</a></li>\\n<li><a href=\"/ebooks/100\">The Complete Works of William Shakespeare by William Shakespeare (100833)</a></li>\\n<li><a href=\"/ebooks/16389\">The Enchanted April by Elizabeth Von Arnim (100466)</a></li>\\n<li><a href=\"/ebooks/67979\">The Blue Castle: a novel by L. M.  Montgomery (98350)</a></li>\\n<li><a href=\"/ebooks/394\">Cranford by Elizabeth Cleghorn Gaskell (95087)</a></li>\\n<li><a href=\"/ebooks/6761\">The Adventures of Ferdinand Count Fathom — Complete by T.  Smollett (94865)</a></li>\\n<li><a href=\"/ebooks/2160\">The Expedition of Humphry Clinker by T.  Smollett (93067)</a></li>\\n<li><a href=\"/ebooks/4085\">The Adventures of Roderick Random by T.  Smollett (92427)</a></li>\\n<li><a href=\"/ebooks/6593\">History of Tom Jones, a Foundling by Henry Fielding (91374)</a></li>\\n<li><a href=\"/ebooks/1259\">Twenty Years After by Alexandre Dumas (87863)</a></li>\\n<li><a href=\"/ebooks/5197\">My Life — Volume 1 by Richard Wagner (87307)</a></li>\\n<li><a href=\"/ebooks/84\">Frankenstein; Or, The Modern Prometheus by Mary Wollstonecraft Shelley (62228)</a></li>\\n<li><a href=\"/ebooks/1342\">Pride and Prejudice by Jane Austen (57705)</a></li>\\n<li><a href=\"/ebooks/20228\">Noli Me Tangere by José Rizal (37924)</a></li>\\n<li><a href=\"/ebooks/11\">Alice\\'s Adventures in Wonderland by Lewis Carroll (31282)</a></li>\\n<li><a href=\"/ebooks/64317\">The Great Gatsby by F. Scott  Fitzgerald (30260)</a></li>\\n<li><a href=\"/ebooks/47629\">Ang \"Filibusterismo\" (Karugtóng ng Noli Me Tangere) by José Rizal (28307)</a></li>\\n<li><a href=\"/ebooks/844\">The Importance of Being Earnest: A Trivial Comedy for Serious People by Oscar Wilde (27191)</a></li>\\n<li><a href=\"/ebooks/2542\">A Doll\\'s House : a play by Henrik Ibsen (24437)</a></li>\\n<li><a href=\"/ebooks/174\">The Picture of Dorian Gray by Oscar Wilde (24395)</a></li>\\n<li><a href=\"/ebooks/345\">Dracula by Bram Stoker (23098)</a></li>\\n<li><a href=\"/ebooks/98\">A Tale of Two Cities by Charles Dickens (23014)</a></li>\\n<li><a href=\"/ebooks/5200\">Metamorphosis by Franz Kafka (19072)</a></li>\\n<li><a href=\"/ebooks/43\">The Strange Case of Dr. Jekyll and Mr. Hyde by Robert Louis Stevenson (17524)</a></li>\\n<li><a href=\"/ebooks/1400\">Great Expectations by Charles Dickens (17130)</a></li>\\n<li><a href=\"/ebooks/1080\">A Modest Proposal by Jonathan Swift (16956)</a></li>\\n<li><a href=\"/ebooks/1952\">The Yellow Wallpaper by Charlotte Perkins Gilman (15376)</a></li>\\n<li><a href=\"/ebooks/1661\">The Adventures of Sherlock Holmes by Arthur Conan Doyle (14420)</a></li>\\n<li><a href=\"/ebooks/28054\">The Brothers Karamazov by Fyodor Dostoyevsky (14198)</a></li>\\n<li><a href=\"/ebooks/4300\">Ulysses by James Joyce (14117)</a></li>\\n<li><a href=\"/ebooks/25344\">The Scarlet Letter by Nathaniel Hawthorne (14107)</a></li>\\n<li><a href=\"/ebooks/10676\">The Reign of Greed by José Rizal (14032)</a></li>\\n<li><a href=\"/ebooks/1184\">The Count of Monte Cristo, Illustrated by Alexandre Dumas (13967)</a></li>\\n<li><a href=\"/ebooks/2600\">War and Peace by graf Leo Tolstoy (13563)</a></li>\\n<li><a href=\"/ebooks/76\">Adventures of Huckleberry Finn by Mark Twain (13236)</a></li>\\n<li><a href=\"/ebooks/6130\">The Iliad by Homer (12649)</a></li>\\n<li><a href=\"/ebooks/1260\">Jane Eyre: An Autobiography by Charlotte Brontë (12465)</a></li>\\n<li><a href=\"/ebooks/2591\">Grimms\\' Fairy Tales by Jacob Grimm and Wilhelm Grimm (12263)</a></li>\\n<li><a href=\"/ebooks/2554\">Crime and Punishment by Fyodor Dostoyevsky (12260)</a></li>\\n<li><a href=\"/ebooks/1727\">The Odyssey by Homer (11332)</a></li>\\n<li><a href=\"/ebooks/1232\">The Prince by Niccolò Machiavelli (11177)</a></li>\\n<li><a href=\"/ebooks/27827\">The Kama Sutra of Vatsyayana by Vatsyayana (11093)</a></li>\\n<li><a href=\"/ebooks/15845\">Florante at Laura by Francisco Balagtas (10981)</a></li>\\n<li><a href=\"/ebooks/42108\">The slang dictionary : by John Camden Hotten (10964)</a></li>\\n<li><a href=\"/ebooks/996\">Don Quixote by Miguel de Cervantes Saavedra (10839)</a></li>\\n<li><a href=\"/ebooks/408\">The Souls of Black Folk by W. E. B.  Du Bois (10779)</a></li>\\n<li><a href=\"/ebooks/35899\">The Philippines a Century Hence by José Rizal (10565)</a></li>\\n<li><a href=\"/ebooks/120\">Treasure Island by Robert Louis Stevenson (10366)</a></li>\\n<li><a href=\"/ebooks/23042\">The Tempest by William Shakespeare (10172)</a></li>\\n<li><a href=\"/ebooks/4363\">Beyond Good and Evil by Friedrich Wilhelm Nietzsche (10045)</a></li>\\n<li><a href=\"/ebooks/46\">A Christmas Carol in Prose; Being a Ghost Story of Christmas by Charles Dickens (9965)</a></li>\\n<li><a href=\"/ebooks/74\">The Adventures of Tom Sawyer, Complete by Mark Twain (9855)</a></li>\\n<li><a href=\"/ebooks/219\">Heart of Darkness by Joseph Conrad (9848)</a></li>\\n<li><a href=\"/ebooks/2680\">Meditations by Emperor of Rome Marcus Aurelius (9594)</a></li>\\n<li><a href=\"/ebooks/768\">Wuthering Heights by Emily Brontë (9589)</a></li>\\n<li><a href=\"/ebooks/45\">Anne of Green Gables by L. M.  Montgomery (9272)</a></li>\\n<li><a href=\"/ebooks/30254\">The Romance of Lust: A classic Victorian erotic novel by Anonymous (9232)</a></li>\\n<li><a href=\"/ebooks/55\">The Wonderful Wizard of Oz by L. Frank  Baum (9007)</a></li>\\n<li><a href=\"/ebooks/2814\">Dubliners by James Joyce (8924)</a></li>\\n<li><a href=\"/ebooks/205\">Walden, and On The Duty Of Civil Disobedience by Henry David Thoreau (8832)</a></li>\\n<li><a href=\"/ebooks/5740\">Tractatus Logico-Philosophicus by Ludwig Wittgenstein (8776)</a></li>\\n<li><a href=\"/ebooks/2852\">The Hound of the Baskervilles by Arthur Conan Doyle (8766)</a></li>\\n<li><a href=\"/ebooks/58585\">The Prophet by Kahlil Gibran (8721)</a></li>\\n<li><a href=\"/ebooks/36\">The War of the Worlds by H. G.  Wells (8660)</a></li>\\n<li><a href=\"/ebooks/16\">Peter Pan by J. M.  Barrie (8621)</a></li>\\n<li><a href=\"/ebooks/1497\">The Republic by Plato (8526)</a></li>\\n<li><a href=\"/ebooks/3206\">Moby Multiple Language Lists of Common Words by Grady Ward (8385)</a></li>\\n<li><a href=\"/ebooks/8800\">The divine comedy by Dante Alighieri (8287)</a></li>\\n<li><a href=\"/ebooks/67098\">Winnie-the-Pooh by A. A.  Milne (8138)</a></li>\\n<li><a href=\"/ebooks/1998\">Thus Spake Zarathustra: A Book for All and None by Friedrich Wilhelm Nietzsche (8019)</a></li>\\n<li><a href=\"/ebooks/158\">Emma by Jane Austen (7635)</a></li>\\n<li><a href=\"/ebooks/514\">Little Women by Louisa May Alcott (7492)</a></li>\\n<li><a href=\"/ebooks/3207\">Leviathan by Thomas Hobbes (7483)</a></li>\\n<li><a href=\"/ebooks/1399\">Anna Karenina by graf Leo Tolstoy (7447)</a></li>\\n<li><a href=\"/ebooks/35\">The Time Machine by H. G.  Wells (7322)</a></li>\\n<li><a href=\"/ebooks/244\">A Study in Scarlet by Arthur Conan Doyle (7311)</a></li>\\n<li><a href=\"/ebooks/2500\">Siddhartha by Hermann Hesse (7260)</a></li>\\n<li><a href=\"/ebooks/161\">Sense and Sensibility by Jane Austen (7253)</a></li>\\n<li><a href=\"/ebooks/135\">Les Misérables by Victor Hugo (7122)</a></li>\\n<li><a href=\"/ebooks/33283\">Calculus Made Easy by Silvanus P.  Thompson (7091)</a></li>\\n<li><a href=\"/ebooks/730\">Oliver Twist by Charles Dickens (6750)</a></li>\\n<li><a href=\"/ebooks/3825\">Pygmalion by Bernard Shaw (6747)</a></li>\\n<li><a href=\"/ebooks/215\">The Call of the Wild by Jack London (6408)</a></li>\\n<li><a href=\"/ebooks/7370\">Second Treatise of Government by John Locke (6404)</a></li>\\n<li><a href=\"/ebooks/779\">The Tragical History of Doctor Faustus by Christopher Marlowe (6379)</a></li>\\n<li><a href=\"/ebooks/600\">Notes from the Underground by Fyodor Dostoyevsky (6284)</a></li>\\n<li><a href=\"/ebooks/3296\">The Confessions of St. Augustine by Bishop of Hippo Saint Augustine (6278)</a></li>\\n<li><a href=\"/ebooks/5827\">The Problems of Philosophy by Bertrand Russell (6254)</a></li>\\n<li><a href=\"/ebooks/236\">The Jungle Book by Rudyard Kipling (5911)</a></li>\\n<li><a href=\"/ebooks/10\">The King James Version of the Bible (5866)</a></li>\\n<li><a href=\"/ebooks/308\">Three Men in a Boat (To Say Nothing of the Dog) by Jerome K.  Jerome (5845)</a></li>\\n<li><a href=\"/ebooks/203\">Uncle Tom\\'s Cabin by Harriet Beecher Stowe (5831)</a></li>\\n<li><a href=\"/ebooks/105\">Persuasion by Jane Austen (5821)</a></li>\\n<li><a href=\"/ebooks/43453\">A Pickle for the Knowing Ones by Timothy Dexter (5810)</a></li>\\n<li><a href=\"/ebooks/3600\">Essays of Michel de Montaigne — Complete by Michel de Montaigne (5786)</a></li>\\n<li><a href=\"/ebooks/521\">The Life and Adventures of Robinson Crusoe by Daniel Defoe (5707)</a></li>\\n</ol>\\n <div class=\"padded\">\\n  <ul>\\n   <li><a href=\"#books-last1\">Top 100 EBooks yesterday</a></li>\\n   <li><a href=\"#authors-last1\">Top 100 Authors yesterday</a></li>\\n   <li><a href=\"#books-last7\">Top 100 EBooks last 7 days</a></li>\\n   <li><a href=\"#authors-last7\">Top 100 Authors last 7 days</a></li>\\n   <li><a href=\"#books-last30\">Top 100 EBooks last 30 days</a></li>\\n   <li><a href=\"#authors-last30\">Top 100 Authors last 30 days</li>\\n  </ul>\\n </div>\\n<h2 id=\"authors-last30\">Top 100 Authors last 30 days</h2>\\n\\n<ol>\\n<li><a href=\"/browse/authors/s#a65\">Shakespeare, William (301283)</a></li>\\n<li><a href=\"/browse/authors/s#a838\">Smollett, T. (Tobias) (282321)</a></li>\\n<li><a href=\"/browse/authors/m#a36\">Montgomery, L. M. (Lucy Maud) (120730)</a></li>\\n<li><a href=\"/browse/authors/m#a9\">Melville, Herman (118588)</a></li>\\n<li><a href=\"/browse/authors/a#a102\">Alcott, Louisa May (118262)</a></li>\\n<li><a href=\"/browse/authors/f#a975\">Forster, E. M. (Edward Morgan) (117837)</a></li>\\n<li><a href=\"/browse/authors/d#a492\">Dumas, Alexandre (117228)</a></li>\\n<li><a href=\"/browse/authors/e#a90\">Eliot, George (117013)</a></li>\\n<li><a href=\"/browse/authors/r#a2183\">Rizal, José (105489)</a></li>\\n<li><a href=\"/browse/authors/m#a6202\">Merrill, Frank T. (103946)</a></li>\\n<li><a href=\"/browse/authors/g#a220\">Gaskell, Elizabeth Cleghorn (101357)</a></li>\\n<li><a href=\"/browse/authors/v#a603\">Von Arnim, Elizabeth (101305)</a></li>\\n<li><a href=\"/browse/authors/d#a37\">Dickens, Charles (96100)</a></li>\\n<li><a href=\"/browse/authors/b#a26815\">Brock, C. E. (Charles Edmund) (95641)</a></li>\\n<li><a href=\"/browse/authors/a#a68\">Austen, Jane (94191)</a></li>\\n<li><a href=\"/browse/authors/f#a537\">Fielding, Henry (93731)</a></li>\\n<li><a href=\"/browse/authors/w#a1325\">Wagner, Richard (88578)</a></li>\\n<li><a href=\"/browse/authors/w#a111\">Wilde, Oscar (73619)</a></li>\\n<li><a href=\"/browse/authors/s#a61\">Shelley, Mary Wollstonecraft (72287)</a></li>\\n<li><a href=\"/browse/authors/t#a53\">Twain, Mark (64586)</a></li>\\n<li><a href=\"/browse/authors/d#a69\">Doyle, Arthur Conan (55914)</a></li>\\n<li><a href=\"/browse/authors/d#a314\">Dostoyevsky, Fyodor (52672)</a></li>\\n<li><a href=\"/browse/authors/c#a7\">Carroll, Lewis (47243)</a></li>\\n<li><a href=\"/browse/authors/s#a35\">Stevenson, Robert Louis (47242)</a></li>\\n<li><a href=\"/browse/authors/g#a2858\">Garnett, Constance (46331)</a></li>\\n<li><a href=\"/browse/authors/n#a779\">Nietzsche, Friedrich Wilhelm (42221)</a></li>\\n<li><a href=\"/browse/authors/w#a30\">Wells, H. G. (Herbert George) (38645)</a></li>\\n<li><a href=\"/browse/authors/p#a7919\">Poblete, Pascual Hicaro (38161)</a></li>\\n<li><a href=\"/browse/authors/t#a136\">Tolstoy, Leo, graf (36815)</a></li>\\n<li><a href=\"/browse/authors/i#a861\">Ibsen, Henrik (36645)</a></li>\\n<li><a href=\"/browse/authors/p#a93\">Plato (34722)</a></li>\\n<li><a href=\"/browse/authors/h#a705\">Homer (34622)</a></li>\\n<li><a href=\"/browse/authors/f#a420\">Fitzgerald, F. Scott (Francis Scott) (34463)</a></li>\\n<li><a href=\"/browse/authors/j#a94\">Jowett, Benjamin (32724)</a></li>\\n<li><a href=\"/browse/authors/d#a4931\">Derbyshire, Charles E. (30631)</a></li>\\n<li><a href=\"/browse/authors/m#a4994\">Mariano, Patricio (28384)</a></li>\\n<li><a href=\"/browse/authors/j#a1039\">Joyce, James (28344)</a></li>\\n<li><a href=\"/browse/authors/s#a326\">Swift, Jonathan (28254)</a></li>\\n<li><a href=\"/browse/authors/k#a1735\">Kafka, Franz (27204)</a></li>\\n<li><a href=\"/browse/authors/s#a190\">Stoker, Bram (26637)</a></li>\\n<li><a href=\"/browse/authors/h#a28\">Hawthorne, Nathaniel (26496)</a></li>\\n<li><a href=\"/browse/authors/v#a60\">Verne, Jules (23778)</a></li>\\n<li><a href=\"/browse/authors/k#a132\">Kipling, Rudyard (23483)</a></li>\\n<li><a href=\"/browse/authors/b#a42\">Baum, L. Frank (Lyman Frank) (23437)</a></li>\\n<li><a href=\"/browse/authors/c#a451\">Christie, Agatha (23275)</a></li>\\n<li><a href=\"/browse/authors/w#a1736\">Wyllie, David (Translator) (22819)</a></li>\\n<li><a href=\"/browse/authors/p#a481\">Poe, Edgar Allan (22722)</a></li>\\n<li><a href=\"/browse/authors/c#a80\">Chesterton, G. K. (Gilbert Keith) (22216)</a></li>\\n<li><a href=\"/browse/authors/l#a120\">London, Jack (21720)</a></li>\\n<li><a href=\"/browse/authors/c#a125\">Conrad, Joseph (21630)</a></li>\\n<li><a href=\"/browse/authors/d#a507\">Dante Alighieri (21555)</a></li>\\n<li><a href=\"/browse/authors/d#a1896\">Doré, Gustave (21340)</a></li>\\n<li><a href=\"/browse/authors/r#a355\">Russell, Bertrand (20393)</a></li>\\n<li><a href=\"/browse/authors/w#a1961\">Widger, David (20287)</a></li>\\n<li><a href=\"/browse/authors/p#a907\">Pope, Alexander (19914)</a></li>\\n<li><a href=\"/browse/authors/j#a113\">James, Henry (19591)</a></li>\\n<li><a href=\"/browse/authors/h#a85\">Hugo, Victor (19203)</a></li>\\n<li><a href=\"/browse/authors/l#a79\">Lang, Andrew (19020)</a></li>\\n<li><a href=\"/browse/authors/c#a505\">Cervantes Saavedra, Miguel de (18945)</a></li>\\n<li><a href=\"/browse/authors/s#a467\">Shaw, Bernard (18816)</a></li>\\n<li><a href=\"/browse/authors/m#a4589\">Maude, Aylmer (18611)</a></li>\\n<li><a href=\"/browse/authors/c#a708\">Chekhov, Anton Pavlovich (18583)</a></li>\\n<li><a href=\"/browse/authors/m#a500\">Maude, Louise (18080)</a></li>\\n<li><a href=\"/browse/authors/g#a27\">Gilman, Charlotte Perkins (18051)</a></li>\\n<li><a href=\"/browse/authors/b#a48\">Burroughs, Edgar Rice (18032)</a></li>\\n<li><a href=\"/browse/authors/b#a898\">Burton, Richard Francis, Sir (17626)</a></li>\\n<li><a href=\"/browse/authors/g#a586\">Goethe, Johann Wolfgang von (17481)</a></li>\\n<li><a href=\"/browse/authors/b#a748\">Butler, Samuel (17059)</a></li>\\n<li><a href=\"/browse/authors/g#a971\">Grimm, Jacob (16796)</a></li>\\n<li><a href=\"/browse/authors/g#a972\">Grimm, Wilhelm (16796)</a></li>\\n<li><a href=\"/browse/authors/d#a204\">Defoe, Daniel (16636)</a></li>\\n<li><a href=\"/browse/authors/m#a1355\">Morley, Henry (16027)</a></li>\\n<li><a href=\"/browse/authors/b#a408\">Brontë, Charlotte (15927)</a></li>\\n<li><a href=\"/browse/authors/b#a10\">Barrie, J. M. (James Matthew) (15357)</a></li>\\n<li><a href=\"/browse/authors/b#a251\">Balzac, Honoré de (14764)</a></li>\\n<li><a href=\"/browse/authors/t#a54\">Thoreau, Henry David (14743)</a></li>\\n<li><a href=\"/browse/authors/c#a2229\">Craig, Austin (14371)</a></li>\\n<li><a href=\"/browse/authors/f#a2703\">Foote, Mary Hallock (14247)</a></li>\\n<li><a href=\"/browse/authors/i#a31265\">Ipsen, Ludvig Sandöe (14107)</a></li>\\n<li><a href=\"/browse/authors/a#a31267\">Anthony, A. V. S. (Andrew Varick Stout) (14107)</a></li>\\n<li><a href=\"/browse/authors/k#a37155\">Kemble, E. W. (Edward Windsor) (14089)</a></li>\\n<li><a href=\"/browse/authors/d#a226\">Du Bois, W. E. B. (William Edward Burghardt) (14073)</a></li>\\n<li><a href=\"/browse/authors/l#a7862\">Levy, Oscar (13628)</a></li>\\n<li><a href=\"/browse/authors/s#a59\">Scott, Walter (13572)</a></li>\\n<li><a href=\"/browse/authors/o#a506\">Ormsby, John (13480)</a></li>\\n<li><a href=\"/browse/authors/b#a25301\">Buckley, Theodore Alois (13401)</a></li>\\n<li><a href=\"/browse/authors/c#a25742\">Clark, William George (13338)</a></li>\\n<li><a href=\"/browse/authors/h#a23\">Hardy, Thomas (13332)</a></li>\\n<li><a href=\"/browse/authors/m#a563\">Machiavelli, Niccolò (13190)</a></li>\\n<li><a href=\"/browse/authors/t#a9854\">Townsend, F. H. (Frederick Henry) (13114)</a></li>\\n<li><a href=\"/browse/authors/g#a25743\">Glover, John, librarian of Trinity College, Cambridge (12983)</a></li>\\n<li><a href=\"/browse/authors/b#a73\">Burnett, Frances Hodgson (12826)</a></li>\\n<li><a href=\"/browse/authors/k#a1426\">Kant, Immanuel (12660)</a></li>\\n<li><a href=\"/browse/authors/l#a9473\">Leech, John (12166)</a></li>\\n<li><a href=\"/browse/authors/m#a998\">Marcus Aurelius, Emperor of Rome (12052)</a></li>\\n<li><a href=\"/browse/authors/h#a41526\">Hotten, John Camden (11922)</a></li>\\n<li><a href=\"/browse/authors/m#a730\">Milne, A. A. (Alan Alexander) (11916)</a></li>\\n<li><a href=\"/browse/authors/w#a104\">Wharton, Edith (11863)</a></li>\\n<li><a href=\"/browse/authors/w#a783\">Wodehouse, P. G. (Pelham Grenville) (11839)</a></li>\\n<li><a href=\"/browse/authors/h#a941\">Hesse, Hermann (11390)</a></li>\\n</ol>\\n <div class=\"padded\">\\n  <ul>\\n   <li><a href=\"#books-last1\">Top 100 EBooks yesterday</a></li>\\n   <li><a href=\"#authors-last1\">Top 100 Authors yesterday</a></li>\\n   <li><a href=\"#books-last7\">Top 100 EBooks last 7 days</a></li>\\n   <li><a href=\"#authors-last7\">Top 100 Authors last 7 days</a></li>\\n   <li><a href=\"#books-last30\">Top 100 EBooks last 30 days</a></li>\\n   <li><a href=\"#authors-last30\">Top 100 Authors last 30 days</li>\\n  </ul>\\n </div>\\n\\n   </div><!--content ending-->\\n\\n  </div>\\n   <div class=\"footer\"><!-- start footer -->  <ul>\\n      <li>\\n        <a href=\"/policy/privacy_policy.html\" title=\"Privacy Policy\">Privacy policy</a>\\n      </li>\\n      <li>\\n        <a href=\"/about/\" title=\"About Project Gutenberg\">About Project Gutenberg</a>\\n      </li>\\n      <li>\\n        <a href=\"/policy/terms_of_use.html\" title=\"Terms of Use\">Terms of Use</a>\\n      </li>\\n      <li>\\n        <a href=\"/about/contact_information.html\" title=\"Contact Information\">Contact Information</a>\\n      </li>\\n      <li><a href=\"/help/\" title=\"Get Help\">Get Help</a></li>\\n\\n  </ul>\\n\\n  <a href=\"https://www.ibiblio.org/\" title=\"Project Gutenberg is hosted by ibiblio\">\\n   <img src=\"/gutenberg/ibiblio-logo.png\" alt=\"iBiblio\">\\n  </a>\\n  </div><!-- footer ending-->\\n<!-- body ending -->\\n </body>\\n</html>'"
      ]
     },
     "execution_count": 78,
     "metadata": {},
     "output_type": "execute_result"
    }
   ],
   "source": [
    "contents = response.content.decode(response.encoding)\n",
    "type(contents)\n",
    "contents"
   ]
  },
  {
   "cell_type": "code",
   "execution_count": 79,
   "id": "50e21406",
   "metadata": {},
   "outputs": [],
   "source": [
    "soup = BeautifulSoup(contents,'html.parser')\n"
   ]
  },
  {
   "cell_type": "markdown",
   "id": "96c9d501",
   "metadata": {},
   "source": [
    "### Find all the _href_ tags and store them in the list of links. Check how the list looks like - print first 30 elements\n"
   ]
  },
  {
   "cell_type": "code",
   "execution_count": 80,
   "id": "eeab7d29",
   "metadata": {},
   "outputs": [],
   "source": [
    "# Find all the href tags and store them in the list of links\n",
    "lis = [ul for ul in soup.findAll('a')]\n",
    "\n",
    "list_stack=[]\n",
    "\n",
    "for i,x in enumerate(lis) :\n",
    "    list_stack.append(x.get(\"href\"))\n",
    "    "
   ]
  },
  {
   "cell_type": "code",
   "execution_count": 81,
   "id": "6582f827",
   "metadata": {},
   "outputs": [
    {
     "data": {
      "text/plain": [
       "['/',\n",
       " '/about/',\n",
       " '/about/',\n",
       " '/policy/collection_development.html',\n",
       " '/about/contact_information.html',\n",
       " '/about/background/',\n",
       " '/policy/permission.html',\n",
       " '/policy/privacy_policy.html',\n",
       " '/policy/terms_of_use.html',\n",
       " '/ebooks/',\n",
       " '/ebooks/',\n",
       " '/ebooks/bookshelf/',\n",
       " '/browse/scores/top',\n",
       " '/ebooks/offline_catalogs.html',\n",
       " '/help/',\n",
       " '/help/',\n",
       " '/help/copyright.html',\n",
       " '/help/errata.html',\n",
       " '/help/file_formats.html',\n",
       " '/help/faq.html',\n",
       " '/policy/',\n",
       " '/help/public_domain_ebook_submission.html',\n",
       " '/help/submitting_your_own_work.html',\n",
       " '/help/mobile.html',\n",
       " '/attic/',\n",
       " '/donate/',\n",
       " '/donate/',\n",
       " '#books-last1',\n",
       " '#authors-last1',\n",
       " '#books-last7']"
      ]
     },
     "execution_count": 81,
     "metadata": {},
     "output_type": "execute_result"
    }
   ],
   "source": [
    "list_stack[:30]"
   ]
  },
  {
   "cell_type": "markdown",
   "id": "ed1e51b8",
   "metadata": {},
   "source": [
    "### Use regular expression to find the numeric digits in these links. <br>These are the file number for the Top 100 books."
   ]
  },
  {
   "cell_type": "code",
   "execution_count": 83,
   "id": "7fe36a2b",
   "metadata": {},
   "outputs": [],
   "source": [
    "#### Initialize empty list to hold the file numbers\n",
    "file_num=[]"
   ]
  },
  {
   "cell_type": "markdown",
   "id": "2ef09b1f",
   "metadata": {},
   "source": [
    "* Using the Regex for all that has pattern of ebooks text followed by / and number\n",
    "* Loop on the list stack (href list) string.\n",
    "* Determine if list has the pattern and only do this 100 x (to get top 100 books) \n"
   ]
  },
  {
   "cell_type": "code",
   "execution_count": 85,
   "id": "7b6cb7bd",
   "metadata": {},
   "outputs": [],
   "source": [
    "prog=re.compile(r\"ebooks/+[0-9]\") # Regex to get ebooks links followed by 100\n",
    "\n",
    "cntr=0\n",
    "\n",
    "for i,link in enumerate (list_stack):\n",
    "    if prog.search(link) !=None:\n",
    "        cntr=cntr+1\n",
    "        x=(re.findall('[0-9]+', link))\n",
    "        if cntr <= 100 and len(x) > 0: \n",
    "            file_num.append(int(x[0]))   \n",
    "    else: \n",
    "        next"
   ]
  },
  {
   "cell_type": "markdown",
   "id": "218f81e0",
   "metadata": {},
   "source": [
    "#### Print the file numbers"
   ]
  },
  {
   "cell_type": "code",
   "execution_count": 86,
   "id": "1c17bca8",
   "metadata": {},
   "outputs": [
    {
     "name": "stdout",
     "output_type": "stream",
     "text": [
      "\n",
      "The file numbers for the top 100 ebooks on gutenberg.org \n",
      "----------------------------------------------------------------------\n",
      "[1513, 2701, 2641, 145, 100, 37106, 16389, 6593, 67979, 1342, 394, 6761, 2160, 4085, 1259, 1512, 5197, 84, 64317, 11, 20228, 47629, 70788, 844, 98, 174, 345, 2542, 42108, 1952, 5200, 70790, 55, 1400, 1080, 1661, 25344, 76, 43, 28054, 1184, 10676, 4300, 2554, 27827, 1260, 70784, 1232, 35899, 6130, 2600, 70787, 74, 15845, 2591, 120, 1727, 996, 4363, 45, 46, 70791, 514, 768, 30254, 70793, 408, 236, 58585, 2148, 2680, 2852, 13806, 36, 23042, 158, 2500, 67098, 219, 1998, 16, 5740, 3206, 70785, 1399, 244, 35, 1497, 205, 70783, 8800, 24869, 2814, 730, 161, 135, 43453, 132, 33283, 3207, 1513, 2701, 2641, 145, 100, 37106, 16389, 6593, 67979, 1342, 394, 6761, 2160, 4085, 1259, 1512, 5197, 84, 64317, 11, 20228, 47629, 70788, 844, 98, 174, 345, 2542, 42108, 1952, 5200, 70790, 55, 1400, 1080, 1661, 25344, 76, 43, 28054, 1184, 10676, 4300, 2554, 27827, 1260, 70784, 1232, 35899, 6130, 2600, 70787, 74, 15845, 2591, 120, 1727, 996, 4363, 45, 46, 70791, 514, 768, 30254, 70793, 408, 236, 58585, 2148, 2680, 2852, 13806, 36, 23042, 158, 2500, 67098, 219, 1998, 16, 5740, 3206, 70785, 1399, 244, 35, 1497, 205, 70783, 8800, 24869, 2814, 730, 161, 135, 43453, 132, 33283, 3207]\n"
     ]
    }
   ],
   "source": [
    "# Write your code here\n",
    "print (\"\\nThe file numbers for the top 100 ebooks on gutenberg.org \\n\"+\"-\"*70)\n",
    "print(file_num)\n"
   ]
  },
  {
   "cell_type": "markdown",
   "id": "76c45890",
   "metadata": {},
   "source": [
    "### How does the `soup` object's text look like? Use `.text()` method and print only first 2000 characters (i.e. do not print the whole thing, it is long).\n"
   ]
  },
  {
   "cell_type": "code",
   "execution_count": 88,
   "id": "7d0468fa",
   "metadata": {},
   "outputs": [
    {
     "name": "stdout",
     "output_type": "stream",
     "text": [
      "\n",
      "\n",
      "\n",
      "\n",
      "Top 100 | Project Gutenberg\n",
      "\n",
      "\n",
      "\n",
      "\n",
      "\n",
      "\n",
      "\n",
      "\n",
      "\n",
      "\n",
      "\n",
      "\n",
      "\n",
      "\n",
      "\n",
      "\n",
      "\n",
      "\n",
      "\n",
      "\n",
      "\n",
      "\n",
      "\n",
      "\n",
      "\n",
      "\n",
      "\n",
      "Menu▾\n",
      "\n",
      "\n",
      "\n",
      "About\n",
      "          ▾\n",
      "\n",
      "▾\n",
      "\n",
      "\n",
      "About Project Gutenberg\n",
      "Collection Development\n",
      "Contact Us\n",
      "History & Philosophy\n",
      "Permissions & License\n",
      "Privacy Policy\n",
      "Terms of Use\n",
      "\n",
      "\n",
      "\n",
      "Search and Browse\n",
      "      \t  ▾\n",
      "\n",
      "▾\n",
      "\n",
      "\n",
      "Book Search\n",
      "Bookshelves\n",
      "Frequently Downloaded\n",
      "Offline Catalogs\n",
      "\n",
      "\n",
      "\n",
      "Help\n",
      "          ▾\n",
      "\n",
      "▾\n",
      "\n",
      "\n",
      "All help topics →\n",
      "Copyright How-To\n",
      "Errata, Fixes and Bug Reports\n",
      "File Formats\n",
      "Frequently Asked Questions\n",
      "Policies →\n",
      "Public Domain eBook Submission\n",
      "Submitting Your Own Work\n",
      "Tablets, Phones and eReaders\n",
      "The Attic →\n",
      "\n",
      "\n",
      "Donate\n",
      "\n",
      "\n",
      "\n",
      "\n",
      "\n",
      "\n",
      "\n",
      "\n",
      "\n",
      "\n",
      "Donation\n",
      "\n",
      "\n",
      "\n",
      "\n",
      "\n",
      "\n",
      "\n",
      "Frequently Viewed or Downloaded\n",
      "These listings are based on the number of times each eBook gets downloaded.\n",
      "      Multiple downloads from the same Internet address on the same day count as one download, and addresses that download more than 100 eBooks in a day are considered robots and are not counted.\n",
      "\n",
      "Downloaded Books\n",
      "2023-05-18233750\n",
      "last 7 days1577015\n",
      "last 30 days7554399\n",
      "\n",
      "\n",
      "\n",
      "Top 100 EBooks yesterday\n",
      "Top 100 Authors yesterday\n",
      "Top 100 EBooks last 7 days\n",
      "Top 100 Authors last 7 days\n",
      "Top 100 EBooks last 30 days\n",
      "Top 100 Authors last 30 days\n",
      "\n",
      "\n",
      "Top 100 EBooks yesterday\n",
      "\n",
      "Romeo and Juliet by William Shakespeare (3069)\n",
      "Moby Dick; Or, The Whale by Herman Melville (2754)\n",
      "A Room with a View by E. M.  Forster (2517)\n",
      "Middlemarch by George Eliot (2391)\n",
      "The Complete Works of William Shakespeare by William Shakespeare (2331)\n",
      "Little Women; Or, Meg, Jo, Beth, and Amy by Louisa May Alcott (2313)\n",
      "The Enchanted April by Elizabeth Von Arnim (2205)\n",
      "History of Tom Jones, a Foundling by Henry Fielding (2202)\n",
      "The Blue Castle: a novel by L. M.  Montgomery (2178)\n",
      "Pride and Prejudice by Jane Austen (2122)\n",
      "Cranford by Elizabeth Cleghorn Gaskell (2094)\n",
      "The Adventures of Ferdinand Count Fathom — Complete by T.  Smollett (2087)\n",
      "The Expedition of Humphry Clinker by T.  Smollett (2062)\n",
      "The Adventures of Roderick Random by T.  Smollett (2057)\n",
      "Twenty Years After by Alexandre Dumas (2005)\n",
      "King Richard II by William Shakes\n"
     ]
    }
   ],
   "source": [
    "print(soup.text[:2000])"
   ]
  },
  {
   "cell_type": "markdown",
   "id": "f68402a9",
   "metadata": {},
   "source": [
    "### Search in the extracted text (using regular expression) from the `soup` object to find the names of top 100 Ebooks (Yesterday's rank)"
   ]
  },
  {
   "cell_type": "code",
   "execution_count": 89,
   "id": "a1e16bb4",
   "metadata": {},
   "outputs": [],
   "source": [
    "top_100_lst=[]"
   ]
  },
  {
   "cell_type": "markdown",
   "id": "8d1bd96f",
   "metadata": {},
   "source": [
    "#### Create a starting index. It should point at the text _\"Top 100 Ebooks yesterday\"_. Hint: Use `splitlines()` method of the `soup.text`. It splits the lines of the text of the `soup` object."
   ]
  },
  {
   "cell_type": "code",
   "execution_count": 90,
   "id": "3656a4f1",
   "metadata": {},
   "outputs": [
    {
     "data": {
      "text/plain": [
       "113"
      ]
     },
     "execution_count": 90,
     "metadata": {},
     "output_type": "execute_result"
    }
   ],
   "source": [
    "start_idx=soup.text.splitlines().index('Top 100 EBooks yesterday')\n",
    "start_idx"
   ]
  },
  {
   "cell_type": "markdown",
   "id": "35f07483",
   "metadata": {},
   "source": [
    "#### Loop 1-100 to add the strings of next 100 lines to this temporary list. \n"
   ]
  },
  {
   "cell_type": "code",
   "execution_count": 95,
   "id": "40a6877e",
   "metadata": {},
   "outputs": [],
   "source": [
    "top_100_lst_temp=[]\n",
    "\n",
    "for i in range(100):\n",
    "    #use 10 to remove the other lines that are not Top 100 Ebooks\n",
    "    top_100_lst_temp.append(soup.text.splitlines()[start_idx+10+i])  "
   ]
  },
  {
   "cell_type": "code",
   "execution_count": 96,
   "id": "0830e095",
   "metadata": {},
   "outputs": [
    {
     "data": {
      "text/plain": [
       "['Romeo and Juliet by William Shakespeare (3069)',\n",
       " 'Moby Dick; Or, The Whale by Herman Melville (2754)',\n",
       " 'A Room with a View by E. M.  Forster (2517)',\n",
       " 'Middlemarch by George Eliot (2391)',\n",
       " 'The Complete Works of William Shakespeare by William Shakespeare (2331)',\n",
       " 'Little Women; Or, Meg, Jo, Beth, and Amy by Louisa May Alcott (2313)',\n",
       " 'The Enchanted April by Elizabeth Von Arnim (2205)',\n",
       " 'History of Tom Jones, a Foundling by Henry Fielding (2202)',\n",
       " 'The Blue Castle: a novel by L. M.  Montgomery (2178)',\n",
       " 'Pride and Prejudice by Jane Austen (2122)',\n",
       " 'Cranford by Elizabeth Cleghorn Gaskell (2094)',\n",
       " 'The Adventures of Ferdinand Count Fathom — Complete by T.  Smollett (2087)',\n",
       " 'The Expedition of Humphry Clinker by T.  Smollett (2062)',\n",
       " 'The Adventures of Roderick Random by T.  Smollett (2057)',\n",
       " 'Twenty Years After by Alexandre Dumas (2005)',\n",
       " 'King Richard II by William Shakespeare (1988)',\n",
       " 'My Life — Volume 1 by Richard Wagner (1978)',\n",
       " 'Frankenstein; Or, The Modern Prometheus by Mary Wollstonecraft Shelley (1976)',\n",
       " 'The Great Gatsby by F. Scott  Fitzgerald (1069)',\n",
       " \"Alice's Adventures in Wonderland by Lewis Carroll (1002)\",\n",
       " 'Noli Me Tangere by José Rizal (1000)',\n",
       " 'Ang \"Filibusterismo\" (Karugtóng ng Noli Me Tangere) by José Rizal (933)',\n",
       " 'The \"Canary\" Murder Case by S. S. Van Dine (898)',\n",
       " 'The Importance of Being Earnest: A Trivial Comedy for Serious People by Oscar Wilde (885)',\n",
       " 'A Tale of Two Cities by Charles Dickens (848)',\n",
       " 'The Picture of Dorian Gray by Oscar Wilde (816)',\n",
       " 'Dracula by Bram Stoker (717)',\n",
       " \"A Doll's House : a play by Henrik Ibsen (704)\",\n",
       " 'The slang dictionary : by John Camden Hotten (642)',\n",
       " 'The Yellow Wallpaper by Charlotte Perkins Gilman (625)',\n",
       " 'Metamorphosis by Franz Kafka (583)',\n",
       " 'The spiritual exercises of St. Ignatius adapted to an eight days retreat and six triduums in prepara (564)',\n",
       " 'The Wonderful Wizard of Oz by L. Frank  Baum (551)',\n",
       " 'Great Expectations by Charles Dickens (548)',\n",
       " 'A Modest Proposal by Jonathan Swift (531)',\n",
       " 'The Adventures of Sherlock Holmes by Arthur Conan Doyle (498)',\n",
       " 'The Scarlet Letter by Nathaniel Hawthorne (495)',\n",
       " 'Adventures of Huckleberry Finn by Mark Twain (486)',\n",
       " 'The Strange Case of Dr. Jekyll and Mr. Hyde by Robert Louis Stevenson (480)',\n",
       " 'The Brothers Karamazov by Fyodor Dostoyevsky (475)',\n",
       " 'The Count of Monte Cristo, Illustrated by Alexandre Dumas (463)',\n",
       " 'The Reign of Greed by José Rizal (460)',\n",
       " 'Ulysses by James Joyce (447)',\n",
       " 'Crime and Punishment by Fyodor Dostoyevsky (446)',\n",
       " 'The Kama Sutra of Vatsyayana by Vatsyayana (422)',\n",
       " 'Jane Eyre: An Autobiography by Charlotte Brontë (398)',\n",
       " 'Money and trade considered : by John Law (397)',\n",
       " 'The Prince by Niccolò Machiavelli (392)',\n",
       " 'The Philippines a Century Hence by José Rizal (392)',\n",
       " 'The Iliad by Homer (391)',\n",
       " 'War and Peace by graf Leo Tolstoy (388)',\n",
       " 'Under the absolute Amir by Frank A. Martin (386)',\n",
       " 'The Adventures of Tom Sawyer, Complete by Mark Twain (379)',\n",
       " 'Florante at Laura by Francisco Balagtas (371)',\n",
       " \"Grimms' Fairy Tales by Jacob Grimm and Wilhelm Grimm (368)\",\n",
       " 'Treasure Island by Robert Louis Stevenson (365)',\n",
       " 'The Odyssey by Homer (351)',\n",
       " 'Don Quixote by Miguel de Cervantes Saavedra (349)',\n",
       " 'Beyond Good and Evil by Friedrich Wilhelm Nietzsche (346)',\n",
       " 'Anne of Green Gables by L. M.  Montgomery (334)',\n",
       " 'A Christmas Carol in Prose; Being a Ghost Story of Christmas by Charles Dickens (323)',\n",
       " 'The highest aim of the physicist by Henry A. Rowland (323)',\n",
       " 'Little Women by Louisa May Alcott (313)',\n",
       " 'Wuthering Heights by Emily Brontë (311)',\n",
       " 'The Romance of Lust: A classic Victorian erotic novel by Anonymous (302)',\n",
       " \"The foundations of Einstein's theory of gravitation by Erwin Freundlich (300)\",\n",
       " 'The Souls of Black Folk by W. E. B.  Du Bois (291)',\n",
       " 'The Jungle Book by Rudyard Kipling (284)',\n",
       " 'The Prophet by Kahlil Gibran (282)',\n",
       " 'The Works of Edgar Allan Poe — Volume 2 by Edgar Allan Poe (281)',\n",
       " 'Meditations by Emperor of Rome Marcus Aurelius (279)',\n",
       " 'The Hound of the Baskervilles by Arthur Conan Doyle (278)',\n",
       " 'Overland through Asia; Pictures of Siberian, Chinese, and Tartar Life by Thomas Wallace Knox (277)',\n",
       " 'The War of the Worlds by H. G.  Wells (275)',\n",
       " 'The Tempest by William Shakespeare (274)',\n",
       " 'Emma by Jane Austen (272)',\n",
       " 'Siddhartha by Hermann Hesse (269)',\n",
       " 'Winnie-the-Pooh by A. A.  Milne (265)',\n",
       " 'Heart of Darkness by Joseph Conrad (264)',\n",
       " 'Thus Spake Zarathustra: A Book for All and None by Friedrich Wilhelm Nietzsche (259)',\n",
       " 'Peter Pan by J. M.  Barrie (258)',\n",
       " 'Tractatus Logico-Philosophicus by Ludwig Wittgenstein (258)',\n",
       " 'Moby Multiple Language Lists of Common Words by Grady Ward (257)',\n",
       " 'Falcon, of Squawtooth : by Arthur Preston Hankins (251)',\n",
       " 'Anna Karenina by graf Leo Tolstoy (250)',\n",
       " 'A Study in Scarlet by Arthur Conan Doyle (250)',\n",
       " 'The Time Machine by H. G.  Wells (248)',\n",
       " 'The Republic by Plato (243)',\n",
       " 'Walden, and On The Duty Of Civil Disobedience by Henry David Thoreau (242)',\n",
       " \"Uncle Wiggily's funny auto : by Howard Roger Garis (240)\",\n",
       " 'The divine comedy by Dante Alighieri (237)',\n",
       " 'The Rámáyan of Válmíki, translated into English verse by Valmiki (236)',\n",
       " 'Dubliners by James Joyce (235)',\n",
       " 'Oliver Twist by Charles Dickens (228)',\n",
       " 'Sense and Sensibility by Jane Austen (225)',\n",
       " 'Les Misérables by Victor Hugo (221)',\n",
       " 'A Pickle for the Knowing Ones by Timothy Dexter (220)',\n",
       " 'The Art of War by active 6th century B.C. Sunzi (219)',\n",
       " 'Calculus Made Easy by Silvanus P.  Thompson (218)',\n",
       " 'Leviathan by Thomas Hobbes (211)']"
      ]
     },
     "execution_count": 96,
     "metadata": {},
     "output_type": "execute_result"
    }
   ],
   "source": [
    "top_100_lst_temp"
   ]
  },
  {
   "cell_type": "markdown",
   "id": "a9d04fee",
   "metadata": {},
   "source": [
    "#### Use regular expression to extract only text from the name strings and append to an empty list\n"
   ]
  },
  {
   "cell_type": "code",
   "execution_count": null,
   "id": "70fc958f",
   "metadata": {},
   "outputs": [],
   "source": [
    "for i in range(100):\n",
    "    id1,id2=re.match('^[a-zA-Z ]*',top_100_lst_temp[i]).span()\n",
    "    top_100_lst.append(top_100_lst_temp[i][id1:id2])"
   ]
  },
  {
   "cell_type": "markdown",
   "id": "bd6267e0",
   "metadata": {},
   "source": [
    "#### Print the list of titles"
   ]
  },
  {
   "cell_type": "code",
   "execution_count": null,
   "id": "29cc10bb",
   "metadata": {},
   "outputs": [],
   "source": [
    "for l in top_100_lst:\n",
    "    print(l)"
   ]
  },
  {
   "cell_type": "markdown",
   "id": "9385b620",
   "metadata": {},
   "source": [
    "## Exercise 2_ Activity 10: Build your own movie database by reading from an API\n",
    "asdsad\n"
   ]
  },
  {
   "cell_type": "code",
   "execution_count": 63,
   "id": "6a73d4d3",
   "metadata": {},
   "outputs": [],
   "source": [
    "import urllib.request, urllib.parse, urllib.error\n",
    "import json"
   ]
  },
  {
   "cell_type": "code",
   "execution_count": 64,
   "id": "d9e8222f",
   "metadata": {},
   "outputs": [],
   "source": [
    "with open('APIkeys.json') as f:\n",
    "    keys = json.load(f)\n",
    "    omdbapi = keys['OMDBapi']"
   ]
  },
  {
   "cell_type": "code",
   "execution_count": 65,
   "id": "abfe757a",
   "metadata": {},
   "outputs": [],
   "source": [
    "serviceurl='http://www.omdbapi.com/?'\n",
    "apikey='&apikey='+omdbapi"
   ]
  },
  {
   "cell_type": "code",
   "execution_count": 66,
   "id": "41fd0001",
   "metadata": {},
   "outputs": [],
   "source": [
    "def print_json(json_data):\n",
    "    list_keys=['Title', 'Year', 'Rated', 'Released', 'Runtime', 'Genre', 'Director', 'Writer', \n",
    "               'Actors', 'Plot', 'Language', 'Country', 'Awards', 'Ratings', \n",
    "               'Metascore', 'imdbRating', 'imdbVotes', 'imdbID']\n",
    "    print(\"-\"*50)\n",
    "    for k in list_keys:\n",
    "        if k in list(json_data.keys()):\n",
    "            print(f\"{k}: {json_data[k]}\")\n",
    "    print(\"-\"*50)"
   ]
  },
  {
   "cell_type": "code",
   "execution_count": 67,
   "id": "539125d5",
   "metadata": {},
   "outputs": [],
   "source": [
    "def save_poster(json_data):\n",
    "    import os\n",
    "    title = json_data['Title']\n",
    "    poster_url = json_data['Poster']\n",
    "    # Splits the poster url by '.' and picks up the last string as file extension\n",
    "    poster_file_extension=poster_url.split('.')[-1]\n",
    "    # Reads the image file from web\n",
    "    poster_data = urllib.request.urlopen(poster_url).read()\n",
    "        \n",
    "    savelocation=os.getcwd()+'\\\\'+'Posters'+'\\\\'\n",
    "    # Creates new directory if the directory does not exist. Otherwise, just use the existing path.\n",
    "    if not os.path.isdir(savelocation):\n",
    "        os.mkdir(savelocation)\n",
    "    \n",
    "    filename=savelocation+str(title)+'.'+poster_file_extension\n",
    "    f=open(filename,'wb')\n",
    "    f.write(poster_data)\n",
    "    f.close()"
   ]
  },
  {
   "cell_type": "code",
   "execution_count": 68,
   "id": "93a6b5a9",
   "metadata": {},
   "outputs": [],
   "source": [
    "def search_movie(title):\n",
    "    try:\n",
    "        url = serviceurl + urllib.parse.urlencode({'t': str(title)})+apikey\n",
    "        print(f'Retrieving the data of \"{title}\" now... ')\n",
    "        print(url)\n",
    "        uh = urllib.request.urlopen(url)\n",
    "        data = uh.read()\n",
    "        json_data=json.loads(data)\n",
    "        \n",
    "        if json_data['Response']=='True':\n",
    "            print_json(json_data)\n",
    "            # Asks user whether to download the poster of the movie\n",
    "            if json_data['Poster']!='N/A':\n",
    "                save_poster(json_data)\n",
    "        else:\n",
    "            print(\"Error encountered: \",json_data['Error'])\n",
    "    \n",
    "    except urllib.error.URLError as e:\n",
    "        print(f\"ERROR: {e.reason}\")"
   ]
  },
  {
   "cell_type": "code",
   "execution_count": 69,
   "id": "ab898966",
   "metadata": {},
   "outputs": [
    {
     "name": "stdout",
     "output_type": "stream",
     "text": [
      "Retrieving the data of \"Titanic\" now... \n",
      "http://www.omdbapi.com/?t=Titanic&apikey=ce546b70\n",
      "--------------------------------------------------\n",
      "Title: Titanic\n",
      "Year: 1997\n",
      "Rated: PG-13\n",
      "Released: 19 Dec 1997\n",
      "Runtime: 194 min\n",
      "Genre: Drama, Romance\n",
      "Director: James Cameron\n",
      "Writer: James Cameron\n",
      "Actors: Leonardo DiCaprio, Kate Winslet, Billy Zane\n",
      "Plot: A seventeen-year-old aristocrat falls in love with a kind but poor artist aboard the luxurious, ill-fated R.M.S. Titanic.\n",
      "Language: English, Swedish, Italian, French\n",
      "Country: United States, Mexico\n",
      "Awards: Won 11 Oscars. 126 wins & 83 nominations total\n",
      "Ratings: [{'Source': 'Internet Movie Database', 'Value': '7.9/10'}, {'Source': 'Rotten Tomatoes', 'Value': '88%'}, {'Source': 'Metacritic', 'Value': '75/100'}]\n",
      "Metascore: 75\n",
      "imdbRating: 7.9\n",
      "imdbVotes: 1,215,822\n",
      "imdbID: tt0120338\n",
      "--------------------------------------------------\n"
     ]
    }
   ],
   "source": [
    "search_movie(\"Titanic\")"
   ]
  },
  {
   "cell_type": "code",
   "execution_count": 70,
   "id": "6f311929",
   "metadata": {},
   "outputs": [
    {
     "name": "stdout",
     "output_type": "stream",
     "text": [
      "Retrieving the data of \"Random_error\" now... \n",
      "http://www.omdbapi.com/?t=Random_error&apikey=ce546b70\n",
      "Error encountered:  Movie not found!\n"
     ]
    }
   ],
   "source": [
    "search_movie(\"Random_error\")"
   ]
  },
  {
   "cell_type": "markdown",
   "id": "e93ed1d4",
   "metadata": {},
   "source": [
    "## Exercise 3. Connect to an API of your choice and do a simple data pull - you can use any API - except the API you have selected for your project.\n",
    "\n",
    "For this exercise, I have used \"https://dictionaryapi.com/products/api-collegiate-dictionary\"\n",
    "\n"
   ]
  },
  {
   "cell_type": "markdown",
   "id": "79873649",
   "metadata": {},
   "source": [
    "### Imported needed Libraries\n"
   ]
  },
  {
   "cell_type": "code",
   "execution_count": 26,
   "id": "59d1498f",
   "metadata": {},
   "outputs": [],
   "source": [
    "import urllib.request, urllib.parse, urllib.error\n",
    "import json\n",
    "import requests"
   ]
  },
  {
   "cell_type": "markdown",
   "id": "09572620",
   "metadata": {},
   "source": [
    "### Load the secret API key from the website after registration"
   ]
  },
  {
   "cell_type": "code",
   "execution_count": 4,
   "id": "55bad7ae",
   "metadata": {},
   "outputs": [],
   "source": [
    "with open('APIkeys.json') as f:\n",
    "    keys = json.load(f)\n",
    "    MWDICT = keys['DICTIONARY']"
   ]
  },
  {
   "cell_type": "markdown",
   "id": "21350514",
   "metadata": {},
   "source": [
    "### Define URL format"
   ]
  },
  {
   "cell_type": "code",
   "execution_count": 6,
   "id": "2491e6d5",
   "metadata": {},
   "outputs": [],
   "source": [
    "MWdict_url='https://www.dictionaryapi.com/api/v3/references/collegiate/json/'\n",
    "apikey='?key='+MWDICT"
   ]
  },
  {
   "cell_type": "markdown",
   "id": "55a93cb1",
   "metadata": {},
   "source": [
    "### Created a function that will use 'get' method from request library and then upon successful connection and retrival, convert the result to JSON format  "
   ]
  },
  {
   "cell_type": "code",
   "execution_count": 58,
   "id": "50ac8e43",
   "metadata": {},
   "outputs": [],
   "source": [
    "def search_word(word):\n",
    "    json_data=[]\n",
    "    url = MWdict_url + word+apikey\n",
    "    print(url)\n",
    "    r = requests.get(url)\n",
    "    if r.status_code==200:\n",
    "        print(f'Retrieving the definition of the word \"{word}\" now... ')\n",
    "        contents = r.content.decode(r.encoding)\n",
    "        json_data=json.loads(contents)\n",
    "    else:\n",
    "        print('failed')\n",
    "    return json_data"
   ]
  },
  {
   "cell_type": "markdown",
   "id": "e5159c6d",
   "metadata": {},
   "source": [
    "### Call the function and pass the needed word to get the Merriam Webster Dictionary information in json format for further processing"
   ]
  },
  {
   "cell_type": "code",
   "execution_count": 61,
   "id": "9db2cb79",
   "metadata": {},
   "outputs": [
    {
     "name": "stdout",
     "output_type": "stream",
     "text": [
      "https://www.dictionaryapi.com/api/v3/references/collegiate/json/Analytics?key=723fa4c4-ed72-453d-a584-f6aa5c9ed09e\n",
      "Retrieving the definition of the word \"Analytics\" now... \n"
     ]
    }
   ],
   "source": [
    "MWDict_Json=search_word('Analytics')"
   ]
  },
  {
   "cell_type": "code",
   "execution_count": 62,
   "id": "62a5b215",
   "metadata": {},
   "outputs": [
    {
     "data": {
      "text/plain": [
       "[{'meta': {'id': 'analytics',\n",
       "   'uuid': '93d5da95-e31c-4ce1-a577-7796598cca04',\n",
       "   'sort': '012590000',\n",
       "   'src': 'collegiate',\n",
       "   'section': 'alpha',\n",
       "   'stems': ['analytics'],\n",
       "   'offensive': False},\n",
       "  'hwi': {'hw': 'an*a*lyt*ics',\n",
       "   'prs': [{'mw': 'ˌa-nə-ˈli-tiks',\n",
       "     'sound': {'audio': 'analyt05', 'ref': 'c', 'stat': '1'}}]},\n",
       "  'fl': 'noun',\n",
       "  'ins': [{'il': 'plural in form but singular or plural in construction'}],\n",
       "  'def': [{'sseq': [[['sense',\n",
       "       {'dt': [['text', '{bc}the method of logical {a_link|analysis}']]}]]]}],\n",
       "  'et': [['text',\n",
       "    \"borrowed from Late Latin {it}Analytica,{/it} title of two of Aristotle's works on logic, borrowed from Greek {it}analytiká,{/it} noun derivative from neuter plural of {it}analytikós{/it} {et_link|analytic|analytic}\"]],\n",
       "  'date': 'circa 1590',\n",
       "  'shortdef': ['the method of logical analysis']}]"
      ]
     },
     "execution_count": 62,
     "metadata": {},
     "output_type": "execute_result"
    }
   ],
   "source": [
    "MWDict_Json"
   ]
  },
  {
   "cell_type": "markdown",
   "id": "6897df63",
   "metadata": {},
   "source": [
    "# Exercise 4. Using one of the datasets provided in Weeks 7 & 8, or a dataset of your own, choose 3 of the following visualizations to complete. You must submit via PDF along with your code. You are free to use Matplotlib, Seaborn or another package if you prefer.\n",
    "\n",
    "* Line\n",
    "* Scatter\n",
    "* Bar\n",
    "* Histogram\n",
    "* Density Plot\n",
    "* Pie Chart"
   ]
  },
  {
   "cell_type": "code",
   "execution_count": 3,
   "id": "dc33ce2e",
   "metadata": {},
   "outputs": [],
   "source": [
    "import pandas as pd\n",
    "import matplotlib.pyplot as plt\n",
    "\n",
    "%matplotlib inline\n",
    "\n",
    "#pd.set_option('display.max_columns', None)\n",
    "#pd.set_option('display.max_rows', None)\n",
    "#pd.set_option('max_colwidth', 800)"
   ]
  },
  {
   "cell_type": "code",
   "execution_count": 4,
   "id": "4b11bcf4",
   "metadata": {},
   "outputs": [
    {
     "data": {
      "text/plain": [
       "(1259, 123)"
      ]
     },
     "execution_count": 4,
     "metadata": {},
     "output_type": "execute_result"
    }
   ],
   "source": [
    "df_2016 = pd.read_excel(\"BOING-BOING-CANDY-HIERARCHY-2016-SURVEY-Responses.xlsx\")\n",
    "df_2016.shape"
   ]
  },
  {
   "cell_type": "code",
   "execution_count": 5,
   "id": "ec42137c",
   "metadata": {},
   "outputs": [
    {
     "data": {
      "text/html": [
       "<div>\n",
       "<style scoped>\n",
       "    .dataframe tbody tr th:only-of-type {\n",
       "        vertical-align: middle;\n",
       "    }\n",
       "\n",
       "    .dataframe tbody tr th {\n",
       "        vertical-align: top;\n",
       "    }\n",
       "\n",
       "    .dataframe thead th {\n",
       "        text-align: right;\n",
       "    }\n",
       "</style>\n",
       "<table border=\"1\" class=\"dataframe\">\n",
       "  <thead>\n",
       "    <tr style=\"text-align: right;\">\n",
       "      <th></th>\n",
       "      <th>Timestamp</th>\n",
       "      <th>Are you going actually going trick or treating yourself?</th>\n",
       "      <th>Your gender:</th>\n",
       "      <th>How old are you?</th>\n",
       "      <th>Which country do you live in?</th>\n",
       "      <th>Which state, province, county do you live in?</th>\n",
       "      <th>[100 Grand Bar]</th>\n",
       "      <th>[Anonymous brown globs that come in black and orange wrappers]</th>\n",
       "      <th>[Any full-sized candy bar]</th>\n",
       "      <th>[Black Jacks]</th>\n",
       "      <th>...</th>\n",
       "      <th>Please estimate the degree(s) of separation you have from the following celebrities [JK Rowling]</th>\n",
       "      <th>Please estimate the degree(s) of separation you have from the following celebrities [JJ Abrams]</th>\n",
       "      <th>Please estimate the degree(s) of separation you have from the following celebrities [Beyoncé]</th>\n",
       "      <th>Please estimate the degree(s) of separation you have from the following celebrities [Bieber]</th>\n",
       "      <th>Please estimate the degree(s) of separation you have from the following celebrities [Kevin Bacon]</th>\n",
       "      <th>Please estimate the degree(s) of separation you have from the following celebrities [Francis Bacon (1561 - 1626)]</th>\n",
       "      <th>Which day do you prefer, Friday or Sunday?</th>\n",
       "      <th>Do you eat apples the correct way, East to West (side to side) or do you eat them like a freak of nature, South to North (bottom to top)?</th>\n",
       "      <th>When you see the above image of the 4 different websites, which one would you most likely check out (please be honest).</th>\n",
       "      <th>[York Peppermint Patties] Ignore</th>\n",
       "    </tr>\n",
       "  </thead>\n",
       "  <tbody>\n",
       "    <tr>\n",
       "      <th>0</th>\n",
       "      <td>2016-10-24 05:09:23.033</td>\n",
       "      <td>No</td>\n",
       "      <td>Male</td>\n",
       "      <td>22</td>\n",
       "      <td>Canada</td>\n",
       "      <td>Ontario</td>\n",
       "      <td>JOY</td>\n",
       "      <td>DESPAIR</td>\n",
       "      <td>JOY</td>\n",
       "      <td>MEH</td>\n",
       "      <td>...</td>\n",
       "      <td>3 or higher</td>\n",
       "      <td>2</td>\n",
       "      <td>3 or higher</td>\n",
       "      <td>3 or higher</td>\n",
       "      <td>3 or higher</td>\n",
       "      <td>3 or higher</td>\n",
       "      <td>Friday</td>\n",
       "      <td>South to North</td>\n",
       "      <td>Science: Latest News and Headlines</td>\n",
       "      <td>NaN</td>\n",
       "    </tr>\n",
       "    <tr>\n",
       "      <th>1</th>\n",
       "      <td>2016-10-24 05:09:54.798</td>\n",
       "      <td>No</td>\n",
       "      <td>Male</td>\n",
       "      <td>45</td>\n",
       "      <td>usa</td>\n",
       "      <td>il</td>\n",
       "      <td>MEH</td>\n",
       "      <td>MEH</td>\n",
       "      <td>JOY</td>\n",
       "      <td>JOY</td>\n",
       "      <td>...</td>\n",
       "      <td>3 or higher</td>\n",
       "      <td>3 or higher</td>\n",
       "      <td>3 or higher</td>\n",
       "      <td>3 or higher</td>\n",
       "      <td>3 or higher</td>\n",
       "      <td>3 or higher</td>\n",
       "      <td>Friday</td>\n",
       "      <td>East to West</td>\n",
       "      <td>Science: Latest News and Headlines</td>\n",
       "      <td>NaN</td>\n",
       "    </tr>\n",
       "    <tr>\n",
       "      <th>2</th>\n",
       "      <td>2016-10-24 05:13:06.734</td>\n",
       "      <td>No</td>\n",
       "      <td>Female</td>\n",
       "      <td>48</td>\n",
       "      <td>US</td>\n",
       "      <td>Colorado</td>\n",
       "      <td>JOY</td>\n",
       "      <td>DESPAIR</td>\n",
       "      <td>JOY</td>\n",
       "      <td>MEH</td>\n",
       "      <td>...</td>\n",
       "      <td>3 or higher</td>\n",
       "      <td>3 or higher</td>\n",
       "      <td>3 or higher</td>\n",
       "      <td>3 or higher</td>\n",
       "      <td>3 or higher</td>\n",
       "      <td>3 or higher</td>\n",
       "      <td>Sunday</td>\n",
       "      <td>East to West</td>\n",
       "      <td>Science: Latest News and Headlines</td>\n",
       "      <td>NaN</td>\n",
       "    </tr>\n",
       "    <tr>\n",
       "      <th>3</th>\n",
       "      <td>2016-10-24 05:14:17.192</td>\n",
       "      <td>No</td>\n",
       "      <td>Male</td>\n",
       "      <td>57</td>\n",
       "      <td>usa</td>\n",
       "      <td>il</td>\n",
       "      <td>JOY</td>\n",
       "      <td>MEH</td>\n",
       "      <td>JOY</td>\n",
       "      <td>MEH</td>\n",
       "      <td>...</td>\n",
       "      <td>3 or higher</td>\n",
       "      <td>3 or higher</td>\n",
       "      <td>3 or higher</td>\n",
       "      <td>3 or higher</td>\n",
       "      <td>3 or higher</td>\n",
       "      <td>3 or higher</td>\n",
       "      <td>Sunday</td>\n",
       "      <td>South to North</td>\n",
       "      <td>Science: Latest News and Headlines</td>\n",
       "      <td>NaN</td>\n",
       "    </tr>\n",
       "    <tr>\n",
       "      <th>4</th>\n",
       "      <td>2016-10-24 05:14:24.625</td>\n",
       "      <td>Yes</td>\n",
       "      <td>Male</td>\n",
       "      <td>42</td>\n",
       "      <td>USA</td>\n",
       "      <td>South Dakota</td>\n",
       "      <td>MEH</td>\n",
       "      <td>DESPAIR</td>\n",
       "      <td>JOY</td>\n",
       "      <td>DESPAIR</td>\n",
       "      <td>...</td>\n",
       "      <td>3 or higher</td>\n",
       "      <td>3 or higher</td>\n",
       "      <td>3 or higher</td>\n",
       "      <td>3 or higher</td>\n",
       "      <td>3 or higher</td>\n",
       "      <td>3 or higher</td>\n",
       "      <td>Friday</td>\n",
       "      <td>East to West</td>\n",
       "      <td>ESPN</td>\n",
       "      <td>NaN</td>\n",
       "    </tr>\n",
       "  </tbody>\n",
       "</table>\n",
       "<p>5 rows × 123 columns</p>\n",
       "</div>"
      ],
      "text/plain": [
       "                Timestamp  \\\n",
       "0 2016-10-24 05:09:23.033   \n",
       "1 2016-10-24 05:09:54.798   \n",
       "2 2016-10-24 05:13:06.734   \n",
       "3 2016-10-24 05:14:17.192   \n",
       "4 2016-10-24 05:14:24.625   \n",
       "\n",
       "  Are you going actually going trick or treating yourself? Your gender:  \\\n",
       "0                                                 No               Male   \n",
       "1                                                 No               Male   \n",
       "2                                                 No             Female   \n",
       "3                                                 No               Male   \n",
       "4                                                Yes               Male   \n",
       "\n",
       "  How old are you? Which country do you live in?  \\\n",
       "0               22                        Canada   \n",
       "1               45                           usa   \n",
       "2               48                            US   \n",
       "3               57                           usa   \n",
       "4               42                           USA   \n",
       "\n",
       "  Which state, province, county do you live in?  [100 Grand Bar]  \\\n",
       "0                                       Ontario              JOY   \n",
       "1                                            il              MEH   \n",
       "2                                      Colorado              JOY   \n",
       "3                                            il              JOY   \n",
       "4                                  South Dakota              MEH   \n",
       "\n",
       "   [Anonymous brown globs that come in black and orange wrappers]  \\\n",
       "0                                            DESPAIR                \n",
       "1                                                MEH                \n",
       "2                                            DESPAIR                \n",
       "3                                                MEH                \n",
       "4                                            DESPAIR                \n",
       "\n",
       "   [Any full-sized candy bar]  [Black Jacks]  ...  \\\n",
       "0                         JOY            MEH  ...   \n",
       "1                         JOY            JOY  ...   \n",
       "2                         JOY            MEH  ...   \n",
       "3                         JOY            MEH  ...   \n",
       "4                         JOY        DESPAIR  ...   \n",
       "\n",
       "  Please estimate the degree(s) of separation you have from the following celebrities [JK Rowling]  \\\n",
       "0                                        3 or higher                                                 \n",
       "1                                        3 or higher                                                 \n",
       "2                                        3 or higher                                                 \n",
       "3                                        3 or higher                                                 \n",
       "4                                        3 or higher                                                 \n",
       "\n",
       "  Please estimate the degree(s) of separation you have from the following celebrities [JJ Abrams]  \\\n",
       "0                                                  2                                                \n",
       "1                                        3 or higher                                                \n",
       "2                                        3 or higher                                                \n",
       "3                                        3 or higher                                                \n",
       "4                                        3 or higher                                                \n",
       "\n",
       "  Please estimate the degree(s) of separation you have from the following celebrities [Beyoncé]  \\\n",
       "0                                        3 or higher                                              \n",
       "1                                        3 or higher                                              \n",
       "2                                        3 or higher                                              \n",
       "3                                        3 or higher                                              \n",
       "4                                        3 or higher                                              \n",
       "\n",
       "  Please estimate the degree(s) of separation you have from the following celebrities [Bieber]  \\\n",
       "0                                        3 or higher                                             \n",
       "1                                        3 or higher                                             \n",
       "2                                        3 or higher                                             \n",
       "3                                        3 or higher                                             \n",
       "4                                        3 or higher                                             \n",
       "\n",
       "  Please estimate the degree(s) of separation you have from the following celebrities [Kevin Bacon]  \\\n",
       "0                                        3 or higher                                                  \n",
       "1                                        3 or higher                                                  \n",
       "2                                        3 or higher                                                  \n",
       "3                                        3 or higher                                                  \n",
       "4                                        3 or higher                                                  \n",
       "\n",
       "  Please estimate the degree(s) of separation you have from the following celebrities [Francis Bacon (1561 - 1626)]  \\\n",
       "0                                        3 or higher                                                                  \n",
       "1                                        3 or higher                                                                  \n",
       "2                                        3 or higher                                                                  \n",
       "3                                        3 or higher                                                                  \n",
       "4                                        3 or higher                                                                  \n",
       "\n",
       "  Which day do you prefer, Friday or Sunday?  \\\n",
       "0                                     Friday   \n",
       "1                                     Friday   \n",
       "2                                     Sunday   \n",
       "3                                     Sunday   \n",
       "4                                     Friday   \n",
       "\n",
       "  Do you eat apples the correct way, East to West (side to side) or do you eat them like a freak of nature, South to North (bottom to top)?  \\\n",
       "0                                     South to North                                                                                          \n",
       "1                                       East to West                                                                                          \n",
       "2                                       East to West                                                                                          \n",
       "3                                     South to North                                                                                          \n",
       "4                                       East to West                                                                                          \n",
       "\n",
       "  When you see the above image of the 4 different websites, which one would you most likely check out (please be honest).  \\\n",
       "0                 Science: Latest News and Headlines                                                                        \n",
       "1                 Science: Latest News and Headlines                                                                        \n",
       "2                 Science: Latest News and Headlines                                                                        \n",
       "3                 Science: Latest News and Headlines                                                                        \n",
       "4                                               ESPN                                                                        \n",
       "\n",
       "   [York Peppermint Patties] Ignore  \n",
       "0                               NaN  \n",
       "1                               NaN  \n",
       "2                               NaN  \n",
       "3                               NaN  \n",
       "4                               NaN  \n",
       "\n",
       "[5 rows x 123 columns]"
      ]
     },
     "execution_count": 5,
     "metadata": {},
     "output_type": "execute_result"
    }
   ],
   "source": [
    "df_2016.head()"
   ]
  },
  {
   "cell_type": "code",
   "execution_count": 7,
   "id": "33aea951",
   "metadata": {},
   "outputs": [
    {
     "data": {
      "text/plain": [
       "<AxesSubplot:>"
      ]
     },
     "execution_count": 7,
     "metadata": {},
     "output_type": "execute_result"
    },
    {
     "data": {
      "image/png": "[encoded data removed]",
      "text/plain": [
       "<Figure size 640x480 with 1 Axes>"
      ]
     },
     "metadata": {},
     "output_type": "display_data"
    }
   ],
   "source": []
  },
  {
   "cell_type": "code",
   "execution_count": null,
   "id": "5e797711",
   "metadata": {},
   "outputs": [],
   "source": []
  },
  {
   "cell_type": "code",
   "execution_count": null,
   "id": "41d4e921",
   "metadata": {},
   "outputs": [],
   "source": []
  },
  {
   "cell_type": "code",
   "execution_count": null,
   "id": "5fc3264b",
   "metadata": {},
   "outputs": [],
   "source": []
  },
  {
   "cell_type": "code",
   "execution_count": null,
   "id": "b10badfc",
   "metadata": {},
   "outputs": [],
   "source": []
  },
  {
   "cell_type": "code",
   "execution_count": null,
   "id": "aa9aaa5e",
   "metadata": {},
   "outputs": [],
   "source": []
  },
  {
   "cell_type": "code",
   "execution_count": null,
   "id": "47476871",
   "metadata": {},
   "outputs": [],
   "source": []
  },
  {
   "cell_type": "code",
   "execution_count": null,
   "id": "425a0d2b",
   "metadata": {},
   "outputs": [],
   "source": []
  },
  {
   "cell_type": "code",
   "execution_count": null,
   "id": "6677bfd9",
   "metadata": {},
   "outputs": [],
   "source": []
  }
 ],
 "metadata": {
  "kernelspec": {
   "display_name": "Python 3 (ipykernel)",
   "language": "python",
   "name": "python3"
  },
  "language_info": {
   "codemirror_mode": {
    "name": "ipython",
    "version": 3
   },
   "file_extension": ".py",
   "mimetype": "text/x-python",
   "name": "python",
   "nbconvert_exporter": "python",
   "pygments_lexer": "ipython3",
   "version": "3.9.13"
  }
 },
 "nbformat": 4,
 "nbformat_minor": 5
}
