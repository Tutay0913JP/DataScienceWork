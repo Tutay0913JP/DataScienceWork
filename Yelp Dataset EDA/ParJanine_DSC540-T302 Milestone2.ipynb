{
 "cells": [
  {
   "cell_type": "markdown",
   "id": "1d6079fd",
   "metadata": {},
   "source": [
    "# DSC530 - Final Term Project\n",
    "## Janine Par "
   ]
  },
  {
   "cell_type": "code",
   "execution_count": 1,
   "id": "fd4abadb",
   "metadata": {},
   "outputs": [],
   "source": [
    "import numpy as np  \n",
    "import pandas as pd  \n",
    "\n",
    "import sys\n",
    "from operator import itemgetter\n",
    "\n",
    "import first\n",
    "import thinkstats2\n",
    "\n",
    "import json\n",
    "import datetime\n",
    "import numpy as np\n",
    "import re\n",
    "import matplotlib.pyplot as plt\n",
    "import matplotlib.image as mpimg\n",
    "\n",
    "\n",
    "pd.set_option('display.max_columns', None)\n",
    "pd.set_option('display.max_rows', None)\n",
    "pd.set_option('max_colwidth', 800)\n"
   ]
  },
  {
   "cell_type": "markdown",
   "id": "063670e8",
   "metadata": {},
   "source": [
    "# Business Data"
   ]
  },
  {
   "cell_type": "markdown",
   "id": "3ac5ff7a",
   "metadata": {},
   "source": [
    "### Get Restaurant Data"
   ]
  },
  {
   "cell_type": "code",
   "execution_count": 2,
   "id": "94a2cd25",
   "metadata": {
    "scrolled": false
   },
   "outputs": [
    {
     "data": {
      "text/plain": [
       "array(['business_id', 'name', 'address', 'city', 'state', 'postal_code',\n",
       "       'latitude', 'longitude', 'stars', 'review_count', 'is_open',\n",
       "       'attributes', 'categories', 'hours'], dtype=object)"
      ]
     },
     "execution_count": 2,
     "metadata": {},
     "output_type": "execute_result"
    }
   ],
   "source": [
    "bus = pd.read_json(\"yelp_academic_dataset_business.json\", lines=True)\n",
    "bus.columns.values\n",
    "#bus.categories.value_counts().sort_index()"
   ]
  },
  {
   "cell_type": "code",
   "execution_count": 3,
   "id": "c1a81d78",
   "metadata": {
    "scrolled": true
   },
   "outputs": [
    {
     "data": {
      "text/plain": [
       "(64616, 14)"
      ]
     },
     "execution_count": 3,
     "metadata": {},
     "output_type": "execute_result"
    }
   ],
   "source": [
    "#Filter out null categories then get only categories like restraurant, food and bar\n",
    "bus= bus[~bus['categories'].isnull()]\n",
    "bus_rest = bus.query('categories.str.contains(\"Restaurants\") or categories.str.contains(\"Food\")', engine='python')\n",
    "bus_rest.categories\n",
    "bus_rest.shape"
   ]
  },
  {
   "cell_type": "markdown",
   "id": "da70ec32",
   "metadata": {},
   "source": [
    "### Star Rating "
   ]
  },
  {
   "cell_type": "code",
   "execution_count": 4,
   "id": "88bcd32e",
   "metadata": {},
   "outputs": [
    {
     "data": {
      "image/png": "[encoded data removed]",
      "text/plain": [
       "<Figure size 640x480 with 1 Axes>"
      ]
     },
     "metadata": {},
     "output_type": "display_data"
    }
   ],
   "source": [
    "hist_rc = thinkstats2.Hist(bus_rest.stars)\n",
    "import thinkplot\n",
    "thinkplot.Hist(hist_rc)\n",
    "thinkplot.Config(xlabel='stars', ylabel='frequency')"
   ]
  },
  {
   "cell_type": "code",
   "execution_count": 6,
   "id": "481b97e7",
   "metadata": {},
   "outputs": [
    {
     "data": {
      "text/plain": [
       "(3.54595610994181, 0.7291771776143263, 0.8539187183885398)"
      ]
     },
     "execution_count": 6,
     "metadata": {},
     "output_type": "execute_result"
    }
   ],
   "source": [
    "stars_mean=bus_rest.stars.mean()\n",
    "stars_var=bus_rest.stars.var()\n",
    "stars_std=bus_rest.stars.std()\n",
    "\n",
    "stars_mean, stars_var, stars_std"
   ]
  },
  {
   "cell_type": "markdown",
   "id": "e247ce48",
   "metadata": {},
   "source": [
    "### Review Count"
   ]
  },
  {
   "cell_type": "code",
   "execution_count": 10,
   "id": "1b959be6",
   "metadata": {},
   "outputs": [
    {
     "data": {
      "text/html": [
       "<div>\n",
       "<style scoped>\n",
       "    .dataframe tbody tr th:only-of-type {\n",
       "        vertical-align: middle;\n",
       "    }\n",
       "\n",
       "    .dataframe tbody tr th {\n",
       "        vertical-align: top;\n",
       "    }\n",
       "\n",
       "    .dataframe thead th {\n",
       "        text-align: right;\n",
       "    }\n",
       "</style>\n",
       "<table border=\"1\" class=\"dataframe\">\n",
       "  <thead>\n",
       "    <tr style=\"text-align: right;\">\n",
       "      <th></th>\n",
       "      <th>latitude</th>\n",
       "      <th>longitude</th>\n",
       "      <th>stars</th>\n",
       "      <th>review_count</th>\n",
       "      <th>is_open</th>\n",
       "      <th>attribute_count</th>\n",
       "    </tr>\n",
       "  </thead>\n",
       "  <tbody>\n",
       "    <tr>\n",
       "      <th>count</th>\n",
       "      <td>64616.000000</td>\n",
       "      <td>64616.000000</td>\n",
       "      <td>64616.000000</td>\n",
       "      <td>64616.000000</td>\n",
       "      <td>64616.000000</td>\n",
       "      <td>64616.000000</td>\n",
       "    </tr>\n",
       "    <tr>\n",
       "      <th>mean</th>\n",
       "      <td>36.969131</td>\n",
       "      <td>-88.095324</td>\n",
       "      <td>3.545956</td>\n",
       "      <td>76.614089</td>\n",
       "      <td>0.689953</td>\n",
       "      <td>5.894175</td>\n",
       "    </tr>\n",
       "    <tr>\n",
       "      <th>std</th>\n",
       "      <td>6.019271</td>\n",
       "      <td>14.024538</td>\n",
       "      <td>0.853919</td>\n",
       "      <td>173.383983</td>\n",
       "      <td>0.462516</td>\n",
       "      <td>3.053842</td>\n",
       "    </tr>\n",
       "    <tr>\n",
       "      <th>min</th>\n",
       "      <td>27.564457</td>\n",
       "      <td>-120.083748</td>\n",
       "      <td>1.000000</td>\n",
       "      <td>5.000000</td>\n",
       "      <td>0.000000</td>\n",
       "      <td>0.000000</td>\n",
       "    </tr>\n",
       "    <tr>\n",
       "      <th>25%</th>\n",
       "      <td>32.207349</td>\n",
       "      <td>-90.247145</td>\n",
       "      <td>3.000000</td>\n",
       "      <td>12.000000</td>\n",
       "      <td>0.000000</td>\n",
       "      <td>4.000000</td>\n",
       "    </tr>\n",
       "    <tr>\n",
       "      <th>50%</th>\n",
       "      <td>39.479423</td>\n",
       "      <td>-86.048171</td>\n",
       "      <td>3.500000</td>\n",
       "      <td>28.000000</td>\n",
       "      <td>1.000000</td>\n",
       "      <td>6.000000</td>\n",
       "    </tr>\n",
       "    <tr>\n",
       "      <th>75%</th>\n",
       "      <td>39.958128</td>\n",
       "      <td>-75.346978</td>\n",
       "      <td>4.000000</td>\n",
       "      <td>75.000000</td>\n",
       "      <td>1.000000</td>\n",
       "      <td>8.000000</td>\n",
       "    </tr>\n",
       "    <tr>\n",
       "      <th>max</th>\n",
       "      <td>53.679197</td>\n",
       "      <td>-74.661348</td>\n",
       "      <td>5.000000</td>\n",
       "      <td>7568.000000</td>\n",
       "      <td>1.000000</td>\n",
       "      <td>17.000000</td>\n",
       "    </tr>\n",
       "  </tbody>\n",
       "</table>\n",
       "</div>"
      ],
      "text/plain": [
       "           latitude     longitude         stars  review_count       is_open  \\\n",
       "count  64616.000000  64616.000000  64616.000000  64616.000000  64616.000000   \n",
       "mean      36.969131    -88.095324      3.545956     76.614089      0.689953   \n",
       "std        6.019271     14.024538      0.853919    173.383983      0.462516   \n",
       "min       27.564457   -120.083748      1.000000      5.000000      0.000000   \n",
       "25%       32.207349    -90.247145      3.000000     12.000000      0.000000   \n",
       "50%       39.479423    -86.048171      3.500000     28.000000      1.000000   \n",
       "75%       39.958128    -75.346978      4.000000     75.000000      1.000000   \n",
       "max       53.679197    -74.661348      5.000000   7568.000000      1.000000   \n",
       "\n",
       "       attribute_count  \n",
       "count     64616.000000  \n",
       "mean          5.894175  \n",
       "std           3.053842  \n",
       "min           0.000000  \n",
       "25%           4.000000  \n",
       "50%           6.000000  \n",
       "75%           8.000000  \n",
       "max          17.000000  "
      ]
     },
     "execution_count": 10,
     "metadata": {},
     "output_type": "execute_result"
    }
   ],
   "source": [
    "bus_rest.describe()\n"
   ]
  },
  {
   "cell_type": "markdown",
   "id": "677c49f9",
   "metadata": {},
   "source": [
    "### Get the number of Features or Attribute that is true for the establishment"
   ]
  },
  {
   "cell_type": "code",
   "execution_count": 9,
   "id": "7275e7c3",
   "metadata": {},
   "outputs": [
    {
     "name": "stderr",
     "output_type": "stream",
     "text": [
      "C:\\Users\\janin\\AppData\\Local\\Temp\\ipykernel_3728\\3678255082.py:12: SettingWithCopyWarning: \n",
      "A value is trying to be set on a copy of a slice from a DataFrame.\n",
      "Try using .loc[row_indexer,col_indexer] = value instead\n",
      "\n",
      "See the caveats in the documentation: https://pandas.pydata.org/pandas-docs/stable/user_guide/indexing.html#returning-a-view-versus-a-copy\n",
      "  bus_rest['attribute_count']=attributes_count\n"
     ]
    }
   ],
   "source": [
    "    attributes_count = []\n",
    "    for idx, row in bus_rest['attributes'].iteritems():\n",
    "        att_count = 0\n",
    "        if row is None:\n",
    "             attributes_count.append(att_count) #This is to Handle rows without Attributes or column is NonType\n",
    "        else:\n",
    "            for i in row:\n",
    "                if row[i] == \"True\":\n",
    "                    att_count = att_count + 1\n",
    "                    #print(att_count)\n",
    "            attributes_count.append(att_count)\n",
    "    bus_rest['attribute_count']=attributes_count    "
   ]
  },
  {
   "cell_type": "markdown",
   "id": "aca01806",
   "metadata": {},
   "source": [
    "### attribute_count histogram"
   ]
  },
  {
   "cell_type": "markdown",
   "id": "648ecb38",
   "metadata": {},
   "source": [
    "### Get Price Range "
   ]
  },
  {
   "cell_type": "code",
   "execution_count": 11,
   "id": "2899e8fb",
   "metadata": {},
   "outputs": [
    {
     "name": "stderr",
     "output_type": "stream",
     "text": [
      "C:\\Users\\janin\\AppData\\Local\\Temp\\ipykernel_3728\\3203000271.py:12: SettingWithCopyWarning: \n",
      "A value is trying to be set on a copy of a slice from a DataFrame.\n",
      "Try using .loc[row_indexer,col_indexer] = value instead\n",
      "\n",
      "See the caveats in the documentation: https://pandas.pydata.org/pandas-docs/stable/user_guide/indexing.html#returning-a-view-versus-a-copy\n",
      "  bus_rest['RestaurantsPriceRange2']=RestaurantsPriceRange2\n"
     ]
    }
   ],
   "source": [
    "RestaurantsPriceRange2=[]\n",
    "for idx, row in bus_rest['attributes'].iteritems():\n",
    "    if row is None:\n",
    "        RestaurantsPriceRange2.append(None) #This is to Handle rows without Attributes or column is NonType\n",
    "    else:\n",
    "        l=row.keys()\n",
    "        if 'RestaurantsPriceRange2' in l:\n",
    "            RestaurantsPriceRange2.append(row['RestaurantsPriceRange2'])\n",
    "        else:\n",
    "            RestaurantsPriceRange2.append(None)\n",
    "     \n",
    "bus_rest['RestaurantsPriceRange2']=RestaurantsPriceRange2"
   ]
  },
  {
   "cell_type": "markdown",
   "id": "65a0f298",
   "metadata": {},
   "source": [
    "# CHECK-IN DATA"
   ]
  },
  {
   "cell_type": "code",
   "execution_count": 12,
   "id": "4a3b5d1b",
   "metadata": {},
   "outputs": [
    {
     "name": "stdout",
     "output_type": "stream",
     "text": [
      "['business_id' 'date']\n"
     ]
    }
   ],
   "source": [
    "df_checkin = pd.read_json(\"yelp_academic_dataset_checkin.json\", lines=True)\n",
    "print(df_checkin.columns.values)"
   ]
  },
  {
   "cell_type": "markdown",
   "id": "71a09291",
   "metadata": {},
   "source": [
    "### Count the number of checkin date from the date fields which is comma delimited"
   ]
  },
  {
   "cell_type": "code",
   "execution_count": 13,
   "id": "45477549",
   "metadata": {},
   "outputs": [
    {
     "data": {
      "text/html": [
       "<div>\n",
       "<style scoped>\n",
       "    .dataframe tbody tr th:only-of-type {\n",
       "        vertical-align: middle;\n",
       "    }\n",
       "\n",
       "    .dataframe tbody tr th {\n",
       "        vertical-align: top;\n",
       "    }\n",
       "\n",
       "    .dataframe thead th {\n",
       "        text-align: right;\n",
       "    }\n",
       "</style>\n",
       "<table border=\"1\" class=\"dataframe\">\n",
       "  <thead>\n",
       "    <tr style=\"text-align: right;\">\n",
       "      <th></th>\n",
       "      <th>business_id</th>\n",
       "      <th>date</th>\n",
       "      <th>checkin_count</th>\n",
       "    </tr>\n",
       "  </thead>\n",
       "  <tbody>\n",
       "    <tr>\n",
       "      <th>87962</th>\n",
       "      <td>el83zfEgg_5bBz5Et9rZ6Q</td>\n",
       "      <td>2019-12-24 00:14:38, 2020-03-08 18:44:04, 2020-03-08 18:44:38, 2020-04-03 21:59:24, 2020-04-21 23:05:03, 2020-08-27 21:47:02, 2020-09-13 22:00:34, 2020-10-10 22:44:51, 2021-02-22 23:26:57, 2021-03-21 18:53:10, 2021-04-09 23:38:36, 2021-04-27 22:13:12, 2021-05-07 23:36:26, 2021-06-04 18:15:18, 2021-06-30 22:41:55, 2021-07-02 21:35:04, 2021-07-04 19:47:17, 2021-09-12 23:24:59</td>\n",
       "      <td>17</td>\n",
       "    </tr>\n",
       "  </tbody>\n",
       "</table>\n",
       "</div>"
      ],
      "text/plain": [
       "                  business_id  \\\n",
       "87962  el83zfEgg_5bBz5Et9rZ6Q   \n",
       "\n",
       "                                                                                                                                                                                                                                                                                                                                                                                           date  \\\n",
       "87962  2019-12-24 00:14:38, 2020-03-08 18:44:04, 2020-03-08 18:44:38, 2020-04-03 21:59:24, 2020-04-21 23:05:03, 2020-08-27 21:47:02, 2020-09-13 22:00:34, 2020-10-10 22:44:51, 2021-02-22 23:26:57, 2021-03-21 18:53:10, 2021-04-09 23:38:36, 2021-04-27 22:13:12, 2021-05-07 23:36:26, 2021-06-04 18:15:18, 2021-06-30 22:41:55, 2021-07-02 21:35:04, 2021-07-04 19:47:17, 2021-09-12 23:24:59   \n",
       "\n",
       "       checkin_count  \n",
       "87962             17  "
      ]
     },
     "execution_count": 13,
     "metadata": {},
     "output_type": "execute_result"
    }
   ],
   "source": [
    "df_checkin.head()\n",
    "\n",
    "# Get the count of check-in date\n",
    "df_checkin['checkin_count'] = df_checkin.date.str.count(',') \n",
    "\n",
    "#Validate if correct \n",
    "df_checkin[df_checkin.business_id=='el83zfEgg_5bBz5Et9rZ6Q']    "
   ]
  },
  {
   "cell_type": "markdown",
   "id": "44896e29",
   "metadata": {},
   "source": [
    "Join to get the business details"
   ]
  },
  {
   "cell_type": "markdown",
   "id": "0c6e2635",
   "metadata": {},
   "source": [
    "Get the Checkin Date"
   ]
  },
  {
   "cell_type": "code",
   "execution_count": 18,
   "id": "74cce696",
   "metadata": {
    "scrolled": true
   },
   "outputs": [
    {
     "data": {
      "text/html": [
       "<div>\n",
       "<style scoped>\n",
       "    .dataframe tbody tr th:only-of-type {\n",
       "        vertical-align: middle;\n",
       "    }\n",
       "\n",
       "    .dataframe tbody tr th {\n",
       "        vertical-align: top;\n",
       "    }\n",
       "\n",
       "    .dataframe thead th {\n",
       "        text-align: right;\n",
       "    }\n",
       "</style>\n",
       "<table border=\"1\" class=\"dataframe\">\n",
       "  <thead>\n",
       "    <tr style=\"text-align: right;\">\n",
       "      <th></th>\n",
       "      <th>business_id</th>\n",
       "      <th>date</th>\n",
       "      <th>checkin_count</th>\n",
       "      <th>name</th>\n",
       "      <th>address</th>\n",
       "      <th>city</th>\n",
       "      <th>state</th>\n",
       "      <th>postal_code</th>\n",
       "      <th>latitude</th>\n",
       "      <th>longitude</th>\n",
       "      <th>stars</th>\n",
       "      <th>review_count</th>\n",
       "      <th>is_open</th>\n",
       "      <th>attributes</th>\n",
       "      <th>categories</th>\n",
       "      <th>hours</th>\n",
       "      <th>attribute_count</th>\n",
       "      <th>RestaurantsPriceRange2</th>\n",
       "    </tr>\n",
       "  </thead>\n",
       "  <tbody>\n",
       "    <tr>\n",
       "      <th>0</th>\n",
       "      <td>---kPU91CF4Lq2-WlRu9Lw</td>\n",
       "      <td>2020-03-13 21:10:56</td>\n",
       "      <td>10</td>\n",
       "      <td>Frankie's Raw Bar</td>\n",
       "      <td>4903 State Rd 54</td>\n",
       "      <td>New Port Richey</td>\n",
       "      <td>FL</td>\n",
       "      <td>34652</td>\n",
       "      <td>28.217288</td>\n",
       "      <td>-82.733344</td>\n",
       "      <td>4.5</td>\n",
       "      <td>24</td>\n",
       "      <td>1</td>\n",
       "      <td>{'Alcohol': 'u'none'', 'OutdoorSeating': 'True', 'BusinessAcceptsCreditCards': 'True', 'RestaurantsTakeOut': 'True', 'Ambience': '{'touristy': False, 'hipster': False, 'romantic': False, 'divey': False, 'intimate': False, 'trendy': False, 'upscale': False, 'classy': True, 'casual': False}', 'BikeParking': 'True', 'RestaurantsReservations': 'False', 'DogsAllowed': 'True', 'HasTV': 'False', 'RestaurantsDelivery': 'False', 'WiFi': 'u'no'', 'BusinessAcceptsBitcoin': 'False', 'WheelchairAccessible': 'True', 'BusinessParking': '{'garage': False, 'street': False, 'validated': False, 'lot': True, 'valet': False}', 'RestaurantsTableService': 'True', 'BYOB': 'True', 'Corkage': 'False', 'Caters': 'True'}</td>\n",
       "      <td>Seafood, Restaurants, Latin American, Food, Food Trucks</td>\n",
       "      <td>{'Monday': '0:0-0:0', 'Tuesday': '11:0-21:0', 'Wednesday': '11:0-21:0', 'Thursday': '11:0-21:0', 'Friday': '11:0-22:0', 'Saturday': '11:0-22:0'}</td>\n",
       "      <td>9</td>\n",
       "      <td>None</td>\n",
       "    </tr>\n",
       "    <tr>\n",
       "      <th>0</th>\n",
       "      <td>---kPU91CF4Lq2-WlRu9Lw</td>\n",
       "      <td>2020-06-02 22:18:06</td>\n",
       "      <td>10</td>\n",
       "      <td>Frankie's Raw Bar</td>\n",
       "      <td>4903 State Rd 54</td>\n",
       "      <td>New Port Richey</td>\n",
       "      <td>FL</td>\n",
       "      <td>34652</td>\n",
       "      <td>28.217288</td>\n",
       "      <td>-82.733344</td>\n",
       "      <td>4.5</td>\n",
       "      <td>24</td>\n",
       "      <td>1</td>\n",
       "      <td>{'Alcohol': 'u'none'', 'OutdoorSeating': 'True', 'BusinessAcceptsCreditCards': 'True', 'RestaurantsTakeOut': 'True', 'Ambience': '{'touristy': False, 'hipster': False, 'romantic': False, 'divey': False, 'intimate': False, 'trendy': False, 'upscale': False, 'classy': True, 'casual': False}', 'BikeParking': 'True', 'RestaurantsReservations': 'False', 'DogsAllowed': 'True', 'HasTV': 'False', 'RestaurantsDelivery': 'False', 'WiFi': 'u'no'', 'BusinessAcceptsBitcoin': 'False', 'WheelchairAccessible': 'True', 'BusinessParking': '{'garage': False, 'street': False, 'validated': False, 'lot': True, 'valet': False}', 'RestaurantsTableService': 'True', 'BYOB': 'True', 'Corkage': 'False', 'Caters': 'True'}</td>\n",
       "      <td>Seafood, Restaurants, Latin American, Food, Food Trucks</td>\n",
       "      <td>{'Monday': '0:0-0:0', 'Tuesday': '11:0-21:0', 'Wednesday': '11:0-21:0', 'Thursday': '11:0-21:0', 'Friday': '11:0-22:0', 'Saturday': '11:0-22:0'}</td>\n",
       "      <td>9</td>\n",
       "      <td>None</td>\n",
       "    </tr>\n",
       "  </tbody>\n",
       "</table>\n",
       "</div>"
      ],
      "text/plain": [
       "              business_id                  date  checkin_count  \\\n",
       "0  ---kPU91CF4Lq2-WlRu9Lw   2020-03-13 21:10:56             10   \n",
       "0  ---kPU91CF4Lq2-WlRu9Lw   2020-06-02 22:18:06             10   \n",
       "\n",
       "                name           address             city state postal_code  \\\n",
       "0  Frankie's Raw Bar  4903 State Rd 54  New Port Richey    FL       34652   \n",
       "0  Frankie's Raw Bar  4903 State Rd 54  New Port Richey    FL       34652   \n",
       "\n",
       "    latitude  longitude  stars  review_count  is_open  \\\n",
       "0  28.217288 -82.733344    4.5            24        1   \n",
       "0  28.217288 -82.733344    4.5            24        1   \n",
       "\n",
       "                                                                                                                                                                                                                                                                                                                                                                                                                                                                                                                                                                                                                                                                                                                       attributes  \\\n",
       "0  {'Alcohol': 'u'none'', 'OutdoorSeating': 'True', 'BusinessAcceptsCreditCards': 'True', 'RestaurantsTakeOut': 'True', 'Ambience': '{'touristy': False, 'hipster': False, 'romantic': False, 'divey': False, 'intimate': False, 'trendy': False, 'upscale': False, 'classy': True, 'casual': False}', 'BikeParking': 'True', 'RestaurantsReservations': 'False', 'DogsAllowed': 'True', 'HasTV': 'False', 'RestaurantsDelivery': 'False', 'WiFi': 'u'no'', 'BusinessAcceptsBitcoin': 'False', 'WheelchairAccessible': 'True', 'BusinessParking': '{'garage': False, 'street': False, 'validated': False, 'lot': True, 'valet': False}', 'RestaurantsTableService': 'True', 'BYOB': 'True', 'Corkage': 'False', 'Caters': 'True'}   \n",
       "0  {'Alcohol': 'u'none'', 'OutdoorSeating': 'True', 'BusinessAcceptsCreditCards': 'True', 'RestaurantsTakeOut': 'True', 'Ambience': '{'touristy': False, 'hipster': False, 'romantic': False, 'divey': False, 'intimate': False, 'trendy': False, 'upscale': False, 'classy': True, 'casual': False}', 'BikeParking': 'True', 'RestaurantsReservations': 'False', 'DogsAllowed': 'True', 'HasTV': 'False', 'RestaurantsDelivery': 'False', 'WiFi': 'u'no'', 'BusinessAcceptsBitcoin': 'False', 'WheelchairAccessible': 'True', 'BusinessParking': '{'garage': False, 'street': False, 'validated': False, 'lot': True, 'valet': False}', 'RestaurantsTableService': 'True', 'BYOB': 'True', 'Corkage': 'False', 'Caters': 'True'}   \n",
       "\n",
       "                                                categories  \\\n",
       "0  Seafood, Restaurants, Latin American, Food, Food Trucks   \n",
       "0  Seafood, Restaurants, Latin American, Food, Food Trucks   \n",
       "\n",
       "                                                                                                                                              hours  \\\n",
       "0  {'Monday': '0:0-0:0', 'Tuesday': '11:0-21:0', 'Wednesday': '11:0-21:0', 'Thursday': '11:0-21:0', 'Friday': '11:0-22:0', 'Saturday': '11:0-22:0'}   \n",
       "0  {'Monday': '0:0-0:0', 'Tuesday': '11:0-21:0', 'Wednesday': '11:0-21:0', 'Thursday': '11:0-21:0', 'Friday': '11:0-22:0', 'Saturday': '11:0-22:0'}   \n",
       "\n",
       "   attribute_count RestaurantsPriceRange2  \n",
       "0                9                   None  \n",
       "0                9                   None  "
      ]
     },
     "execution_count": 18,
     "metadata": {},
     "output_type": "execute_result"
    }
   ],
   "source": [
    "df_checkin_bus_yr = df_checkin_bus.assign(date=df_checkin.date.str.split(\",\")).explode('date')\n",
    "\n",
    "df_checkin_bus_yr.head(2)"
   ]
  },
  {
   "cell_type": "markdown",
   "id": "c3b4b02d",
   "metadata": {},
   "source": [
    "Add Year Column from the checkin date"
   ]
  },
  {
   "cell_type": "code",
   "execution_count": 19,
   "id": "8f2e1b6d",
   "metadata": {},
   "outputs": [
    {
     "data": {
      "text/html": [
       "<div>\n",
       "<style scoped>\n",
       "    .dataframe tbody tr th:only-of-type {\n",
       "        vertical-align: middle;\n",
       "    }\n",
       "\n",
       "    .dataframe tbody tr th {\n",
       "        vertical-align: top;\n",
       "    }\n",
       "\n",
       "    .dataframe thead th {\n",
       "        text-align: right;\n",
       "    }\n",
       "</style>\n",
       "<table border=\"1\" class=\"dataframe\">\n",
       "  <thead>\n",
       "    <tr style=\"text-align: right;\">\n",
       "      <th></th>\n",
       "      <th>business_id</th>\n",
       "      <th>date</th>\n",
       "      <th>checkin_count</th>\n",
       "      <th>name</th>\n",
       "      <th>address</th>\n",
       "      <th>city</th>\n",
       "      <th>state</th>\n",
       "      <th>postal_code</th>\n",
       "      <th>latitude</th>\n",
       "      <th>longitude</th>\n",
       "      <th>stars</th>\n",
       "      <th>review_count</th>\n",
       "      <th>is_open</th>\n",
       "      <th>attributes</th>\n",
       "      <th>categories</th>\n",
       "      <th>hours</th>\n",
       "      <th>attribute_count</th>\n",
       "      <th>RestaurantsPriceRange2</th>\n",
       "      <th>yyyy</th>\n",
       "    </tr>\n",
       "  </thead>\n",
       "  <tbody>\n",
       "    <tr>\n",
       "      <th>0</th>\n",
       "      <td>---kPU91CF4Lq2-WlRu9Lw</td>\n",
       "      <td>2020-03-13 21:10:56</td>\n",
       "      <td>10</td>\n",
       "      <td>Frankie's Raw Bar</td>\n",
       "      <td>4903 State Rd 54</td>\n",
       "      <td>New Port Richey</td>\n",
       "      <td>FL</td>\n",
       "      <td>34652</td>\n",
       "      <td>28.217288</td>\n",
       "      <td>-82.733344</td>\n",
       "      <td>4.5</td>\n",
       "      <td>24</td>\n",
       "      <td>1</td>\n",
       "      <td>{'Alcohol': 'u'none'', 'OutdoorSeating': 'True', 'BusinessAcceptsCreditCards': 'True', 'RestaurantsTakeOut': 'True', 'Ambience': '{'touristy': False, 'hipster': False, 'romantic': False, 'divey': False, 'intimate': False, 'trendy': False, 'upscale': False, 'classy': True, 'casual': False}', 'BikeParking': 'True', 'RestaurantsReservations': 'False', 'DogsAllowed': 'True', 'HasTV': 'False', 'RestaurantsDelivery': 'False', 'WiFi': 'u'no'', 'BusinessAcceptsBitcoin': 'False', 'WheelchairAccessible': 'True', 'BusinessParking': '{'garage': False, 'street': False, 'validated': False, 'lot': True, 'valet': False}', 'RestaurantsTableService': 'True', 'BYOB': 'True', 'Corkage': 'False', 'Caters': 'True'}</td>\n",
       "      <td>Seafood, Restaurants, Latin American, Food, Food Trucks</td>\n",
       "      <td>{'Monday': '0:0-0:0', 'Tuesday': '11:0-21:0', 'Wednesday': '11:0-21:0', 'Thursday': '11:0-21:0', 'Friday': '11:0-22:0', 'Saturday': '11:0-22:0'}</td>\n",
       "      <td>9</td>\n",
       "      <td>None</td>\n",
       "      <td>2020</td>\n",
       "    </tr>\n",
       "    <tr>\n",
       "      <th>0</th>\n",
       "      <td>---kPU91CF4Lq2-WlRu9Lw</td>\n",
       "      <td>2020-06-02 22:18:06</td>\n",
       "      <td>10</td>\n",
       "      <td>Frankie's Raw Bar</td>\n",
       "      <td>4903 State Rd 54</td>\n",
       "      <td>New Port Richey</td>\n",
       "      <td>FL</td>\n",
       "      <td>34652</td>\n",
       "      <td>28.217288</td>\n",
       "      <td>-82.733344</td>\n",
       "      <td>4.5</td>\n",
       "      <td>24</td>\n",
       "      <td>1</td>\n",
       "      <td>{'Alcohol': 'u'none'', 'OutdoorSeating': 'True', 'BusinessAcceptsCreditCards': 'True', 'RestaurantsTakeOut': 'True', 'Ambience': '{'touristy': False, 'hipster': False, 'romantic': False, 'divey': False, 'intimate': False, 'trendy': False, 'upscale': False, 'classy': True, 'casual': False}', 'BikeParking': 'True', 'RestaurantsReservations': 'False', 'DogsAllowed': 'True', 'HasTV': 'False', 'RestaurantsDelivery': 'False', 'WiFi': 'u'no'', 'BusinessAcceptsBitcoin': 'False', 'WheelchairAccessible': 'True', 'BusinessParking': '{'garage': False, 'street': False, 'validated': False, 'lot': True, 'valet': False}', 'RestaurantsTableService': 'True', 'BYOB': 'True', 'Corkage': 'False', 'Caters': 'True'}</td>\n",
       "      <td>Seafood, Restaurants, Latin American, Food, Food Trucks</td>\n",
       "      <td>{'Monday': '0:0-0:0', 'Tuesday': '11:0-21:0', 'Wednesday': '11:0-21:0', 'Thursday': '11:0-21:0', 'Friday': '11:0-22:0', 'Saturday': '11:0-22:0'}</td>\n",
       "      <td>9</td>\n",
       "      <td>None</td>\n",
       "      <td>2020</td>\n",
       "    </tr>\n",
       "  </tbody>\n",
       "</table>\n",
       "</div>"
      ],
      "text/plain": [
       "              business_id                  date  checkin_count  \\\n",
       "0  ---kPU91CF4Lq2-WlRu9Lw   2020-03-13 21:10:56             10   \n",
       "0  ---kPU91CF4Lq2-WlRu9Lw   2020-06-02 22:18:06             10   \n",
       "\n",
       "                name           address             city state postal_code  \\\n",
       "0  Frankie's Raw Bar  4903 State Rd 54  New Port Richey    FL       34652   \n",
       "0  Frankie's Raw Bar  4903 State Rd 54  New Port Richey    FL       34652   \n",
       "\n",
       "    latitude  longitude  stars  review_count  is_open  \\\n",
       "0  28.217288 -82.733344    4.5            24        1   \n",
       "0  28.217288 -82.733344    4.5            24        1   \n",
       "\n",
       "                                                                                                                                                                                                                                                                                                                                                                                                                                                                                                                                                                                                                                                                                                                       attributes  \\\n",
       "0  {'Alcohol': 'u'none'', 'OutdoorSeating': 'True', 'BusinessAcceptsCreditCards': 'True', 'RestaurantsTakeOut': 'True', 'Ambience': '{'touristy': False, 'hipster': False, 'romantic': False, 'divey': False, 'intimate': False, 'trendy': False, 'upscale': False, 'classy': True, 'casual': False}', 'BikeParking': 'True', 'RestaurantsReservations': 'False', 'DogsAllowed': 'True', 'HasTV': 'False', 'RestaurantsDelivery': 'False', 'WiFi': 'u'no'', 'BusinessAcceptsBitcoin': 'False', 'WheelchairAccessible': 'True', 'BusinessParking': '{'garage': False, 'street': False, 'validated': False, 'lot': True, 'valet': False}', 'RestaurantsTableService': 'True', 'BYOB': 'True', 'Corkage': 'False', 'Caters': 'True'}   \n",
       "0  {'Alcohol': 'u'none'', 'OutdoorSeating': 'True', 'BusinessAcceptsCreditCards': 'True', 'RestaurantsTakeOut': 'True', 'Ambience': '{'touristy': False, 'hipster': False, 'romantic': False, 'divey': False, 'intimate': False, 'trendy': False, 'upscale': False, 'classy': True, 'casual': False}', 'BikeParking': 'True', 'RestaurantsReservations': 'False', 'DogsAllowed': 'True', 'HasTV': 'False', 'RestaurantsDelivery': 'False', 'WiFi': 'u'no'', 'BusinessAcceptsBitcoin': 'False', 'WheelchairAccessible': 'True', 'BusinessParking': '{'garage': False, 'street': False, 'validated': False, 'lot': True, 'valet': False}', 'RestaurantsTableService': 'True', 'BYOB': 'True', 'Corkage': 'False', 'Caters': 'True'}   \n",
       "\n",
       "                                                categories  \\\n",
       "0  Seafood, Restaurants, Latin American, Food, Food Trucks   \n",
       "0  Seafood, Restaurants, Latin American, Food, Food Trucks   \n",
       "\n",
       "                                                                                                                                              hours  \\\n",
       "0  {'Monday': '0:0-0:0', 'Tuesday': '11:0-21:0', 'Wednesday': '11:0-21:0', 'Thursday': '11:0-21:0', 'Friday': '11:0-22:0', 'Saturday': '11:0-22:0'}   \n",
       "0  {'Monday': '0:0-0:0', 'Tuesday': '11:0-21:0', 'Wednesday': '11:0-21:0', 'Thursday': '11:0-21:0', 'Friday': '11:0-22:0', 'Saturday': '11:0-22:0'}   \n",
       "\n",
       "   attribute_count RestaurantsPriceRange2  yyyy  \n",
       "0                9                   None  2020  \n",
       "0                9                   None  2020  "
      ]
     },
     "execution_count": 19,
     "metadata": {},
     "output_type": "execute_result"
    }
   ],
   "source": [
    "df_checkin_bus_yr['yyyy']=pd.to_datetime(df_checkin_bus_yr['date']).dt.year\n",
    "\n",
    "df_checkin_bus_yr.head(2)"
   ]
  },
  {
   "cell_type": "markdown",
   "id": "619a8bd7",
   "metadata": {},
   "source": [
    "# TIP DATA"
   ]
  },
  {
   "cell_type": "code",
   "execution_count": 21,
   "id": "10da91b9",
   "metadata": {},
   "outputs": [
    {
     "name": "stdout",
     "output_type": "stream",
     "text": [
      "['user_id' 'business_id' 'text' 'date' 'compliment_count']\n"
     ]
    }
   ],
   "source": [
    "tip = pd.read_json(\"yelp_academic_dataset_tip.json\", lines=True)\n",
    "print(tip.columns.values)"
   ]
  },
  {
   "cell_type": "code",
   "execution_count": 22,
   "id": "b9a7b1de",
   "metadata": {},
   "outputs": [
    {
     "data": {
      "text/plain": [
       "(718687, 20)"
      ]
     },
     "execution_count": 22,
     "metadata": {},
     "output_type": "execute_result"
    }
   ],
   "source": [
    "tip=tip.join(bus_rest.set_index('business_id'), on='business_id', how='inner')\n",
    "tip.shape"
   ]
  },
  {
   "cell_type": "code",
   "execution_count": 156,
   "id": "0589b43a",
   "metadata": {},
   "outputs": [
    {
     "data": {
      "text/html": [
       "<div>\n",
       "<style scoped>\n",
       "    .dataframe tbody tr th:only-of-type {\n",
       "        vertical-align: middle;\n",
       "    }\n",
       "\n",
       "    .dataframe tbody tr th {\n",
       "        vertical-align: top;\n",
       "    }\n",
       "\n",
       "    .dataframe thead th {\n",
       "        text-align: right;\n",
       "    }\n",
       "</style>\n",
       "<table border=\"1\" class=\"dataframe\">\n",
       "  <thead>\n",
       "    <tr style=\"text-align: right;\">\n",
       "      <th></th>\n",
       "      <th>user_id</th>\n",
       "      <th>business_id</th>\n",
       "      <th>text</th>\n",
       "      <th>date</th>\n",
       "      <th>compliment_count</th>\n",
       "      <th>name</th>\n",
       "      <th>address</th>\n",
       "      <th>city</th>\n",
       "      <th>state</th>\n",
       "      <th>postal_code</th>\n",
       "      <th>latitude</th>\n",
       "      <th>longitude</th>\n",
       "      <th>stars</th>\n",
       "      <th>review_count</th>\n",
       "      <th>is_open</th>\n",
       "      <th>attributes</th>\n",
       "      <th>categories</th>\n",
       "      <th>hours</th>\n",
       "      <th>attribute_count</th>\n",
       "      <th>RestaurantsPriceRange2</th>\n",
       "    </tr>\n",
       "  </thead>\n",
       "  <tbody>\n",
       "    <tr>\n",
       "      <th>1</th>\n",
       "      <td>NBN4MgHP9D3cw--SnauTkA</td>\n",
       "      <td>QoezRbYQncpRqyrLH6Iqjg</td>\n",
       "      <td>They have lots of good deserts and tasty cuban sandwiches</td>\n",
       "      <td>2013-02-05 18:35:10</td>\n",
       "      <td>0</td>\n",
       "      <td>La Segunda Central Bakery</td>\n",
       "      <td>2512 N 15th St</td>\n",
       "      <td>Tampa</td>\n",
       "      <td>FL</td>\n",
       "      <td>33605</td>\n",
       "      <td>27.965865</td>\n",
       "      <td>-82.443197</td>\n",
       "      <td>4.5</td>\n",
       "      <td>339</td>\n",
       "      <td>1</td>\n",
       "      <td>{'BikeParking': 'True', 'BusinessAcceptsCreditCards': 'True', 'RestaurantsPriceRange2': '1', 'BusinessParking': '{'garage': False, 'street': True, 'validated': False, 'lot': True, 'valet': False}', 'HappyHour': 'False', 'NoiseLevel': ''average'', 'Caters': 'True', 'HasTV': 'False', 'GoodForMeal': '{'dessert': False, 'latenight': False, 'lunch': True, 'dinner': False, 'brunch': False, 'breakfast': True}', 'RestaurantsTakeOut': 'True', 'RestaurantsGoodForGroups': 'True', 'GoodForKids': 'True', 'Ambience': '{'romantic': False, 'intimate': False, 'classy': False, 'hipster': False, 'divey': False, 'touristy': False, 'trendy': False, 'upscale': False, 'casual': True}', 'Alcohol': ''none'', 'RestaurantsReservations': 'False', 'RestaurantsTableService': 'False', 'DogsAllowed': 'False', 'Restau...</td>\n",
       "      <td>Bakeries, Restaurants, Coffee &amp; Tea, Food, Cuban</td>\n",
       "      <td>{'Monday': '0:0-0:0', 'Tuesday': '6:30-15:0', 'Wednesday': '6:30-15:0', 'Thursday': '6:30-15:0', 'Friday': '6:30-15:0', 'Saturday': '6:30-15:0', 'Sunday': '6:30-15:0'}</td>\n",
       "      <td>9</td>\n",
       "      <td>1</td>\n",
       "    </tr>\n",
       "  </tbody>\n",
       "</table>\n",
       "</div>"
      ],
      "text/plain": [
       "                  user_id             business_id  \\\n",
       "1  NBN4MgHP9D3cw--SnauTkA  QoezRbYQncpRqyrLH6Iqjg   \n",
       "\n",
       "                                                        text  \\\n",
       "1  They have lots of good deserts and tasty cuban sandwiches   \n",
       "\n",
       "                 date  compliment_count                       name  \\\n",
       "1 2013-02-05 18:35:10                 0  La Segunda Central Bakery   \n",
       "\n",
       "          address   city state postal_code   latitude  longitude  stars  \\\n",
       "1  2512 N 15th St  Tampa    FL       33605  27.965865 -82.443197    4.5   \n",
       "\n",
       "   review_count  is_open  \\\n",
       "1           339        1   \n",
       "\n",
       "                                                                                                                                                                                                                                                                                                                                                                                                                                                                                                                                                                                                                                                                                                                                                                                                                        attributes  \\\n",
       "1  {'BikeParking': 'True', 'BusinessAcceptsCreditCards': 'True', 'RestaurantsPriceRange2': '1', 'BusinessParking': '{'garage': False, 'street': True, 'validated': False, 'lot': True, 'valet': False}', 'HappyHour': 'False', 'NoiseLevel': ''average'', 'Caters': 'True', 'HasTV': 'False', 'GoodForMeal': '{'dessert': False, 'latenight': False, 'lunch': True, 'dinner': False, 'brunch': False, 'breakfast': True}', 'RestaurantsTakeOut': 'True', 'RestaurantsGoodForGroups': 'True', 'GoodForKids': 'True', 'Ambience': '{'romantic': False, 'intimate': False, 'classy': False, 'hipster': False, 'divey': False, 'touristy': False, 'trendy': False, 'upscale': False, 'casual': True}', 'Alcohol': ''none'', 'RestaurantsReservations': 'False', 'RestaurantsTableService': 'False', 'DogsAllowed': 'False', 'Restau...   \n",
       "\n",
       "                                         categories  \\\n",
       "1  Bakeries, Restaurants, Coffee & Tea, Food, Cuban   \n",
       "\n",
       "                                                                                                                                                                     hours  \\\n",
       "1  {'Monday': '0:0-0:0', 'Tuesday': '6:30-15:0', 'Wednesday': '6:30-15:0', 'Thursday': '6:30-15:0', 'Friday': '6:30-15:0', 'Saturday': '6:30-15:0', 'Sunday': '6:30-15:0'}   \n",
       "\n",
       "   attribute_count RestaurantsPriceRange2  \n",
       "1                9                      1  "
      ]
     },
     "execution_count": 156,
     "metadata": {},
     "output_type": "execute_result"
    }
   ],
   "source": [
    "tip.head(1)"
   ]
  },
  {
   "cell_type": "code",
   "execution_count": 23,
   "id": "da60fc14",
   "metadata": {},
   "outputs": [
    {
     "data": {
      "text/html": [
       "<div>\n",
       "<style scoped>\n",
       "    .dataframe tbody tr th:only-of-type {\n",
       "        vertical-align: middle;\n",
       "    }\n",
       "\n",
       "    .dataframe tbody tr th {\n",
       "        vertical-align: top;\n",
       "    }\n",
       "\n",
       "    .dataframe thead th {\n",
       "        text-align: right;\n",
       "    }\n",
       "</style>\n",
       "<table border=\"1\" class=\"dataframe\">\n",
       "  <thead>\n",
       "    <tr style=\"text-align: right;\">\n",
       "      <th></th>\n",
       "      <th>user_id</th>\n",
       "      <th>business_id</th>\n",
       "      <th>text</th>\n",
       "      <th>date</th>\n",
       "      <th>compliment_count</th>\n",
       "      <th>name</th>\n",
       "      <th>address</th>\n",
       "      <th>city</th>\n",
       "      <th>state</th>\n",
       "      <th>postal_code</th>\n",
       "      <th>latitude</th>\n",
       "      <th>longitude</th>\n",
       "      <th>stars</th>\n",
       "      <th>review_count</th>\n",
       "      <th>is_open</th>\n",
       "      <th>attributes</th>\n",
       "      <th>categories</th>\n",
       "      <th>hours</th>\n",
       "      <th>attribute_count</th>\n",
       "      <th>RestaurantsPriceRange2</th>\n",
       "      <th>Year_Tip</th>\n",
       "    </tr>\n",
       "  </thead>\n",
       "  <tbody>\n",
       "    <tr>\n",
       "      <th>1</th>\n",
       "      <td>NBN4MgHP9D3cw--SnauTkA</td>\n",
       "      <td>QoezRbYQncpRqyrLH6Iqjg</td>\n",
       "      <td>They have lots of good deserts and tasty cuban sandwiches</td>\n",
       "      <td>2013-02-05 18:35:10</td>\n",
       "      <td>0</td>\n",
       "      <td>La Segunda Central Bakery</td>\n",
       "      <td>2512 N 15th St</td>\n",
       "      <td>Tampa</td>\n",
       "      <td>FL</td>\n",
       "      <td>33605</td>\n",
       "      <td>27.965865</td>\n",
       "      <td>-82.443197</td>\n",
       "      <td>4.5</td>\n",
       "      <td>339</td>\n",
       "      <td>1</td>\n",
       "      <td>{'BikeParking': 'True', 'BusinessAcceptsCreditCards': 'True', 'RestaurantsPriceRange2': '1', 'BusinessParking': '{'garage': False, 'street': True, 'validated': False, 'lot': True, 'valet': False}', 'HappyHour': 'False', 'NoiseLevel': ''average'', 'Caters': 'True', 'HasTV': 'False', 'GoodForMeal': '{'dessert': False, 'latenight': False, 'lunch': True, 'dinner': False, 'brunch': False, 'breakfast': True}', 'RestaurantsTakeOut': 'True', 'RestaurantsGoodForGroups': 'True', 'GoodForKids': 'True', 'Ambience': '{'romantic': False, 'intimate': False, 'classy': False, 'hipster': False, 'divey': False, 'touristy': False, 'trendy': False, 'upscale': False, 'casual': True}', 'Alcohol': ''none'', 'RestaurantsReservations': 'False', 'RestaurantsTableService': 'False', 'DogsAllowed': 'False', 'Restau...</td>\n",
       "      <td>Bakeries, Restaurants, Coffee &amp; Tea, Food, Cuban</td>\n",
       "      <td>{'Monday': '0:0-0:0', 'Tuesday': '6:30-15:0', 'Wednesday': '6:30-15:0', 'Thursday': '6:30-15:0', 'Friday': '6:30-15:0', 'Saturday': '6:30-15:0', 'Sunday': '6:30-15:0'}</td>\n",
       "      <td>9</td>\n",
       "      <td>1</td>\n",
       "      <td>2013</td>\n",
       "    </tr>\n",
       "    <tr>\n",
       "      <th>2956</th>\n",
       "      <td>DWryovIM4VF2vim4p6WYaw</td>\n",
       "      <td>QoezRbYQncpRqyrLH6Iqjg</td>\n",
       "      <td>Turkey and roast beef</td>\n",
       "      <td>2012-10-11 13:04:02</td>\n",
       "      <td>0</td>\n",
       "      <td>La Segunda Central Bakery</td>\n",
       "      <td>2512 N 15th St</td>\n",
       "      <td>Tampa</td>\n",
       "      <td>FL</td>\n",
       "      <td>33605</td>\n",
       "      <td>27.965865</td>\n",
       "      <td>-82.443197</td>\n",
       "      <td>4.5</td>\n",
       "      <td>339</td>\n",
       "      <td>1</td>\n",
       "      <td>{'BikeParking': 'True', 'BusinessAcceptsCreditCards': 'True', 'RestaurantsPriceRange2': '1', 'BusinessParking': '{'garage': False, 'street': True, 'validated': False, 'lot': True, 'valet': False}', 'HappyHour': 'False', 'NoiseLevel': ''average'', 'Caters': 'True', 'HasTV': 'False', 'GoodForMeal': '{'dessert': False, 'latenight': False, 'lunch': True, 'dinner': False, 'brunch': False, 'breakfast': True}', 'RestaurantsTakeOut': 'True', 'RestaurantsGoodForGroups': 'True', 'GoodForKids': 'True', 'Ambience': '{'romantic': False, 'intimate': False, 'classy': False, 'hipster': False, 'divey': False, 'touristy': False, 'trendy': False, 'upscale': False, 'casual': True}', 'Alcohol': ''none'', 'RestaurantsReservations': 'False', 'RestaurantsTableService': 'False', 'DogsAllowed': 'False', 'Restau...</td>\n",
       "      <td>Bakeries, Restaurants, Coffee &amp; Tea, Food, Cuban</td>\n",
       "      <td>{'Monday': '0:0-0:0', 'Tuesday': '6:30-15:0', 'Wednesday': '6:30-15:0', 'Thursday': '6:30-15:0', 'Friday': '6:30-15:0', 'Saturday': '6:30-15:0', 'Sunday': '6:30-15:0'}</td>\n",
       "      <td>9</td>\n",
       "      <td>1</td>\n",
       "      <td>2012</td>\n",
       "    </tr>\n",
       "    <tr>\n",
       "      <th>10197</th>\n",
       "      <td>DWryovIM4VF2vim4p6WYaw</td>\n",
       "      <td>QoezRbYQncpRqyrLH6Iqjg</td>\n",
       "      <td>Coffee and baby bread</td>\n",
       "      <td>2012-10-24 12:37:05</td>\n",
       "      <td>0</td>\n",
       "      <td>La Segunda Central Bakery</td>\n",
       "      <td>2512 N 15th St</td>\n",
       "      <td>Tampa</td>\n",
       "      <td>FL</td>\n",
       "      <td>33605</td>\n",
       "      <td>27.965865</td>\n",
       "      <td>-82.443197</td>\n",
       "      <td>4.5</td>\n",
       "      <td>339</td>\n",
       "      <td>1</td>\n",
       "      <td>{'BikeParking': 'True', 'BusinessAcceptsCreditCards': 'True', 'RestaurantsPriceRange2': '1', 'BusinessParking': '{'garage': False, 'street': True, 'validated': False, 'lot': True, 'valet': False}', 'HappyHour': 'False', 'NoiseLevel': ''average'', 'Caters': 'True', 'HasTV': 'False', 'GoodForMeal': '{'dessert': False, 'latenight': False, 'lunch': True, 'dinner': False, 'brunch': False, 'breakfast': True}', 'RestaurantsTakeOut': 'True', 'RestaurantsGoodForGroups': 'True', 'GoodForKids': 'True', 'Ambience': '{'romantic': False, 'intimate': False, 'classy': False, 'hipster': False, 'divey': False, 'touristy': False, 'trendy': False, 'upscale': False, 'casual': True}', 'Alcohol': ''none'', 'RestaurantsReservations': 'False', 'RestaurantsTableService': 'False', 'DogsAllowed': 'False', 'Restau...</td>\n",
       "      <td>Bakeries, Restaurants, Coffee &amp; Tea, Food, Cuban</td>\n",
       "      <td>{'Monday': '0:0-0:0', 'Tuesday': '6:30-15:0', 'Wednesday': '6:30-15:0', 'Thursday': '6:30-15:0', 'Friday': '6:30-15:0', 'Saturday': '6:30-15:0', 'Sunday': '6:30-15:0'}</td>\n",
       "      <td>9</td>\n",
       "      <td>1</td>\n",
       "      <td>2012</td>\n",
       "    </tr>\n",
       "    <tr>\n",
       "      <th>12900</th>\n",
       "      <td>boRCdL8ez95KwzWe69VoUg</td>\n",
       "      <td>QoezRbYQncpRqyrLH6Iqjg</td>\n",
       "      <td>Such a great place to come and get a Cuban sandwich. You can smell the bread making before you come inside. Just be aware of their opening and closing times. If your in Tampa come here. Very delicious. I have trying other Cuban sandwiches but this place by far knocked them all out of ball park.</td>\n",
       "      <td>2016-10-02 16:53:40</td>\n",
       "      <td>0</td>\n",
       "      <td>La Segunda Central Bakery</td>\n",
       "      <td>2512 N 15th St</td>\n",
       "      <td>Tampa</td>\n",
       "      <td>FL</td>\n",
       "      <td>33605</td>\n",
       "      <td>27.965865</td>\n",
       "      <td>-82.443197</td>\n",
       "      <td>4.5</td>\n",
       "      <td>339</td>\n",
       "      <td>1</td>\n",
       "      <td>{'BikeParking': 'True', 'BusinessAcceptsCreditCards': 'True', 'RestaurantsPriceRange2': '1', 'BusinessParking': '{'garage': False, 'street': True, 'validated': False, 'lot': True, 'valet': False}', 'HappyHour': 'False', 'NoiseLevel': ''average'', 'Caters': 'True', 'HasTV': 'False', 'GoodForMeal': '{'dessert': False, 'latenight': False, 'lunch': True, 'dinner': False, 'brunch': False, 'breakfast': True}', 'RestaurantsTakeOut': 'True', 'RestaurantsGoodForGroups': 'True', 'GoodForKids': 'True', 'Ambience': '{'romantic': False, 'intimate': False, 'classy': False, 'hipster': False, 'divey': False, 'touristy': False, 'trendy': False, 'upscale': False, 'casual': True}', 'Alcohol': ''none'', 'RestaurantsReservations': 'False', 'RestaurantsTableService': 'False', 'DogsAllowed': 'False', 'Restau...</td>\n",
       "      <td>Bakeries, Restaurants, Coffee &amp; Tea, Food, Cuban</td>\n",
       "      <td>{'Monday': '0:0-0:0', 'Tuesday': '6:30-15:0', 'Wednesday': '6:30-15:0', 'Thursday': '6:30-15:0', 'Friday': '6:30-15:0', 'Saturday': '6:30-15:0', 'Sunday': '6:30-15:0'}</td>\n",
       "      <td>9</td>\n",
       "      <td>1</td>\n",
       "      <td>2016</td>\n",
       "    </tr>\n",
       "    <tr>\n",
       "      <th>17547</th>\n",
       "      <td>DWryovIM4VF2vim4p6WYaw</td>\n",
       "      <td>QoezRbYQncpRqyrLH6Iqjg</td>\n",
       "      <td>My last time. Continental and a Cuban</td>\n",
       "      <td>2012-11-09 18:51:34</td>\n",
       "      <td>0</td>\n",
       "      <td>La Segunda Central Bakery</td>\n",
       "      <td>2512 N 15th St</td>\n",
       "      <td>Tampa</td>\n",
       "      <td>FL</td>\n",
       "      <td>33605</td>\n",
       "      <td>27.965865</td>\n",
       "      <td>-82.443197</td>\n",
       "      <td>4.5</td>\n",
       "      <td>339</td>\n",
       "      <td>1</td>\n",
       "      <td>{'BikeParking': 'True', 'BusinessAcceptsCreditCards': 'True', 'RestaurantsPriceRange2': '1', 'BusinessParking': '{'garage': False, 'street': True, 'validated': False, 'lot': True, 'valet': False}', 'HappyHour': 'False', 'NoiseLevel': ''average'', 'Caters': 'True', 'HasTV': 'False', 'GoodForMeal': '{'dessert': False, 'latenight': False, 'lunch': True, 'dinner': False, 'brunch': False, 'breakfast': True}', 'RestaurantsTakeOut': 'True', 'RestaurantsGoodForGroups': 'True', 'GoodForKids': 'True', 'Ambience': '{'romantic': False, 'intimate': False, 'classy': False, 'hipster': False, 'divey': False, 'touristy': False, 'trendy': False, 'upscale': False, 'casual': True}', 'Alcohol': ''none'', 'RestaurantsReservations': 'False', 'RestaurantsTableService': 'False', 'DogsAllowed': 'False', 'Restau...</td>\n",
       "      <td>Bakeries, Restaurants, Coffee &amp; Tea, Food, Cuban</td>\n",
       "      <td>{'Monday': '0:0-0:0', 'Tuesday': '6:30-15:0', 'Wednesday': '6:30-15:0', 'Thursday': '6:30-15:0', 'Friday': '6:30-15:0', 'Saturday': '6:30-15:0', 'Sunday': '6:30-15:0'}</td>\n",
       "      <td>9</td>\n",
       "      <td>1</td>\n",
       "      <td>2012</td>\n",
       "    </tr>\n",
       "  </tbody>\n",
       "</table>\n",
       "</div>"
      ],
      "text/plain": [
       "                      user_id             business_id  \\\n",
       "1      NBN4MgHP9D3cw--SnauTkA  QoezRbYQncpRqyrLH6Iqjg   \n",
       "2956   DWryovIM4VF2vim4p6WYaw  QoezRbYQncpRqyrLH6Iqjg   \n",
       "10197  DWryovIM4VF2vim4p6WYaw  QoezRbYQncpRqyrLH6Iqjg   \n",
       "12900  boRCdL8ez95KwzWe69VoUg  QoezRbYQncpRqyrLH6Iqjg   \n",
       "17547  DWryovIM4VF2vim4p6WYaw  QoezRbYQncpRqyrLH6Iqjg   \n",
       "\n",
       "                                                                                                                                                                                                                                                                                                          text  \\\n",
       "1                                                                                                                                                                                                                                                    They have lots of good deserts and tasty cuban sandwiches   \n",
       "2956                                                                                                                                                                                                                                                                                     Turkey and roast beef   \n",
       "10197                                                                                                                                                                                                                                                                                    Coffee and baby bread   \n",
       "12900  Such a great place to come and get a Cuban sandwich. You can smell the bread making before you come inside. Just be aware of their opening and closing times. If your in Tampa come here. Very delicious. I have trying other Cuban sandwiches but this place by far knocked them all out of ball park.   \n",
       "17547                                                                                                                                                                                                                                                                    My last time. Continental and a Cuban   \n",
       "\n",
       "                     date  compliment_count                       name  \\\n",
       "1     2013-02-05 18:35:10                 0  La Segunda Central Bakery   \n",
       "2956  2012-10-11 13:04:02                 0  La Segunda Central Bakery   \n",
       "10197 2012-10-24 12:37:05                 0  La Segunda Central Bakery   \n",
       "12900 2016-10-02 16:53:40                 0  La Segunda Central Bakery   \n",
       "17547 2012-11-09 18:51:34                 0  La Segunda Central Bakery   \n",
       "\n",
       "              address   city state postal_code   latitude  longitude  stars  \\\n",
       "1      2512 N 15th St  Tampa    FL       33605  27.965865 -82.443197    4.5   \n",
       "2956   2512 N 15th St  Tampa    FL       33605  27.965865 -82.443197    4.5   \n",
       "10197  2512 N 15th St  Tampa    FL       33605  27.965865 -82.443197    4.5   \n",
       "12900  2512 N 15th St  Tampa    FL       33605  27.965865 -82.443197    4.5   \n",
       "17547  2512 N 15th St  Tampa    FL       33605  27.965865 -82.443197    4.5   \n",
       "\n",
       "       review_count  is_open  \\\n",
       "1               339        1   \n",
       "2956            339        1   \n",
       "10197           339        1   \n",
       "12900           339        1   \n",
       "17547           339        1   \n",
       "\n",
       "                                                                                                                                                                                                                                                                                                                                                                                                                                                                                                                                                                                                                                                                                                                                                                                                                            attributes  \\\n",
       "1      {'BikeParking': 'True', 'BusinessAcceptsCreditCards': 'True', 'RestaurantsPriceRange2': '1', 'BusinessParking': '{'garage': False, 'street': True, 'validated': False, 'lot': True, 'valet': False}', 'HappyHour': 'False', 'NoiseLevel': ''average'', 'Caters': 'True', 'HasTV': 'False', 'GoodForMeal': '{'dessert': False, 'latenight': False, 'lunch': True, 'dinner': False, 'brunch': False, 'breakfast': True}', 'RestaurantsTakeOut': 'True', 'RestaurantsGoodForGroups': 'True', 'GoodForKids': 'True', 'Ambience': '{'romantic': False, 'intimate': False, 'classy': False, 'hipster': False, 'divey': False, 'touristy': False, 'trendy': False, 'upscale': False, 'casual': True}', 'Alcohol': ''none'', 'RestaurantsReservations': 'False', 'RestaurantsTableService': 'False', 'DogsAllowed': 'False', 'Restau...   \n",
       "2956   {'BikeParking': 'True', 'BusinessAcceptsCreditCards': 'True', 'RestaurantsPriceRange2': '1', 'BusinessParking': '{'garage': False, 'street': True, 'validated': False, 'lot': True, 'valet': False}', 'HappyHour': 'False', 'NoiseLevel': ''average'', 'Caters': 'True', 'HasTV': 'False', 'GoodForMeal': '{'dessert': False, 'latenight': False, 'lunch': True, 'dinner': False, 'brunch': False, 'breakfast': True}', 'RestaurantsTakeOut': 'True', 'RestaurantsGoodForGroups': 'True', 'GoodForKids': 'True', 'Ambience': '{'romantic': False, 'intimate': False, 'classy': False, 'hipster': False, 'divey': False, 'touristy': False, 'trendy': False, 'upscale': False, 'casual': True}', 'Alcohol': ''none'', 'RestaurantsReservations': 'False', 'RestaurantsTableService': 'False', 'DogsAllowed': 'False', 'Restau...   \n",
       "10197  {'BikeParking': 'True', 'BusinessAcceptsCreditCards': 'True', 'RestaurantsPriceRange2': '1', 'BusinessParking': '{'garage': False, 'street': True, 'validated': False, 'lot': True, 'valet': False}', 'HappyHour': 'False', 'NoiseLevel': ''average'', 'Caters': 'True', 'HasTV': 'False', 'GoodForMeal': '{'dessert': False, 'latenight': False, 'lunch': True, 'dinner': False, 'brunch': False, 'breakfast': True}', 'RestaurantsTakeOut': 'True', 'RestaurantsGoodForGroups': 'True', 'GoodForKids': 'True', 'Ambience': '{'romantic': False, 'intimate': False, 'classy': False, 'hipster': False, 'divey': False, 'touristy': False, 'trendy': False, 'upscale': False, 'casual': True}', 'Alcohol': ''none'', 'RestaurantsReservations': 'False', 'RestaurantsTableService': 'False', 'DogsAllowed': 'False', 'Restau...   \n",
       "12900  {'BikeParking': 'True', 'BusinessAcceptsCreditCards': 'True', 'RestaurantsPriceRange2': '1', 'BusinessParking': '{'garage': False, 'street': True, 'validated': False, 'lot': True, 'valet': False}', 'HappyHour': 'False', 'NoiseLevel': ''average'', 'Caters': 'True', 'HasTV': 'False', 'GoodForMeal': '{'dessert': False, 'latenight': False, 'lunch': True, 'dinner': False, 'brunch': False, 'breakfast': True}', 'RestaurantsTakeOut': 'True', 'RestaurantsGoodForGroups': 'True', 'GoodForKids': 'True', 'Ambience': '{'romantic': False, 'intimate': False, 'classy': False, 'hipster': False, 'divey': False, 'touristy': False, 'trendy': False, 'upscale': False, 'casual': True}', 'Alcohol': ''none'', 'RestaurantsReservations': 'False', 'RestaurantsTableService': 'False', 'DogsAllowed': 'False', 'Restau...   \n",
       "17547  {'BikeParking': 'True', 'BusinessAcceptsCreditCards': 'True', 'RestaurantsPriceRange2': '1', 'BusinessParking': '{'garage': False, 'street': True, 'validated': False, 'lot': True, 'valet': False}', 'HappyHour': 'False', 'NoiseLevel': ''average'', 'Caters': 'True', 'HasTV': 'False', 'GoodForMeal': '{'dessert': False, 'latenight': False, 'lunch': True, 'dinner': False, 'brunch': False, 'breakfast': True}', 'RestaurantsTakeOut': 'True', 'RestaurantsGoodForGroups': 'True', 'GoodForKids': 'True', 'Ambience': '{'romantic': False, 'intimate': False, 'classy': False, 'hipster': False, 'divey': False, 'touristy': False, 'trendy': False, 'upscale': False, 'casual': True}', 'Alcohol': ''none'', 'RestaurantsReservations': 'False', 'RestaurantsTableService': 'False', 'DogsAllowed': 'False', 'Restau...   \n",
       "\n",
       "                                             categories  \\\n",
       "1      Bakeries, Restaurants, Coffee & Tea, Food, Cuban   \n",
       "2956   Bakeries, Restaurants, Coffee & Tea, Food, Cuban   \n",
       "10197  Bakeries, Restaurants, Coffee & Tea, Food, Cuban   \n",
       "12900  Bakeries, Restaurants, Coffee & Tea, Food, Cuban   \n",
       "17547  Bakeries, Restaurants, Coffee & Tea, Food, Cuban   \n",
       "\n",
       "                                                                                                                                                                         hours  \\\n",
       "1      {'Monday': '0:0-0:0', 'Tuesday': '6:30-15:0', 'Wednesday': '6:30-15:0', 'Thursday': '6:30-15:0', 'Friday': '6:30-15:0', 'Saturday': '6:30-15:0', 'Sunday': '6:30-15:0'}   \n",
       "2956   {'Monday': '0:0-0:0', 'Tuesday': '6:30-15:0', 'Wednesday': '6:30-15:0', 'Thursday': '6:30-15:0', 'Friday': '6:30-15:0', 'Saturday': '6:30-15:0', 'Sunday': '6:30-15:0'}   \n",
       "10197  {'Monday': '0:0-0:0', 'Tuesday': '6:30-15:0', 'Wednesday': '6:30-15:0', 'Thursday': '6:30-15:0', 'Friday': '6:30-15:0', 'Saturday': '6:30-15:0', 'Sunday': '6:30-15:0'}   \n",
       "12900  {'Monday': '0:0-0:0', 'Tuesday': '6:30-15:0', 'Wednesday': '6:30-15:0', 'Thursday': '6:30-15:0', 'Friday': '6:30-15:0', 'Saturday': '6:30-15:0', 'Sunday': '6:30-15:0'}   \n",
       "17547  {'Monday': '0:0-0:0', 'Tuesday': '6:30-15:0', 'Wednesday': '6:30-15:0', 'Thursday': '6:30-15:0', 'Friday': '6:30-15:0', 'Saturday': '6:30-15:0', 'Sunday': '6:30-15:0'}   \n",
       "\n",
       "       attribute_count RestaurantsPriceRange2  Year_Tip  \n",
       "1                    9                      1      2013  \n",
       "2956                 9                      1      2012  \n",
       "10197                9                      1      2012  \n",
       "12900                9                      1      2016  \n",
       "17547                9                      1      2012  "
      ]
     },
     "execution_count": 23,
     "metadata": {},
     "output_type": "execute_result"
    }
   ],
   "source": [
    "tip['Year_Tip']=pd.to_datetime(tip['date']).dt.year\n",
    "\n",
    "tip.head()"
   ]
  },
  {
   "cell_type": "markdown",
   "id": "87cbbf89",
   "metadata": {},
   "source": [
    "Get the Tip Count per business"
   ]
  }
 ],
 "metadata": {
  "kernelspec": {
   "display_name": "Python 3 (ipykernel)",
   "language": "python",
   "name": "python3"
  },
  "language_info": {
   "codemirror_mode": {
    "name": "ipython",
    "version": 3
   },
   "file_extension": ".py",
   "mimetype": "text/x-python",
   "name": "python",
   "nbconvert_exporter": "python",
   "pygments_lexer": "ipython3",
   "version": "3.9.13"
  }
 },
 "nbformat": 4,
 "nbformat_minor": 5
}
